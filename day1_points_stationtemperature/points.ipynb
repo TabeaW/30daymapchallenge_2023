{
 "cells": [
  {
   "cell_type": "markdown",
   "metadata": {},
   "source": [
    "* Station data from: https://opendata.dwd.de/climate_environment/CDC/help/stations_list_CLIMAT_data.txt\n",
    "* Data from: https://opendata.dwd.de/climate_environment/CDC/observations_global/CLIMAT/multi_annual/air_temperature_mean_of_daily_max/\n",
    "* GeoData from https://github.com/nvkelso/natural-earth-vector/blob/master/geojson/ne_110m_admin_0_countries.geojson"
   ]
  },
  {
   "cell_type": "code",
   "execution_count": 1,
   "metadata": {},
   "outputs": [],
   "source": [
    "using CSV,DataFrames\n",
    "using GeoMakie, GLMakie"
   ]
  },
  {
   "cell_type": "code",
   "execution_count": 2,
   "metadata": {},
   "outputs": [
    {
     "data": {
      "text/html": [
       "<div><div style = \"float: left;\"><span>822×13 DataFrame</span></div><div style = \"float: right;\"><span style = \"font-style: italic;\">797 rows omitted</span></div><div style = \"clear: both;\"></div></div><div class = \"data-frame\" style = \"overflow-x: scroll;\"><table class = \"data-frame\" style = \"margin-bottom: 6px;\"><thead><tr class = \"header\"><th class = \"rowNumber\" style = \"font-weight: bold; text-align: right;\">Row</th><th style = \"text-align: left;\">Station</th><th style = \"text-align: left;\">Jan</th><th style = \"text-align: left;\">Feb</th><th style = \"text-align: left;\">Mrz</th><th style = \"text-align: left;\">Apr</th><th style = \"text-align: left;\">Mai</th><th style = \"text-align: left;\">Jun</th><th style = \"text-align: left;\">Jul</th><th style = \"text-align: left;\">Aug</th><th style = \"text-align: left;\">Sep</th><th style = \"text-align: left;\">Okt</th><th style = \"text-align: left;\">Nov</th><th style = \"text-align: left;\">Dez</th></tr><tr class = \"subheader headerLastRow\"><th class = \"rowNumber\" style = \"font-weight: bold; text-align: right;\"></th><th title = \"Int64\" style = \"text-align: left;\">Int64</th><th title = \"Float64\" style = \"text-align: left;\">Float64</th><th title = \"Float64\" style = \"text-align: left;\">Float64</th><th title = \"Float64\" style = \"text-align: left;\">Float64</th><th title = \"Float64\" style = \"text-align: left;\">Float64</th><th title = \"Float64\" style = \"text-align: left;\">Float64</th><th title = \"Float64\" style = \"text-align: left;\">Float64</th><th title = \"Float64\" style = \"text-align: left;\">Float64</th><th title = \"Float64\" style = \"text-align: left;\">Float64</th><th title = \"Float64\" style = \"text-align: left;\">Float64</th><th title = \"Float64\" style = \"text-align: left;\">Float64</th><th title = \"Float64\" style = \"text-align: left;\">Float64</th><th title = \"Float64\" style = \"text-align: left;\">Float64</th></tr></thead><tbody><tr><td class = \"rowNumber\" style = \"font-weight: bold; text-align: right;\">1</td><td style = \"text-align: right;\">2080</td><td style = \"text-align: right;\">-11.2</td><td style = \"text-align: right;\">-9.7</td><td style = \"text-align: right;\">-4.8</td><td style = \"text-align: right;\">0.8</td><td style = \"text-align: right;\">7.4</td><td style = \"text-align: right;\">14.7</td><td style = \"text-align: right;\">17.3</td><td style = \"text-align: right;\">14.6</td><td style = \"text-align: right;\">8.8</td><td style = \"text-align: right;\">1.5</td><td style = \"text-align: right;\">-5.3</td><td style = \"text-align: right;\">-9.0</td></tr><tr><td class = \"rowNumber\" style = \"font-weight: bold; text-align: right;\">2</td><td style = \"text-align: right;\">2081</td><td style = \"text-align: right;\">-11.2</td><td style = \"text-align: right;\">-9.7</td><td style = \"text-align: right;\">-4.8</td><td style = \"text-align: right;\">0.8</td><td style = \"text-align: right;\">7.4</td><td style = \"text-align: right;\">14.7</td><td style = \"text-align: right;\">17.3</td><td style = \"text-align: right;\">14.6</td><td style = \"text-align: right;\">8.8</td><td style = \"text-align: right;\">1.5</td><td style = \"text-align: right;\">-5.3</td><td style = \"text-align: right;\">-9.0</td></tr><tr><td class = \"rowNumber\" style = \"font-weight: bold; text-align: right;\">3</td><td style = \"text-align: right;\">2120</td><td style = \"text-align: right;\">-12.5</td><td style = \"text-align: right;\">-4.2</td><td style = \"text-align: right;\">-3.7</td><td style = \"text-align: right;\">1.3</td><td style = \"text-align: right;\">8.9</td><td style = \"text-align: right;\">13.5</td><td style = \"text-align: right;\">15.9</td><td style = \"text-align: right;\">14.2</td><td style = \"text-align: right;\">8.0</td><td style = \"text-align: right;\">4.2</td><td style = \"text-align: right;\">-3.1</td><td style = \"text-align: right;\">-5.3</td></tr><tr><td class = \"rowNumber\" style = \"font-weight: bold; text-align: right;\">4</td><td style = \"text-align: right;\">2287</td><td style = \"text-align: right;\">0.0</td><td style = \"text-align: right;\">0.1</td><td style = \"text-align: right;\">0.1</td><td style = \"text-align: right;\">2.2</td><td style = \"text-align: right;\">8.1</td><td style = \"text-align: right;\">13.4</td><td style = \"text-align: right;\">18.9</td><td style = \"text-align: right;\">16.1</td><td style = \"text-align: right;\">12.2</td><td style = \"text-align: right;\">9.4</td><td style = \"text-align: right;\">4.0</td><td style = \"text-align: right;\">2.2</td></tr><tr><td class = \"rowNumber\" style = \"font-weight: bold; text-align: right;\">5</td><td style = \"text-align: right;\">2288</td><td style = \"text-align: right;\">0.0</td><td style = \"text-align: right;\">0.1</td><td style = \"text-align: right;\">0.1</td><td style = \"text-align: right;\">2.2</td><td style = \"text-align: right;\">8.1</td><td style = \"text-align: right;\">13.4</td><td style = \"text-align: right;\">18.9</td><td style = \"text-align: right;\">16.1</td><td style = \"text-align: right;\">12.2</td><td style = \"text-align: right;\">9.4</td><td style = \"text-align: right;\">4.0</td><td style = \"text-align: right;\">2.2</td></tr><tr><td class = \"rowNumber\" style = \"font-weight: bold; text-align: right;\">6</td><td style = \"text-align: right;\">2418</td><td style = \"text-align: right;\">-1.5</td><td style = \"text-align: right;\">-0.9</td><td style = \"text-align: right;\">3.3</td><td style = \"text-align: right;\">8.6</td><td style = \"text-align: right;\">15.4</td><td style = \"text-align: right;\">20.1</td><td style = \"text-align: right;\">21.1</td><td style = \"text-align: right;\">20.2</td><td style = \"text-align: right;\">15.5</td><td style = \"text-align: right;\">10.0</td><td style = \"text-align: right;\">4.1</td><td style = \"text-align: right;\">0.1</td></tr><tr><td class = \"rowNumber\" style = \"font-weight: bold; text-align: right;\">7</td><td style = \"text-align: right;\">2512</td><td style = \"text-align: right;\">0.6</td><td style = \"text-align: right;\">1.1</td><td style = \"text-align: right;\">4.5</td><td style = \"text-align: right;\">9.2</td><td style = \"text-align: right;\">15.6</td><td style = \"text-align: right;\">19.2</td><td style = \"text-align: right;\">20.1</td><td style = \"text-align: right;\">19.6</td><td style = \"text-align: right;\">15.8</td><td style = \"text-align: right;\">11.4</td><td style = \"text-align: right;\">6.2</td><td style = \"text-align: right;\">2.6</td></tr><tr><td class = \"rowNumber\" style = \"font-weight: bold; text-align: right;\">8</td><td style = \"text-align: right;\">2550</td><td style = \"text-align: right;\">-1.1</td><td style = \"text-align: right;\">-0.5</td><td style = \"text-align: right;\">3.0</td><td style = \"text-align: right;\">8.5</td><td style = \"text-align: right;\">15.2</td><td style = \"text-align: right;\">19.6</td><td style = \"text-align: right;\">20.5</td><td style = \"text-align: right;\">19.6</td><td style = \"text-align: right;\">14.7</td><td style = \"text-align: right;\">9.8</td><td style = \"text-align: right;\">4.0</td><td style = \"text-align: right;\">0.6</td></tr><tr><td class = \"rowNumber\" style = \"font-weight: bold; text-align: right;\">9</td><td style = \"text-align: right;\">2584</td><td style = \"text-align: right;\">3.1</td><td style = \"text-align: right;\">3.8</td><td style = \"text-align: right;\">3.8</td><td style = \"text-align: right;\">5.8</td><td style = \"text-align: right;\">9.8</td><td style = \"text-align: right;\">15.2</td><td style = \"text-align: right;\">19.0</td><td style = \"text-align: right;\">18.3</td><td style = \"text-align: right;\">15.1</td><td style = \"text-align: right;\">11.5</td><td style = \"text-align: right;\">6.4</td><td style = \"text-align: right;\">4.2</td></tr><tr><td class = \"rowNumber\" style = \"font-weight: bold; text-align: right;\">10</td><td style = \"text-align: right;\">2801</td><td style = \"text-align: right;\">-9.6</td><td style = \"text-align: right;\">-8.6</td><td style = \"text-align: right;\">-5.2</td><td style = \"text-align: right;\">-0.4</td><td style = \"text-align: right;\">5.2</td><td style = \"text-align: right;\">12.0</td><td style = \"text-align: right;\">15.1</td><td style = \"text-align: right;\">13.1</td><td style = \"text-align: right;\">7.8</td><td style = \"text-align: right;\">1.4</td><td style = \"text-align: right;\">-7.8</td><td style = \"text-align: right;\">-7.9</td></tr><tr><td class = \"rowNumber\" style = \"font-weight: bold; text-align: right;\">11</td><td style = \"text-align: right;\">2805</td><td style = \"text-align: right;\">-10.6</td><td style = \"text-align: right;\">-9.3</td><td style = \"text-align: right;\">-4.1</td><td style = \"text-align: right;\">1.4</td><td style = \"text-align: right;\">7.3</td><td style = \"text-align: right;\">14.6</td><td style = \"text-align: right;\">18.0</td><td style = \"text-align: right;\">14.9</td><td style = \"text-align: right;\">9.0</td><td style = \"text-align: right;\">1.7</td><td style = \"text-align: right;\">-4.5</td><td style = \"text-align: right;\">-8.4</td></tr><tr><td class = \"rowNumber\" style = \"font-weight: bold; text-align: right;\">12</td><td style = \"text-align: right;\">2836</td><td style = \"text-align: right;\">-10.5</td><td style = \"text-align: right;\">-9.2</td><td style = \"text-align: right;\">-3.4</td><td style = \"text-align: right;\">2.5</td><td style = \"text-align: right;\">9.5</td><td style = \"text-align: right;\">16.6</td><td style = \"text-align: right;\">19.0</td><td style = \"text-align: right;\">15.9</td><td style = \"text-align: right;\">9.7</td><td style = \"text-align: right;\">2.5</td><td style = \"text-align: right;\">-4.2</td><td style = \"text-align: right;\">-8.5</td></tr><tr><td class = \"rowNumber\" style = \"font-weight: bold; text-align: right;\">13</td><td style = \"text-align: right;\">2869</td><td style = \"text-align: right;\">-10.3</td><td style = \"text-align: right;\">-9.1</td><td style = \"text-align: right;\">-3.4</td><td style = \"text-align: right;\">2.3</td><td style = \"text-align: right;\">9.7</td><td style = \"text-align: right;\">16.4</td><td style = \"text-align: right;\">18.8</td><td style = \"text-align: right;\">15.8</td><td style = \"text-align: right;\">9.6</td><td style = \"text-align: right;\">2.6</td><td style = \"text-align: right;\">-3.5</td><td style = \"text-align: right;\">-7.8</td></tr><tr><td style = \"text-align: right;\">&vellip;</td><td style = \"text-align: right;\">&vellip;</td><td style = \"text-align: right;\">&vellip;</td><td style = \"text-align: right;\">&vellip;</td><td style = \"text-align: right;\">&vellip;</td><td style = \"text-align: right;\">&vellip;</td><td style = \"text-align: right;\">&vellip;</td><td style = \"text-align: right;\">&vellip;</td><td style = \"text-align: right;\">&vellip;</td><td style = \"text-align: right;\">&vellip;</td><td style = \"text-align: right;\">&vellip;</td><td style = \"text-align: right;\">&vellip;</td><td style = \"text-align: right;\">&vellip;</td><td style = \"text-align: right;\">&vellip;</td></tr><tr><td class = \"rowNumber\" style = \"font-weight: bold; text-align: right;\">811</td><td style = \"text-align: right;\">96413</td><td style = \"text-align: right;\">29.6</td><td style = \"text-align: right;\">30.0</td><td style = \"text-align: right;\">31.0</td><td style = \"text-align: right;\">32.1</td><td style = \"text-align: right;\">32.7</td><td style = \"text-align: right;\">32.6</td><td style = \"text-align: right;\">32.3</td><td style = \"text-align: right;\">31.7</td><td style = \"text-align: right;\">31.5</td><td style = \"text-align: right;\">31.9</td><td style = \"text-align: right;\">31.4</td><td style = \"text-align: right;\">30.5</td></tr><tr><td class = \"rowNumber\" style = \"font-weight: bold; text-align: right;\">812</td><td style = \"text-align: right;\">96421</td><td style = \"text-align: right;\">30.4</td><td style = \"text-align: right;\">31.2</td><td style = \"text-align: right;\">31.9</td><td style = \"text-align: right;\">32.7</td><td style = \"text-align: right;\">33.1</td><td style = \"text-align: right;\">33.0</td><td style = \"text-align: right;\">32.7</td><td style = \"text-align: right;\">32.7</td><td style = \"text-align: right;\">32.2</td><td style = \"text-align: right;\">32.2</td><td style = \"text-align: right;\">31.8</td><td style = \"text-align: right;\">31.2</td></tr><tr><td class = \"rowNumber\" style = \"font-weight: bold; text-align: right;\">813</td><td style = \"text-align: right;\">96441</td><td style = \"text-align: right;\">29.5</td><td style = \"text-align: right;\">29.8</td><td style = \"text-align: right;\">30.4</td><td style = \"text-align: right;\">31.2</td><td style = \"text-align: right;\">31.6</td><td style = \"text-align: right;\">31.7</td><td style = \"text-align: right;\">31.4</td><td style = \"text-align: right;\">31.4</td><td style = \"text-align: right;\">31.0</td><td style = \"text-align: right;\">30.9</td><td style = \"text-align: right;\">30.6</td><td style = \"text-align: right;\">30.2</td></tr><tr><td class = \"rowNumber\" style = \"font-weight: bold; text-align: right;\">814</td><td style = \"text-align: right;\">96449</td><td style = \"text-align: right;\">29.7</td><td style = \"text-align: right;\">30.0</td><td style = \"text-align: right;\">30.6</td><td style = \"text-align: right;\">31.2</td><td style = \"text-align: right;\">31.5</td><td style = \"text-align: right;\">31.4</td><td style = \"text-align: right;\">31.1</td><td style = \"text-align: right;\">31.2</td><td style = \"text-align: right;\">31.0</td><td style = \"text-align: right;\">30.7</td><td style = \"text-align: right;\">30.0</td><td style = \"text-align: right;\">30.3</td></tr><tr><td class = \"rowNumber\" style = \"font-weight: bold; text-align: right;\">815</td><td style = \"text-align: right;\">96465</td><td style = \"text-align: right;\">29.7</td><td style = \"text-align: right;\">30.2</td><td style = \"text-align: right;\">31.5</td><td style = \"text-align: right;\">32.2</td><td style = \"text-align: right;\">31.7</td><td style = \"text-align: right;\">31.5</td><td style = \"text-align: right;\">31.0</td><td style = \"text-align: right;\">31.3</td><td style = \"text-align: right;\">31.0</td><td style = \"text-align: right;\">30.8</td><td style = \"text-align: right;\">30.7</td><td style = \"text-align: right;\">30.4</td></tr><tr><td class = \"rowNumber\" style = \"font-weight: bold; text-align: right;\">816</td><td style = \"text-align: right;\">96471</td><td style = \"text-align: right;\">29.8</td><td style = \"text-align: right;\">30.1</td><td style = \"text-align: right;\">30.9</td><td style = \"text-align: right;\">31.6</td><td style = \"text-align: right;\">31.4</td><td style = \"text-align: right;\">31.3</td><td style = \"text-align: right;\">31.0</td><td style = \"text-align: right;\">31.1</td><td style = \"text-align: right;\">30.9</td><td style = \"text-align: right;\">30.8</td><td style = \"text-align: right;\">30.6</td><td style = \"text-align: right;\">30.4</td></tr><tr><td class = \"rowNumber\" style = \"font-weight: bold; text-align: right;\">817</td><td style = \"text-align: right;\">96481</td><td style = \"text-align: right;\">31.6</td><td style = \"text-align: right;\">31.4</td><td style = \"text-align: right;\">31.9</td><td style = \"text-align: right;\">32.3</td><td style = \"text-align: right;\">32.4</td><td style = \"text-align: right;\">31.8</td><td style = \"text-align: right;\">31.3</td><td style = \"text-align: right;\">31.5</td><td style = \"text-align: right;\">31.7</td><td style = \"text-align: right;\">31.9</td><td style = \"text-align: right;\">32.0</td><td style = \"text-align: right;\">31.9</td></tr><tr><td class = \"rowNumber\" style = \"font-weight: bold; text-align: right;\">818</td><td style = \"text-align: right;\">96491</td><td style = \"text-align: right;\">29.2</td><td style = \"text-align: right;\">29.5</td><td style = \"text-align: right;\">30.5</td><td style = \"text-align: right;\">31.6</td><td style = \"text-align: right;\">32.5</td><td style = \"text-align: right;\">32.2</td><td style = \"text-align: right;\">32.2</td><td style = \"text-align: right;\">32.3</td><td style = \"text-align: right;\">31.5</td><td style = \"text-align: right;\">31.6</td><td style = \"text-align: right;\">30.7</td><td style = \"text-align: right;\">29.8</td></tr><tr><td class = \"rowNumber\" style = \"font-weight: bold; text-align: right;\">819</td><td style = \"text-align: right;\">96749</td><td style = \"text-align: right;\">29.7</td><td style = \"text-align: right;\">30.1</td><td style = \"text-align: right;\">31.1</td><td style = \"text-align: right;\">31.7</td><td style = \"text-align: right;\">31.8</td><td style = \"text-align: right;\">31.8</td><td style = \"text-align: right;\">31.4</td><td style = \"text-align: right;\">31.6</td><td style = \"text-align: right;\">32.1</td><td style = \"text-align: right;\">32.4</td><td style = \"text-align: right;\">32.1</td><td style = \"text-align: right;\">30.8</td></tr><tr><td class = \"rowNumber\" style = \"font-weight: bold; text-align: right;\">820</td><td style = \"text-align: right;\">96995</td><td style = \"text-align: right;\">27.9</td><td style = \"text-align: right;\">28.1</td><td style = \"text-align: right;\">28.3</td><td style = \"text-align: right;\">28.3</td><td style = \"text-align: right;\">27.8</td><td style = \"text-align: right;\">27.0</td><td style = \"text-align: right;\">26.3</td><td style = \"text-align: right;\">26.1</td><td style = \"text-align: right;\">26.2</td><td style = \"text-align: right;\">27.0</td><td style = \"text-align: right;\">27.4</td><td style = \"text-align: right;\">27.8</td></tr><tr><td class = \"rowNumber\" style = \"font-weight: bold; text-align: right;\">821</td><td style = \"text-align: right;\">97014</td><td style = \"text-align: right;\">29.4</td><td style = \"text-align: right;\">29.5</td><td style = \"text-align: right;\">30.0</td><td style = \"text-align: right;\">31.4</td><td style = \"text-align: right;\">31.4</td><td style = \"text-align: right;\">31.2</td><td style = \"text-align: right;\">31.3</td><td style = \"text-align: right;\">32.0</td><td style = \"text-align: right;\">32.3</td><td style = \"text-align: right;\">31.7</td><td style = \"text-align: right;\">30.9</td><td style = \"text-align: right;\">30.1</td></tr><tr><td class = \"rowNumber\" style = \"font-weight: bold; text-align: right;\">822</td><td style = \"text-align: right;\">97072</td><td style = \"text-align: right;\">32.1</td><td style = \"text-align: right;\">31.8</td><td style = \"text-align: right;\">31.5</td><td style = \"text-align: right;\">33.0</td><td style = \"text-align: right;\">33.0</td><td style = \"text-align: right;\">32.8</td><td style = \"text-align: right;\">32.4</td><td style = \"text-align: right;\">32.8</td><td style = \"text-align: right;\">32.8</td><td style = \"text-align: right;\">32.7</td><td style = \"text-align: right;\">32.8</td><td style = \"text-align: right;\">32.1</td></tr></tbody></table></div>"
      ],
      "text/latex": [
       "\\begin{tabular}{r|cccccccccc}\n",
       "\t& Station & Jan & Feb & Mrz & Apr & Mai & Jun & Jul & Aug & \\\\\n",
       "\t\\hline\n",
       "\t& Int64 & Float64 & Float64 & Float64 & Float64 & Float64 & Float64 & Float64 & Float64 & \\\\\n",
       "\t\\hline\n",
       "\t1 & 2080 & -11.2 & -9.7 & -4.8 & 0.8 & 7.4 & 14.7 & 17.3 & 14.6 & $\\dots$ \\\\\n",
       "\t2 & 2081 & -11.2 & -9.7 & -4.8 & 0.8 & 7.4 & 14.7 & 17.3 & 14.6 & $\\dots$ \\\\\n",
       "\t3 & 2120 & -12.5 & -4.2 & -3.7 & 1.3 & 8.9 & 13.5 & 15.9 & 14.2 & $\\dots$ \\\\\n",
       "\t4 & 2287 & 0.0 & 0.1 & 0.1 & 2.2 & 8.1 & 13.4 & 18.9 & 16.1 & $\\dots$ \\\\\n",
       "\t5 & 2288 & 0.0 & 0.1 & 0.1 & 2.2 & 8.1 & 13.4 & 18.9 & 16.1 & $\\dots$ \\\\\n",
       "\t6 & 2418 & -1.5 & -0.9 & 3.3 & 8.6 & 15.4 & 20.1 & 21.1 & 20.2 & $\\dots$ \\\\\n",
       "\t7 & 2512 & 0.6 & 1.1 & 4.5 & 9.2 & 15.6 & 19.2 & 20.1 & 19.6 & $\\dots$ \\\\\n",
       "\t8 & 2550 & -1.1 & -0.5 & 3.0 & 8.5 & 15.2 & 19.6 & 20.5 & 19.6 & $\\dots$ \\\\\n",
       "\t9 & 2584 & 3.1 & 3.8 & 3.8 & 5.8 & 9.8 & 15.2 & 19.0 & 18.3 & $\\dots$ \\\\\n",
       "\t10 & 2801 & -9.6 & -8.6 & -5.2 & -0.4 & 5.2 & 12.0 & 15.1 & 13.1 & $\\dots$ \\\\\n",
       "\t11 & 2805 & -10.6 & -9.3 & -4.1 & 1.4 & 7.3 & 14.6 & 18.0 & 14.9 & $\\dots$ \\\\\n",
       "\t12 & 2836 & -10.5 & -9.2 & -3.4 & 2.5 & 9.5 & 16.6 & 19.0 & 15.9 & $\\dots$ \\\\\n",
       "\t13 & 2869 & -10.3 & -9.1 & -3.4 & 2.3 & 9.7 & 16.4 & 18.8 & 15.8 & $\\dots$ \\\\\n",
       "\t14 & 2875 & -7.4 & -6.8 & -1.7 & 4.4 & 12.2 & 17.9 & 20.4 & 17.8 & $\\dots$ \\\\\n",
       "\t15 & 2897 & -8.6 & -7.6 & -1.8 & 4.3 & 12.6 & 18.4 & 20.4 & 17.5 & $\\dots$ \\\\\n",
       "\t16 & 2912 & -4.6 & -4.3 & 0.1 & 5.7 & 13.4 & 18.6 & 20.3 & 18.4 & $\\dots$ \\\\\n",
       "\t17 & 2929 & -8.2 & -7.2 & -1.3 & 4.9 & 13.5 & 19.0 & 21.0 & 18.3 & $\\dots$ \\\\\n",
       "\t18 & 2935 & -6.8 & -5.9 & -0.4 & 5.7 & 14.3 & 19.5 & 20.8 & 18.2 & $\\dots$ \\\\\n",
       "\t19 & 2942 & -5.1 & -4.6 & 0.2 & 6.3 & 14.7 & 19.7 & 21.1 & 18.8 & $\\dots$ \\\\\n",
       "\t20 & 2958 & -6.5 & -5.7 & -2.1 & 6.3 & 14.8 & 19.7 & 21.3 & 19.1 & $\\dots$ \\\\\n",
       "\t21 & 2963 & -4.6 & -4.1 & 0.5 & 6.8 & 15.0 & 19.7 & 20.9 & 19.1 & $\\dots$ \\\\\n",
       "\t22 & 2972 & -3.3 & -3.0 & 1.2 & 7.4 & 15.2 & 20.2 & 21.3 & 19.7 & $\\dots$ \\\\\n",
       "\t23 & 2974 & -4.1 & -3.7 & 0.6 & 7.0 & 15.2 & 20.0 & 21.3 & 19.6 & $\\dots$ \\\\\n",
       "\t24 & 3005 & 5.3 & 5.1 & 6.0 & 7.7 & 10.0 & 12.5 & 13.7 & 14.1 & $\\dots$ \\\\\n",
       "\t$\\dots$ & $\\dots$ & $\\dots$ & $\\dots$ & $\\dots$ & $\\dots$ & $\\dots$ & $\\dots$ & $\\dots$ & $\\dots$ &  \\\\\n",
       "\\end{tabular}\n"
      ],
      "text/plain": [
       "\u001b[1m822×13 DataFrame\u001b[0m\n",
       "\u001b[1m Row \u001b[0m│\u001b[1m Station \u001b[0m\u001b[1m Jan     \u001b[0m\u001b[1m Feb     \u001b[0m\u001b[1m Mrz     \u001b[0m\u001b[1m Apr     \u001b[0m\u001b[1m Mai     \u001b[0m\u001b[1m Jun     \u001b[0m\u001b[1m Jul     \u001b[0m\u001b[1m\u001b[0m ⋯\n",
       "     │\u001b[90m Int64   \u001b[0m\u001b[90m Float64 \u001b[0m\u001b[90m Float64 \u001b[0m\u001b[90m Float64 \u001b[0m\u001b[90m Float64 \u001b[0m\u001b[90m Float64 \u001b[0m\u001b[90m Float64 \u001b[0m\u001b[90m Float64 \u001b[0m\u001b[90m\u001b[0m ⋯\n",
       "─────┼──────────────────────────────────────────────────────────────────────────\n",
       "   1 │    2080    -11.2     -9.7     -4.8      0.8      7.4     14.7     17.3  ⋯\n",
       "   2 │    2081    -11.2     -9.7     -4.8      0.8      7.4     14.7     17.3\n",
       "   3 │    2120    -12.5     -4.2     -3.7      1.3      8.9     13.5     15.9\n",
       "   4 │    2287      0.0      0.1      0.1      2.2      8.1     13.4     18.9\n",
       "   5 │    2288      0.0      0.1      0.1      2.2      8.1     13.4     18.9  ⋯\n",
       "   6 │    2418     -1.5     -0.9      3.3      8.6     15.4     20.1     21.1\n",
       "   7 │    2512      0.6      1.1      4.5      9.2     15.6     19.2     20.1\n",
       "   8 │    2550     -1.1     -0.5      3.0      8.5     15.2     19.6     20.5\n",
       "  ⋮  │    ⋮        ⋮        ⋮        ⋮        ⋮        ⋮        ⋮        ⋮     ⋱\n",
       " 816 │   96471     29.8     30.1     30.9     31.6     31.4     31.3     31.0  ⋯\n",
       " 817 │   96481     31.6     31.4     31.9     32.3     32.4     31.8     31.3\n",
       " 818 │   96491     29.2     29.5     30.5     31.6     32.5     32.2     32.2\n",
       " 819 │   96749     29.7     30.1     31.1     31.7     31.8     31.8     31.4\n",
       " 820 │   96995     27.9     28.1     28.3     28.3     27.8     27.0     26.3  ⋯\n",
       " 821 │   97014     29.4     29.5     30.0     31.4     31.4     31.2     31.3\n",
       " 822 │   97072     32.1     31.8     31.5     33.0     33.0     32.8     32.4\n",
       "\u001b[36m                                                  5 columns and 807 rows omitted\u001b[0m"
      ]
     },
     "metadata": {},
     "output_type": "display_data"
    }
   ],
   "source": [
    "values=CSV.File(\"data/mean_max.csv\")|>DataFrame\n",
    "values=dropmissing(values)"
   ]
  },
  {
   "cell_type": "code",
   "execution_count": 3,
   "metadata": {},
   "outputs": [
    {
     "data": {
      "text/html": [
       "<div><div style = \"float: left;\"><span>4586×6 DataFrame</span></div><div style = \"float: right;\"><span style = \"font-style: italic;\">4561 rows omitted</span></div><div style = \"clear: both;\"></div></div><div class = \"data-frame\" style = \"overflow-x: scroll;\"><table class = \"data-frame\" style = \"margin-bottom: 6px;\"><thead><tr class = \"header\"><th class = \"rowNumber\" style = \"font-weight: bold; text-align: right;\">Row</th><th style = \"text-align: left;\">WMO-Station ID</th><th style = \"text-align: left;\">StationName</th><th style = \"text-align: left;\">Latitude</th><th style = \"text-align: left;\">Longitude</th><th style = \"text-align: left;\">Height</th><th style = \"text-align: left;\">Country</th></tr><tr class = \"subheader headerLastRow\"><th class = \"rowNumber\" style = \"font-weight: bold; text-align: right;\"></th><th title = \"Int64\" style = \"text-align: left;\">Int64</th><th title = \"String\" style = \"text-align: left;\">String</th><th title = \"String7\" style = \"text-align: left;\">String7</th><th title = \"String15\" style = \"text-align: left;\">String15</th><th title = \"String7\" style = \"text-align: left;\">String7</th><th title = \"String\" style = \"text-align: left;\">String</th></tr></thead><tbody><tr><td class = \"rowNumber\" style = \"font-weight: bold; text-align: right;\">1</td><td style = \"text-align: right;\">1001</td><td style = \"text-align: left;\"> Jan Mayen</td><td style = \"text-align: left;\"> 70.94</td><td style = \"text-align: left;\"> -08.67</td><td style = \"text-align: left;\"> 9</td><td style = \"text-align: left;\"> Norway</td></tr><tr><td class = \"rowNumber\" style = \"font-weight: bold; text-align: right;\">2</td><td style = \"text-align: right;\">1005</td><td style = \"text-align: left;\"> Isfjord Radio</td><td style = \"text-align: left;\"> 78.06</td><td style = \"text-align: left;\"> 13.63</td><td style = \"text-align: left;\"> 9</td><td style = \"text-align: left;\"> Norway</td></tr><tr><td class = \"rowNumber\" style = \"font-weight: bold; text-align: right;\">3</td><td style = \"text-align: right;\">1007</td><td style = \"text-align: left;\"> Ny-Alesund</td><td style = \"text-align: left;\"> 78.92</td><td style = \"text-align: left;\"> 11.93</td><td style = \"text-align: left;\"> 8</td><td style = \"text-align: left;\"> Norway</td></tr><tr><td class = \"rowNumber\" style = \"font-weight: bold; text-align: right;\">4</td><td style = \"text-align: right;\">1008</td><td style = \"text-align: left;\"> Svalbard</td><td style = \"text-align: left;\"> 78.25</td><td style = \"text-align: left;\"> 15.50</td><td style = \"text-align: left;\"> 27</td><td style = \"text-align: left;\"> Norway</td></tr><tr><td class = \"rowNumber\" style = \"font-weight: bold; text-align: right;\">5</td><td style = \"text-align: right;\">1025</td><td style = \"text-align: left;\"> Tromso</td><td style = \"text-align: left;\"> 69.68</td><td style = \"text-align: left;\"> 18.91</td><td style = \"text-align: left;\"> 9</td><td style = \"text-align: left;\"> Norway</td></tr><tr><td class = \"rowNumber\" style = \"font-weight: bold; text-align: right;\">6</td><td style = \"text-align: right;\">1026</td><td style = \"text-align: left;\"> Tromso</td><td style = \"text-align: left;\"> 69.65</td><td style = \"text-align: left;\"> 18.94</td><td style = \"text-align: left;\"> 114</td><td style = \"text-align: left;\"> Norway</td></tr><tr><td class = \"rowNumber\" style = \"font-weight: bold; text-align: right;\">7</td><td style = \"text-align: right;\">1028</td><td style = \"text-align: left;\"> Bjornoya</td><td style = \"text-align: left;\"> 74.50</td><td style = \"text-align: left;\"> 19.00</td><td style = \"text-align: left;\"> 16</td><td style = \"text-align: left;\"> Norway</td></tr><tr><td class = \"rowNumber\" style = \"font-weight: bold; text-align: right;\">8</td><td style = \"text-align: right;\">1065</td><td style = \"text-align: left;\"> Karasjok</td><td style = \"text-align: left;\"> 69.46</td><td style = \"text-align: left;\"> 25.50</td><td style = \"text-align: left;\"> 131</td><td style = \"text-align: left;\"> Norway</td></tr><tr><td class = \"rowNumber\" style = \"font-weight: bold; text-align: right;\">9</td><td style = \"text-align: right;\">1098</td><td style = \"text-align: left;\"> Vardo</td><td style = \"text-align: left;\"> 70.37</td><td style = \"text-align: left;\"> 31.10</td><td style = \"text-align: left;\"> 15</td><td style = \"text-align: left;\"> Norway</td></tr><tr><td class = \"rowNumber\" style = \"font-weight: bold; text-align: right;\">10</td><td style = \"text-align: right;\">1114</td><td style = \"text-align: left;\"> Reipa</td><td style = \"text-align: left;\"> 66.90</td><td style = \"text-align: left;\"> 13.65</td><td style = \"text-align: left;\"> 9</td><td style = \"text-align: left;\"> Norway</td></tr><tr><td class = \"rowNumber\" style = \"font-weight: bold; text-align: right;\">11</td><td style = \"text-align: right;\">1152</td><td style = \"text-align: left;\"> Bodo</td><td style = \"text-align: left;\"> 67.27</td><td style = \"text-align: left;\"> 14.36</td><td style = \"text-align: left;\"> 13</td><td style = \"text-align: left;\"> Norway</td></tr><tr><td class = \"rowNumber\" style = \"font-weight: bold; text-align: right;\">12</td><td style = \"text-align: right;\">1212</td><td style = \"text-align: left;\"> Ona II</td><td style = \"text-align: left;\"> 62.86</td><td style = \"text-align: left;\"> 06.54</td><td style = \"text-align: left;\"> 15</td><td style = \"text-align: left;\"> Norway</td></tr><tr><td class = \"rowNumber\" style = \"font-weight: bold; text-align: right;\">13</td><td style = \"text-align: right;\">1233</td><td style = \"text-align: left;\"> Dombaas</td><td style = \"text-align: left;\"> 62.07</td><td style = \"text-align: left;\"> 09.12</td><td style = \"text-align: left;\"> 638</td><td style = \"text-align: left;\"> Norway</td></tr><tr><td style = \"text-align: right;\">&vellip;</td><td style = \"text-align: right;\">&vellip;</td><td style = \"text-align: right;\">&vellip;</td><td style = \"text-align: right;\">&vellip;</td><td style = \"text-align: right;\">&vellip;</td><td style = \"text-align: right;\">&vellip;</td><td style = \"text-align: right;\">&vellip;</td></tr><tr><td class = \"rowNumber\" style = \"font-weight: bold; text-align: right;\">4575</td><td style = \"text-align: right;\">98618</td><td style = \"text-align: left;\"> Puerto Princesa (SY)</td><td style = \"text-align: left;\"> 09.75</td><td style = \"text-align: left;\"> 118.73</td><td style = \"text-align: left;\"> 13</td><td style = \"text-align: left;\"> Philippines</td></tr><tr><td class = \"rowNumber\" style = \"font-weight: bold; text-align: right;\">4576</td><td style = \"text-align: right;\">98630</td><td style = \"text-align: left;\"> Cuyo (SY)</td><td style = \"text-align: left;\"> 10.85</td><td style = \"text-align: left;\"> 121.03</td><td style = \"text-align: left;\"> 3</td><td style = \"text-align: left;\"> Philippines</td></tr><tr><td class = \"rowNumber\" style = \"font-weight: bold; text-align: right;\">4577</td><td style = \"text-align: right;\">98637</td><td style = \"text-align: left;\"> Iloilo</td><td style = \"text-align: left;\"> 10.71</td><td style = \"text-align: left;\"> 122.55</td><td style = \"text-align: left;\"> 8</td><td style = \"text-align: left;\"> Philippines</td></tr><tr><td class = \"rowNumber\" style = \"font-weight: bold; text-align: right;\">4578</td><td style = \"text-align: right;\">98644</td><td style = \"text-align: left;\"> Tagbilaran</td><td style = \"text-align: left;\"> 09.67</td><td style = \"text-align: left;\"> 123.86</td><td style = \"text-align: left;\"> 25</td><td style = \"text-align: left;\"> Philippines</td></tr><tr><td class = \"rowNumber\" style = \"font-weight: bold; text-align: right;\">4579</td><td style = \"text-align: right;\">98645</td><td style = \"text-align: left;\"> Cebu City/Lahug</td><td style = \"text-align: left;\"> 10.33</td><td style = \"text-align: left;\"> 123.90</td><td style = \"text-align: left;\"> 35</td><td style = \"text-align: left;\"> Philippines</td></tr><tr><td class = \"rowNumber\" style = \"font-weight: bold; text-align: right;\">4580</td><td style = \"text-align: right;\">98646</td><td style = \"text-align: left;\"> Mactan</td><td style = \"text-align: left;\"> 10.32</td><td style = \"text-align: left;\"> 123.98</td><td style = \"text-align: left;\"> 24</td><td style = \"text-align: left;\"> Philippines</td></tr><tr><td class = \"rowNumber\" style = \"font-weight: bold; text-align: right;\">4581</td><td style = \"text-align: right;\">98653</td><td style = \"text-align: left;\"> Surigao</td><td style = \"text-align: left;\"> 09.78</td><td style = \"text-align: left;\"> 125.49</td><td style = \"text-align: left;\"> 40</td><td style = \"text-align: left;\"> Philippines</td></tr><tr><td class = \"rowNumber\" style = \"font-weight: bold; text-align: right;\">4582</td><td style = \"text-align: right;\">98748</td><td style = \"text-align: left;\"> Cagayan de Oro</td><td style = \"text-align: left;\"> 08.48</td><td style = \"text-align: left;\"> 124.65</td><td style = \"text-align: left;\"> 5</td><td style = \"text-align: left;\"> Philippines</td></tr><tr><td class = \"rowNumber\" style = \"font-weight: bold; text-align: right;\">4583</td><td style = \"text-align: right;\">98755</td><td style = \"text-align: left;\"> Hinatuan</td><td style = \"text-align: left;\"> 08.37</td><td style = \"text-align: left;\"> 126.34</td><td style = \"text-align: left;\"> 3</td><td style = \"text-align: left;\"> Philippines</td></tr><tr><td class = \"rowNumber\" style = \"font-weight: bold; text-align: right;\">4584</td><td style = \"text-align: right;\">98836</td><td style = \"text-align: left;\"> Zamboanga</td><td style = \"text-align: left;\"> 06.92</td><td style = \"text-align: left;\"> 122.06</td><td style = \"text-align: left;\"> 6</td><td style = \"text-align: left;\"> Philippines</td></tr><tr><td class = \"rowNumber\" style = \"font-weight: bold; text-align: right;\">4585</td><td style = \"text-align: right;\">98851</td><td style = \"text-align: left;\"> General Santos</td><td style = \"text-align: left;\"> 06.06</td><td style = \"text-align: left;\"> 125.10</td><td style = \"text-align: left;\"> 133</td><td style = \"text-align: left;\"> Philippines</td></tr><tr><td class = \"rowNumber\" style = \"font-weight: bold; text-align: right;\">4586</td><td style = \"text-align: right;\">99090</td><td style = \"text-align: left;\"> Mike</td><td style = \"text-align: left;\"> 66.00</td><td style = \"text-align: left;\"> 02.00</td><td style = \"text-align: left;\"> 0</td><td style = \"text-align: left;\"> Norwegen</td></tr></tbody></table></div>"
      ],
      "text/latex": [
       "\\begin{tabular}{r|cccccc}\n",
       "\t& WMO-Station ID & StationName & Latitude & Longitude & Height & Country\\\\\n",
       "\t\\hline\n",
       "\t& Int64 & String & String7 & String15 & String7 & String\\\\\n",
       "\t\\hline\n",
       "\t1 & 1001 &  Jan Mayen &  70.94 &  -08.67 &  9 &  Norway \\\\\n",
       "\t2 & 1005 &  Isfjord Radio &  78.06 &  13.63 &  9 &  Norway \\\\\n",
       "\t3 & 1007 &  Ny-Alesund &  78.92 &  11.93 &  8 &  Norway \\\\\n",
       "\t4 & 1008 &  Svalbard &  78.25 &  15.50 &  27 &  Norway \\\\\n",
       "\t5 & 1025 &  Tromso &  69.68 &  18.91 &  9 &  Norway \\\\\n",
       "\t6 & 1026 &  Tromso &  69.65 &  18.94 &  114 &  Norway \\\\\n",
       "\t7 & 1028 &  Bjornoya &  74.50 &  19.00 &  16 &  Norway \\\\\n",
       "\t8 & 1065 &  Karasjok &  69.46 &  25.50 &  131 &  Norway \\\\\n",
       "\t9 & 1098 &  Vardo &  70.37 &  31.10 &  15 &  Norway \\\\\n",
       "\t10 & 1114 &  Reipa &  66.90 &  13.65 &  9 &  Norway \\\\\n",
       "\t11 & 1152 &  Bodo &  67.27 &  14.36 &  13 &  Norway \\\\\n",
       "\t12 & 1212 &  Ona II &  62.86 &  06.54 &  15 &  Norway \\\\\n",
       "\t13 & 1233 &  Dombaas &  62.07 &  09.12 &  638 &  Norway \\\\\n",
       "\t14 & 1236 &  Kjoremsgrende &  62.10 &  09.05 &  626 &  Norway \\\\\n",
       "\t15 & 1238 &  Fokstugu &  62.11 &  09.29 &  974 &  Norway \\\\\n",
       "\t16 & 1241 &  Orland Airp. &  63.70 &  09.60 &  9 &  Norway \\\\\n",
       "\t17 & 1258 &  Trondheim/Moholt &  63.42 &  10.43 &  118 &  Norway \\\\\n",
       "\t18 & 1271 &  Trondheim Airp. &  63.46 &  10.94 &  17 &  Norway \\\\\n",
       "\t19 & 1316 &  Bergen/Fredriksberg &  60.40 &  05.32 &  40 &  Norway \\\\\n",
       "\t20 & 1317 &  Bergen &  60.38 &  05.33 &  36 &  Norway \\\\\n",
       "\t21 & 1373 &  Nesbyen &  60.57 &  09.13 &  167 &  Norway \\\\\n",
       "\t22 & 1384 &  Oslo-Gardermoen &  60.21 &  11.08 &  208 &  Norway \\\\\n",
       "\t23 & 1389 &  Rena Airp. &  61.19 &  11.37 &  256 &  Norway \\\\\n",
       "\t24 & 1403 &  Utsira Fyr &  59.31 &  04.87 &  56 &  Norway \\\\\n",
       "\t$\\dots$ & $\\dots$ & $\\dots$ & $\\dots$ & $\\dots$ & $\\dots$ & $\\dots$ \\\\\n",
       "\\end{tabular}\n"
      ],
      "text/plain": [
       "\u001b[1m4586×6 DataFrame\u001b[0m\n",
       "\u001b[1m  Row \u001b[0m│\u001b[1m WMO-Station ID \u001b[0m\u001b[1m StationName      \u001b[0m\u001b[1m Latitude \u001b[0m\u001b[1m Longitude \u001b[0m\u001b[1m Height  \u001b[0m\u001b[1m Countr\u001b[0m ⋯\n",
       "      │\u001b[90m Int64          \u001b[0m\u001b[90m String           \u001b[0m\u001b[90m String7  \u001b[0m\u001b[90m String15  \u001b[0m\u001b[90m String7 \u001b[0m\u001b[90m String\u001b[0m ⋯\n",
       "──────┼─────────────────────────────────────────────────────────────────────────\n",
       "    1 │           1001   Jan Mayen         70.94     -08.67     9        Norwa ⋯\n",
       "    2 │           1005   Isfjord Radio     78.06     13.63      9        Norwa\n",
       "    3 │           1007   Ny-Alesund        78.92     11.93      8        Norwa\n",
       "    4 │           1008   Svalbard          78.25     15.50      27       Norwa\n",
       "    5 │           1025   Tromso            69.68     18.91      9        Norwa ⋯\n",
       "    6 │           1026   Tromso            69.65     18.94      114      Norwa\n",
       "    7 │           1028   Bjornoya          74.50     19.00      16       Norwa\n",
       "    8 │           1065   Karasjok          69.46     25.50      131      Norwa\n",
       "  ⋮   │       ⋮                ⋮             ⋮          ⋮         ⋮          ⋮ ⋱\n",
       " 4580 │          98646   Mactan            10.32     123.98     24       Phili ⋯\n",
       " 4581 │          98653   Surigao           09.78     125.49     40       Phili\n",
       " 4582 │          98748   Cagayan de Oro    08.48     124.65     5        Phili\n",
       " 4583 │          98755   Hinatuan          08.37     126.34     3        Phili\n",
       " 4584 │          98836   Zamboanga         06.92     122.06     6        Phili ⋯\n",
       " 4585 │          98851   General Santos    06.06     125.10     133      Phili\n",
       " 4586 │          99090   Mike              66.00     02.00      0        Norwe\n",
       "\u001b[36m                                                  1 column and 4571 rows omitted\u001b[0m"
      ]
     },
     "metadata": {},
     "output_type": "display_data"
    }
   ],
   "source": [
    "stations=CSV.File(\"data/stations.csv\")|>DataFrame\n",
    "stations=dropmissing(stations)"
   ]
  },
  {
   "cell_type": "code",
   "execution_count": 4,
   "metadata": {},
   "outputs": [
    {
     "data": {
      "text/html": [
       "<div><div style = \"float: left;\"><span>4586×6 DataFrame</span></div><div style = \"float: right;\"><span style = \"font-style: italic;\">4561 rows omitted</span></div><div style = \"clear: both;\"></div></div><div class = \"data-frame\" style = \"overflow-x: scroll;\"><table class = \"data-frame\" style = \"margin-bottom: 6px;\"><thead><tr class = \"header\"><th class = \"rowNumber\" style = \"font-weight: bold; text-align: right;\">Row</th><th style = \"text-align: left;\">Station</th><th style = \"text-align: left;\">StationName</th><th style = \"text-align: left;\">Latitude</th><th style = \"text-align: left;\">Longitude</th><th style = \"text-align: left;\">Height</th><th style = \"text-align: left;\">Country</th></tr><tr class = \"subheader headerLastRow\"><th class = \"rowNumber\" style = \"font-weight: bold; text-align: right;\"></th><th title = \"Int64\" style = \"text-align: left;\">Int64</th><th title = \"String\" style = \"text-align: left;\">String</th><th title = \"String7\" style = \"text-align: left;\">String7</th><th title = \"String15\" style = \"text-align: left;\">String15</th><th title = \"String7\" style = \"text-align: left;\">String7</th><th title = \"String\" style = \"text-align: left;\">String</th></tr></thead><tbody><tr><td class = \"rowNumber\" style = \"font-weight: bold; text-align: right;\">1</td><td style = \"text-align: right;\">1001</td><td style = \"text-align: left;\"> Jan Mayen</td><td style = \"text-align: left;\"> 70.94</td><td style = \"text-align: left;\"> -08.67</td><td style = \"text-align: left;\"> 9</td><td style = \"text-align: left;\"> Norway</td></tr><tr><td class = \"rowNumber\" style = \"font-weight: bold; text-align: right;\">2</td><td style = \"text-align: right;\">1005</td><td style = \"text-align: left;\"> Isfjord Radio</td><td style = \"text-align: left;\"> 78.06</td><td style = \"text-align: left;\"> 13.63</td><td style = \"text-align: left;\"> 9</td><td style = \"text-align: left;\"> Norway</td></tr><tr><td class = \"rowNumber\" style = \"font-weight: bold; text-align: right;\">3</td><td style = \"text-align: right;\">1007</td><td style = \"text-align: left;\"> Ny-Alesund</td><td style = \"text-align: left;\"> 78.92</td><td style = \"text-align: left;\"> 11.93</td><td style = \"text-align: left;\"> 8</td><td style = \"text-align: left;\"> Norway</td></tr><tr><td class = \"rowNumber\" style = \"font-weight: bold; text-align: right;\">4</td><td style = \"text-align: right;\">1008</td><td style = \"text-align: left;\"> Svalbard</td><td style = \"text-align: left;\"> 78.25</td><td style = \"text-align: left;\"> 15.50</td><td style = \"text-align: left;\"> 27</td><td style = \"text-align: left;\"> Norway</td></tr><tr><td class = \"rowNumber\" style = \"font-weight: bold; text-align: right;\">5</td><td style = \"text-align: right;\">1025</td><td style = \"text-align: left;\"> Tromso</td><td style = \"text-align: left;\"> 69.68</td><td style = \"text-align: left;\"> 18.91</td><td style = \"text-align: left;\"> 9</td><td style = \"text-align: left;\"> Norway</td></tr><tr><td class = \"rowNumber\" style = \"font-weight: bold; text-align: right;\">6</td><td style = \"text-align: right;\">1026</td><td style = \"text-align: left;\"> Tromso</td><td style = \"text-align: left;\"> 69.65</td><td style = \"text-align: left;\"> 18.94</td><td style = \"text-align: left;\"> 114</td><td style = \"text-align: left;\"> Norway</td></tr><tr><td class = \"rowNumber\" style = \"font-weight: bold; text-align: right;\">7</td><td style = \"text-align: right;\">1028</td><td style = \"text-align: left;\"> Bjornoya</td><td style = \"text-align: left;\"> 74.50</td><td style = \"text-align: left;\"> 19.00</td><td style = \"text-align: left;\"> 16</td><td style = \"text-align: left;\"> Norway</td></tr><tr><td class = \"rowNumber\" style = \"font-weight: bold; text-align: right;\">8</td><td style = \"text-align: right;\">1065</td><td style = \"text-align: left;\"> Karasjok</td><td style = \"text-align: left;\"> 69.46</td><td style = \"text-align: left;\"> 25.50</td><td style = \"text-align: left;\"> 131</td><td style = \"text-align: left;\"> Norway</td></tr><tr><td class = \"rowNumber\" style = \"font-weight: bold; text-align: right;\">9</td><td style = \"text-align: right;\">1098</td><td style = \"text-align: left;\"> Vardo</td><td style = \"text-align: left;\"> 70.37</td><td style = \"text-align: left;\"> 31.10</td><td style = \"text-align: left;\"> 15</td><td style = \"text-align: left;\"> Norway</td></tr><tr><td class = \"rowNumber\" style = \"font-weight: bold; text-align: right;\">10</td><td style = \"text-align: right;\">1114</td><td style = \"text-align: left;\"> Reipa</td><td style = \"text-align: left;\"> 66.90</td><td style = \"text-align: left;\"> 13.65</td><td style = \"text-align: left;\"> 9</td><td style = \"text-align: left;\"> Norway</td></tr><tr><td class = \"rowNumber\" style = \"font-weight: bold; text-align: right;\">11</td><td style = \"text-align: right;\">1152</td><td style = \"text-align: left;\"> Bodo</td><td style = \"text-align: left;\"> 67.27</td><td style = \"text-align: left;\"> 14.36</td><td style = \"text-align: left;\"> 13</td><td style = \"text-align: left;\"> Norway</td></tr><tr><td class = \"rowNumber\" style = \"font-weight: bold; text-align: right;\">12</td><td style = \"text-align: right;\">1212</td><td style = \"text-align: left;\"> Ona II</td><td style = \"text-align: left;\"> 62.86</td><td style = \"text-align: left;\"> 06.54</td><td style = \"text-align: left;\"> 15</td><td style = \"text-align: left;\"> Norway</td></tr><tr><td class = \"rowNumber\" style = \"font-weight: bold; text-align: right;\">13</td><td style = \"text-align: right;\">1233</td><td style = \"text-align: left;\"> Dombaas</td><td style = \"text-align: left;\"> 62.07</td><td style = \"text-align: left;\"> 09.12</td><td style = \"text-align: left;\"> 638</td><td style = \"text-align: left;\"> Norway</td></tr><tr><td style = \"text-align: right;\">&vellip;</td><td style = \"text-align: right;\">&vellip;</td><td style = \"text-align: right;\">&vellip;</td><td style = \"text-align: right;\">&vellip;</td><td style = \"text-align: right;\">&vellip;</td><td style = \"text-align: right;\">&vellip;</td><td style = \"text-align: right;\">&vellip;</td></tr><tr><td class = \"rowNumber\" style = \"font-weight: bold; text-align: right;\">4575</td><td style = \"text-align: right;\">98618</td><td style = \"text-align: left;\"> Puerto Princesa (SY)</td><td style = \"text-align: left;\"> 09.75</td><td style = \"text-align: left;\"> 118.73</td><td style = \"text-align: left;\"> 13</td><td style = \"text-align: left;\"> Philippines</td></tr><tr><td class = \"rowNumber\" style = \"font-weight: bold; text-align: right;\">4576</td><td style = \"text-align: right;\">98630</td><td style = \"text-align: left;\"> Cuyo (SY)</td><td style = \"text-align: left;\"> 10.85</td><td style = \"text-align: left;\"> 121.03</td><td style = \"text-align: left;\"> 3</td><td style = \"text-align: left;\"> Philippines</td></tr><tr><td class = \"rowNumber\" style = \"font-weight: bold; text-align: right;\">4577</td><td style = \"text-align: right;\">98637</td><td style = \"text-align: left;\"> Iloilo</td><td style = \"text-align: left;\"> 10.71</td><td style = \"text-align: left;\"> 122.55</td><td style = \"text-align: left;\"> 8</td><td style = \"text-align: left;\"> Philippines</td></tr><tr><td class = \"rowNumber\" style = \"font-weight: bold; text-align: right;\">4578</td><td style = \"text-align: right;\">98644</td><td style = \"text-align: left;\"> Tagbilaran</td><td style = \"text-align: left;\"> 09.67</td><td style = \"text-align: left;\"> 123.86</td><td style = \"text-align: left;\"> 25</td><td style = \"text-align: left;\"> Philippines</td></tr><tr><td class = \"rowNumber\" style = \"font-weight: bold; text-align: right;\">4579</td><td style = \"text-align: right;\">98645</td><td style = \"text-align: left;\"> Cebu City/Lahug</td><td style = \"text-align: left;\"> 10.33</td><td style = \"text-align: left;\"> 123.90</td><td style = \"text-align: left;\"> 35</td><td style = \"text-align: left;\"> Philippines</td></tr><tr><td class = \"rowNumber\" style = \"font-weight: bold; text-align: right;\">4580</td><td style = \"text-align: right;\">98646</td><td style = \"text-align: left;\"> Mactan</td><td style = \"text-align: left;\"> 10.32</td><td style = \"text-align: left;\"> 123.98</td><td style = \"text-align: left;\"> 24</td><td style = \"text-align: left;\"> Philippines</td></tr><tr><td class = \"rowNumber\" style = \"font-weight: bold; text-align: right;\">4581</td><td style = \"text-align: right;\">98653</td><td style = \"text-align: left;\"> Surigao</td><td style = \"text-align: left;\"> 09.78</td><td style = \"text-align: left;\"> 125.49</td><td style = \"text-align: left;\"> 40</td><td style = \"text-align: left;\"> Philippines</td></tr><tr><td class = \"rowNumber\" style = \"font-weight: bold; text-align: right;\">4582</td><td style = \"text-align: right;\">98748</td><td style = \"text-align: left;\"> Cagayan de Oro</td><td style = \"text-align: left;\"> 08.48</td><td style = \"text-align: left;\"> 124.65</td><td style = \"text-align: left;\"> 5</td><td style = \"text-align: left;\"> Philippines</td></tr><tr><td class = \"rowNumber\" style = \"font-weight: bold; text-align: right;\">4583</td><td style = \"text-align: right;\">98755</td><td style = \"text-align: left;\"> Hinatuan</td><td style = \"text-align: left;\"> 08.37</td><td style = \"text-align: left;\"> 126.34</td><td style = \"text-align: left;\"> 3</td><td style = \"text-align: left;\"> Philippines</td></tr><tr><td class = \"rowNumber\" style = \"font-weight: bold; text-align: right;\">4584</td><td style = \"text-align: right;\">98836</td><td style = \"text-align: left;\"> Zamboanga</td><td style = \"text-align: left;\"> 06.92</td><td style = \"text-align: left;\"> 122.06</td><td style = \"text-align: left;\"> 6</td><td style = \"text-align: left;\"> Philippines</td></tr><tr><td class = \"rowNumber\" style = \"font-weight: bold; text-align: right;\">4585</td><td style = \"text-align: right;\">98851</td><td style = \"text-align: left;\"> General Santos</td><td style = \"text-align: left;\"> 06.06</td><td style = \"text-align: left;\"> 125.10</td><td style = \"text-align: left;\"> 133</td><td style = \"text-align: left;\"> Philippines</td></tr><tr><td class = \"rowNumber\" style = \"font-weight: bold; text-align: right;\">4586</td><td style = \"text-align: right;\">99090</td><td style = \"text-align: left;\"> Mike</td><td style = \"text-align: left;\"> 66.00</td><td style = \"text-align: left;\"> 02.00</td><td style = \"text-align: left;\"> 0</td><td style = \"text-align: left;\"> Norwegen</td></tr></tbody></table></div>"
      ],
      "text/latex": [
       "\\begin{tabular}{r|cccccc}\n",
       "\t& Station & StationName & Latitude & Longitude & Height & Country\\\\\n",
       "\t\\hline\n",
       "\t& Int64 & String & String7 & String15 & String7 & String\\\\\n",
       "\t\\hline\n",
       "\t1 & 1001 &  Jan Mayen &  70.94 &  -08.67 &  9 &  Norway \\\\\n",
       "\t2 & 1005 &  Isfjord Radio &  78.06 &  13.63 &  9 &  Norway \\\\\n",
       "\t3 & 1007 &  Ny-Alesund &  78.92 &  11.93 &  8 &  Norway \\\\\n",
       "\t4 & 1008 &  Svalbard &  78.25 &  15.50 &  27 &  Norway \\\\\n",
       "\t5 & 1025 &  Tromso &  69.68 &  18.91 &  9 &  Norway \\\\\n",
       "\t6 & 1026 &  Tromso &  69.65 &  18.94 &  114 &  Norway \\\\\n",
       "\t7 & 1028 &  Bjornoya &  74.50 &  19.00 &  16 &  Norway \\\\\n",
       "\t8 & 1065 &  Karasjok &  69.46 &  25.50 &  131 &  Norway \\\\\n",
       "\t9 & 1098 &  Vardo &  70.37 &  31.10 &  15 &  Norway \\\\\n",
       "\t10 & 1114 &  Reipa &  66.90 &  13.65 &  9 &  Norway \\\\\n",
       "\t11 & 1152 &  Bodo &  67.27 &  14.36 &  13 &  Norway \\\\\n",
       "\t12 & 1212 &  Ona II &  62.86 &  06.54 &  15 &  Norway \\\\\n",
       "\t13 & 1233 &  Dombaas &  62.07 &  09.12 &  638 &  Norway \\\\\n",
       "\t14 & 1236 &  Kjoremsgrende &  62.10 &  09.05 &  626 &  Norway \\\\\n",
       "\t15 & 1238 &  Fokstugu &  62.11 &  09.29 &  974 &  Norway \\\\\n",
       "\t16 & 1241 &  Orland Airp. &  63.70 &  09.60 &  9 &  Norway \\\\\n",
       "\t17 & 1258 &  Trondheim/Moholt &  63.42 &  10.43 &  118 &  Norway \\\\\n",
       "\t18 & 1271 &  Trondheim Airp. &  63.46 &  10.94 &  17 &  Norway \\\\\n",
       "\t19 & 1316 &  Bergen/Fredriksberg &  60.40 &  05.32 &  40 &  Norway \\\\\n",
       "\t20 & 1317 &  Bergen &  60.38 &  05.33 &  36 &  Norway \\\\\n",
       "\t21 & 1373 &  Nesbyen &  60.57 &  09.13 &  167 &  Norway \\\\\n",
       "\t22 & 1384 &  Oslo-Gardermoen &  60.21 &  11.08 &  208 &  Norway \\\\\n",
       "\t23 & 1389 &  Rena Airp. &  61.19 &  11.37 &  256 &  Norway \\\\\n",
       "\t24 & 1403 &  Utsira Fyr &  59.31 &  04.87 &  56 &  Norway \\\\\n",
       "\t$\\dots$ & $\\dots$ & $\\dots$ & $\\dots$ & $\\dots$ & $\\dots$ & $\\dots$ \\\\\n",
       "\\end{tabular}\n"
      ],
      "text/plain": [
       "\u001b[1m4586×6 DataFrame\u001b[0m\n",
       "\u001b[1m  Row \u001b[0m│\u001b[1m Station \u001b[0m\u001b[1m StationName      \u001b[0m\u001b[1m Latitude \u001b[0m\u001b[1m Longitude \u001b[0m\u001b[1m Height  \u001b[0m\u001b[1m Country      \u001b[0m\n",
       "      │\u001b[90m Int64   \u001b[0m\u001b[90m String           \u001b[0m\u001b[90m String7  \u001b[0m\u001b[90m String15  \u001b[0m\u001b[90m String7 \u001b[0m\u001b[90m String       \u001b[0m\n",
       "──────┼───────────────────────────────────────────────────────────────────────\n",
       "    1 │    1001   Jan Mayen         70.94     -08.67     9        Norway\n",
       "    2 │    1005   Isfjord Radio     78.06     13.63      9        Norway\n",
       "    3 │    1007   Ny-Alesund        78.92     11.93      8        Norway\n",
       "    4 │    1008   Svalbard          78.25     15.50      27       Norway\n",
       "    5 │    1025   Tromso            69.68     18.91      9        Norway\n",
       "    6 │    1026   Tromso            69.65     18.94      114      Norway\n",
       "    7 │    1028   Bjornoya          74.50     19.00      16       Norway\n",
       "    8 │    1065   Karasjok          69.46     25.50      131      Norway\n",
       "  ⋮   │    ⋮            ⋮             ⋮          ⋮         ⋮          ⋮\n",
       " 4580 │   98646   Mactan            10.32     123.98     24       Philippines\n",
       " 4581 │   98653   Surigao           09.78     125.49     40       Philippines\n",
       " 4582 │   98748   Cagayan de Oro    08.48     124.65     5        Philippines\n",
       " 4583 │   98755   Hinatuan          08.37     126.34     3        Philippines\n",
       " 4584 │   98836   Zamboanga         06.92     122.06     6        Philippines\n",
       " 4585 │   98851   General Santos    06.06     125.10     133      Philippines\n",
       " 4586 │   99090   Mike              66.00     02.00      0        Norwegen\n",
       "\u001b[36m                                                             4571 rows omitted\u001b[0m"
      ]
     },
     "metadata": {},
     "output_type": "display_data"
    }
   ],
   "source": [
    "rename!(stations,\"WMO-Station ID\"=>\"Station\")"
   ]
  },
  {
   "cell_type": "code",
   "execution_count": 5,
   "metadata": {},
   "outputs": [
    {
     "data": {
      "text/plain": [
       "822-element Vector{Float64}:\n",
       " 330.0\n",
       " 332.0\n",
       " 315.0\n",
       "   8.0\n",
       "   6.0\n",
       " 107.0\n",
       "  16.0\n",
       " 226.0\n",
       "  12.0\n",
       " 486.0\n",
       "   ⋮\n",
       "  18.0\n",
       "  30.0\n",
       "   3.0\n",
       "  20.0\n",
       "  13.0\n",
       "   8.0\n",
       " 262.0\n",
       "  80.0\n",
       "  88.0"
      ]
     },
     "metadata": {},
     "output_type": "display_data"
    }
   ],
   "source": [
    "station_values=leftjoin(values,stations,on=:Station)\n",
    "station_values[(station_values.Latitude.!=\" \") .&(station_values.Longitude.!=\" \") .&(station_values.Height.!=\" \"),: ]\n",
    "station_values.Latitude.=parse.(Float64,station_values.Latitude)\n",
    "station_values.Longitude.=parse.(Float64,station_values.Longitude)\n",
    "station_values.Height.=parse.(Float64,station_values.Height)"
   ]
  },
  {
   "cell_type": "code",
   "execution_count": 6,
   "metadata": {},
   "outputs": [
    {
     "data": {
      "text/html": [
       "<div><div style = \"float: left;\"><span>822×18 DataFrame</span></div><div style = \"float: right;\"><span style = \"font-style: italic;\">797 rows omitted</span></div><div style = \"clear: both;\"></div></div><div class = \"data-frame\" style = \"overflow-x: scroll;\"><table class = \"data-frame\" style = \"margin-bottom: 6px;\"><thead><tr class = \"header\"><th class = \"rowNumber\" style = \"font-weight: bold; text-align: right;\">Row</th><th style = \"text-align: left;\">Station</th><th style = \"text-align: left;\">Jan</th><th style = \"text-align: left;\">Feb</th><th style = \"text-align: left;\">Mrz</th><th style = \"text-align: left;\">Apr</th><th style = \"text-align: left;\">Mai</th><th style = \"text-align: left;\">Jun</th><th style = \"text-align: left;\">Jul</th><th style = \"text-align: left;\">Aug</th><th style = \"text-align: left;\">Sep</th><th style = \"text-align: left;\">Okt</th><th style = \"text-align: left;\">Nov</th><th style = \"text-align: left;\">Dez</th><th style = \"text-align: left;\">StationName</th><th style = \"text-align: left;\">Latitude</th><th style = \"text-align: left;\">Longitude</th><th style = \"text-align: left;\">Height</th><th style = \"text-align: left;\">Country</th></tr><tr class = \"subheader headerLastRow\"><th class = \"rowNumber\" style = \"font-weight: bold; text-align: right;\"></th><th title = \"Int64\" style = \"text-align: left;\">Int64</th><th title = \"Float64\" style = \"text-align: left;\">Float64</th><th title = \"Float64\" style = \"text-align: left;\">Float64</th><th title = \"Float64\" style = \"text-align: left;\">Float64</th><th title = \"Float64\" style = \"text-align: left;\">Float64</th><th title = \"Float64\" style = \"text-align: left;\">Float64</th><th title = \"Float64\" style = \"text-align: left;\">Float64</th><th title = \"Float64\" style = \"text-align: left;\">Float64</th><th title = \"Float64\" style = \"text-align: left;\">Float64</th><th title = \"Float64\" style = \"text-align: left;\">Float64</th><th title = \"Float64\" style = \"text-align: left;\">Float64</th><th title = \"Float64\" style = \"text-align: left;\">Float64</th><th title = \"Float64\" style = \"text-align: left;\">Float64</th><th title = \"Union{Missing, String}\" style = \"text-align: left;\">String?</th><th title = \"Float64\" style = \"text-align: left;\">Float64</th><th title = \"Float64\" style = \"text-align: left;\">Float64</th><th title = \"Float64\" style = \"text-align: left;\">Float64</th><th title = \"Union{Missing, String}\" style = \"text-align: left;\">String?</th></tr></thead><tbody><tr><td class = \"rowNumber\" style = \"font-weight: bold; text-align: right;\">1</td><td style = \"text-align: right;\">2080</td><td style = \"text-align: right;\">-11.2</td><td style = \"text-align: right;\">-9.7</td><td style = \"text-align: right;\">-4.8</td><td style = \"text-align: right;\">0.8</td><td style = \"text-align: right;\">7.4</td><td style = \"text-align: right;\">14.7</td><td style = \"text-align: right;\">17.3</td><td style = \"text-align: right;\">14.6</td><td style = \"text-align: right;\">8.8</td><td style = \"text-align: right;\">1.5</td><td style = \"text-align: right;\">-5.3</td><td style = \"text-align: right;\">-9.0</td><td style = \"text-align: left;\"> Karesuando</td><td style = \"text-align: right;\">68.45</td><td style = \"text-align: right;\">22.45</td><td style = \"text-align: right;\">330.0</td><td style = \"text-align: left;\"> Sweden</td></tr><tr><td class = \"rowNumber\" style = \"font-weight: bold; text-align: right;\">2</td><td style = \"text-align: right;\">2081</td><td style = \"text-align: right;\">-11.2</td><td style = \"text-align: right;\">-9.7</td><td style = \"text-align: right;\">-4.8</td><td style = \"text-align: right;\">0.8</td><td style = \"text-align: right;\">7.4</td><td style = \"text-align: right;\">14.7</td><td style = \"text-align: right;\">17.3</td><td style = \"text-align: right;\">14.6</td><td style = \"text-align: right;\">8.8</td><td style = \"text-align: right;\">1.5</td><td style = \"text-align: right;\">-5.3</td><td style = \"text-align: right;\">-9.0</td><td style = \"text-align: left;\"> Karesuando</td><td style = \"text-align: right;\">68.44</td><td style = \"text-align: right;\">22.44</td><td style = \"text-align: right;\">332.0</td><td style = \"text-align: left;\"> Sweden</td></tr><tr><td class = \"rowNumber\" style = \"font-weight: bold; text-align: right;\">3</td><td style = \"text-align: right;\">2120</td><td style = \"text-align: right;\">-12.5</td><td style = \"text-align: right;\">-4.2</td><td style = \"text-align: right;\">-3.7</td><td style = \"text-align: right;\">1.3</td><td style = \"text-align: right;\">8.9</td><td style = \"text-align: right;\">13.5</td><td style = \"text-align: right;\">15.9</td><td style = \"text-align: right;\">14.2</td><td style = \"text-align: right;\">8.0</td><td style = \"text-align: right;\">4.2</td><td style = \"text-align: right;\">-3.1</td><td style = \"text-align: right;\">-5.3</td><td style = \"text-align: left;\"> Kvikkjokk-Arrenjarka</td><td style = \"text-align: right;\">66.88</td><td style = \"text-align: right;\">18.02</td><td style = \"text-align: right;\">315.0</td><td style = \"text-align: left;\"> Sweden</td></tr><tr><td class = \"rowNumber\" style = \"font-weight: bold; text-align: right;\">4</td><td style = \"text-align: right;\">2287</td><td style = \"text-align: right;\">0.0</td><td style = \"text-align: right;\">0.1</td><td style = \"text-align: right;\">0.1</td><td style = \"text-align: right;\">2.2</td><td style = \"text-align: right;\">8.1</td><td style = \"text-align: right;\">13.4</td><td style = \"text-align: right;\">18.9</td><td style = \"text-align: right;\">16.1</td><td style = \"text-align: right;\">12.2</td><td style = \"text-align: right;\">9.4</td><td style = \"text-align: right;\">4.0</td><td style = \"text-align: right;\">2.2</td><td style = \"text-align: left;\"> Holmon</td><td style = \"text-align: right;\">63.8</td><td style = \"text-align: right;\">20.86</td><td style = \"text-align: right;\">8.0</td><td style = \"text-align: left;\"> Sweden</td></tr><tr><td class = \"rowNumber\" style = \"font-weight: bold; text-align: right;\">5</td><td style = \"text-align: right;\">2288</td><td style = \"text-align: right;\">0.0</td><td style = \"text-align: right;\">0.1</td><td style = \"text-align: right;\">0.1</td><td style = \"text-align: right;\">2.2</td><td style = \"text-align: right;\">8.1</td><td style = \"text-align: right;\">13.4</td><td style = \"text-align: right;\">18.9</td><td style = \"text-align: right;\">16.1</td><td style = \"text-align: right;\">12.2</td><td style = \"text-align: right;\">9.4</td><td style = \"text-align: right;\">4.0</td><td style = \"text-align: right;\">2.2</td><td style = \"text-align: left;\"> Holmogadd</td><td style = \"text-align: right;\">63.6</td><td style = \"text-align: right;\">20.75</td><td style = \"text-align: right;\">6.0</td><td style = \"text-align: left;\"> Sweden</td></tr><tr><td class = \"rowNumber\" style = \"font-weight: bold; text-align: right;\">6</td><td style = \"text-align: right;\">2418</td><td style = \"text-align: right;\">-1.5</td><td style = \"text-align: right;\">-0.9</td><td style = \"text-align: right;\">3.3</td><td style = \"text-align: right;\">8.6</td><td style = \"text-align: right;\">15.4</td><td style = \"text-align: right;\">20.1</td><td style = \"text-align: right;\">21.1</td><td style = \"text-align: right;\">20.2</td><td style = \"text-align: right;\">15.5</td><td style = \"text-align: right;\">10.0</td><td style = \"text-align: right;\">4.1</td><td style = \"text-align: right;\">0.1</td><td style = \"text-align: left;\"> Karlstad Airp.</td><td style = \"text-align: right;\">59.44</td><td style = \"text-align: right;\">13.34</td><td style = \"text-align: right;\">107.0</td><td style = \"text-align: left;\"> Sweden</td></tr><tr><td class = \"rowNumber\" style = \"font-weight: bold; text-align: right;\">7</td><td style = \"text-align: right;\">2512</td><td style = \"text-align: right;\">0.6</td><td style = \"text-align: right;\">1.1</td><td style = \"text-align: right;\">4.5</td><td style = \"text-align: right;\">9.2</td><td style = \"text-align: right;\">15.6</td><td style = \"text-align: right;\">19.2</td><td style = \"text-align: right;\">20.1</td><td style = \"text-align: right;\">19.6</td><td style = \"text-align: right;\">15.8</td><td style = \"text-align: right;\">11.4</td><td style = \"text-align: right;\">6.2</td><td style = \"text-align: right;\">2.6</td><td style = \"text-align: left;\"> Goteborg</td><td style = \"text-align: right;\">57.78</td><td style = \"text-align: right;\">11.88</td><td style = \"text-align: right;\">16.0</td><td style = \"text-align: left;\"> Sweden</td></tr><tr><td class = \"rowNumber\" style = \"font-weight: bold; text-align: right;\">8</td><td style = \"text-align: right;\">2550</td><td style = \"text-align: right;\">-1.1</td><td style = \"text-align: right;\">-0.5</td><td style = \"text-align: right;\">3.0</td><td style = \"text-align: right;\">8.5</td><td style = \"text-align: right;\">15.2</td><td style = \"text-align: right;\">19.6</td><td style = \"text-align: right;\">20.5</td><td style = \"text-align: right;\">19.6</td><td style = \"text-align: right;\">14.7</td><td style = \"text-align: right;\">9.8</td><td style = \"text-align: right;\">4.0</td><td style = \"text-align: right;\">0.6</td><td style = \"text-align: left;\"> Joenkoeping Airp.</td><td style = \"text-align: right;\">57.75</td><td style = \"text-align: right;\">14.07</td><td style = \"text-align: right;\">226.0</td><td style = \"text-align: left;\"> Sweden</td></tr><tr><td class = \"rowNumber\" style = \"font-weight: bold; text-align: right;\">9</td><td style = \"text-align: right;\">2584</td><td style = \"text-align: right;\">3.1</td><td style = \"text-align: right;\">3.8</td><td style = \"text-align: right;\">3.8</td><td style = \"text-align: right;\">5.8</td><td style = \"text-align: right;\">9.8</td><td style = \"text-align: right;\">15.2</td><td style = \"text-align: right;\">19.0</td><td style = \"text-align: right;\">18.3</td><td style = \"text-align: right;\">15.1</td><td style = \"text-align: right;\">11.5</td><td style = \"text-align: right;\">6.4</td><td style = \"text-align: right;\">4.2</td><td style = \"text-align: left;\"> Gotska Sandon</td><td style = \"text-align: right;\">58.4</td><td style = \"text-align: right;\">19.2</td><td style = \"text-align: right;\">12.0</td><td style = \"text-align: left;\"> Sweden</td></tr><tr><td class = \"rowNumber\" style = \"font-weight: bold; text-align: right;\">10</td><td style = \"text-align: right;\">2801</td><td style = \"text-align: right;\">-9.6</td><td style = \"text-align: right;\">-8.6</td><td style = \"text-align: right;\">-5.2</td><td style = \"text-align: right;\">-0.4</td><td style = \"text-align: right;\">5.2</td><td style = \"text-align: right;\">12.0</td><td style = \"text-align: right;\">15.1</td><td style = \"text-align: right;\">13.1</td><td style = \"text-align: right;\">7.8</td><td style = \"text-align: right;\">1.4</td><td style = \"text-align: right;\">-7.8</td><td style = \"text-align: right;\">-7.9</td><td style = \"text-align: left;\"> Enontekio Kilpisjarvi</td><td style = \"text-align: right;\">69.05</td><td style = \"text-align: right;\">20.79</td><td style = \"text-align: right;\">486.0</td><td style = \"text-align: left;\"> Finland</td></tr><tr><td class = \"rowNumber\" style = \"font-weight: bold; text-align: right;\">11</td><td style = \"text-align: right;\">2805</td><td style = \"text-align: right;\">-10.6</td><td style = \"text-align: right;\">-9.3</td><td style = \"text-align: right;\">-4.1</td><td style = \"text-align: right;\">1.4</td><td style = \"text-align: right;\">7.3</td><td style = \"text-align: right;\">14.6</td><td style = \"text-align: right;\">18.0</td><td style = \"text-align: right;\">14.9</td><td style = \"text-align: right;\">9.0</td><td style = \"text-align: right;\">1.7</td><td style = \"text-align: right;\">-4.5</td><td style = \"text-align: right;\">-8.4</td><td style = \"text-align: left;\"> Utsjoki-Kevo</td><td style = \"text-align: right;\">69.76</td><td style = \"text-align: right;\">27.02</td><td style = \"text-align: right;\">107.0</td><td style = \"text-align: left;\"> Finland</td></tr><tr><td class = \"rowNumber\" style = \"font-weight: bold; text-align: right;\">12</td><td style = \"text-align: right;\">2836</td><td style = \"text-align: right;\">-10.5</td><td style = \"text-align: right;\">-9.2</td><td style = \"text-align: right;\">-3.4</td><td style = \"text-align: right;\">2.5</td><td style = \"text-align: right;\">9.5</td><td style = \"text-align: right;\">16.6</td><td style = \"text-align: right;\">19.0</td><td style = \"text-align: right;\">15.9</td><td style = \"text-align: right;\">9.7</td><td style = \"text-align: right;\">2.5</td><td style = \"text-align: right;\">-4.2</td><td style = \"text-align: right;\">-8.5</td><td style = \"text-align: left;\"> Sodankyla</td><td style = \"text-align: right;\">67.37</td><td style = \"text-align: right;\">26.63</td><td style = \"text-align: right;\">179.0</td><td style = \"text-align: left;\"> Finland</td></tr><tr><td class = \"rowNumber\" style = \"font-weight: bold; text-align: right;\">13</td><td style = \"text-align: right;\">2869</td><td style = \"text-align: right;\">-10.3</td><td style = \"text-align: right;\">-9.1</td><td style = \"text-align: right;\">-3.4</td><td style = \"text-align: right;\">2.3</td><td style = \"text-align: right;\">9.7</td><td style = \"text-align: right;\">16.4</td><td style = \"text-align: right;\">18.8</td><td style = \"text-align: right;\">15.8</td><td style = \"text-align: right;\">9.6</td><td style = \"text-align: right;\">2.6</td><td style = \"text-align: right;\">-3.5</td><td style = \"text-align: right;\">-7.8</td><td style = \"text-align: left;\"> Kuusamo Airport</td><td style = \"text-align: right;\">66.0</td><td style = \"text-align: right;\">29.22</td><td style = \"text-align: right;\">266.0</td><td style = \"text-align: left;\"> Finland</td></tr><tr><td style = \"text-align: right;\">&vellip;</td><td style = \"text-align: right;\">&vellip;</td><td style = \"text-align: right;\">&vellip;</td><td style = \"text-align: right;\">&vellip;</td><td style = \"text-align: right;\">&vellip;</td><td style = \"text-align: right;\">&vellip;</td><td style = \"text-align: right;\">&vellip;</td><td style = \"text-align: right;\">&vellip;</td><td style = \"text-align: right;\">&vellip;</td><td style = \"text-align: right;\">&vellip;</td><td style = \"text-align: right;\">&vellip;</td><td style = \"text-align: right;\">&vellip;</td><td style = \"text-align: right;\">&vellip;</td><td style = \"text-align: right;\">&vellip;</td><td style = \"text-align: right;\">&vellip;</td><td style = \"text-align: right;\">&vellip;</td><td style = \"text-align: right;\">&vellip;</td><td style = \"text-align: right;\">&vellip;</td><td style = \"text-align: right;\">&vellip;</td></tr><tr><td class = \"rowNumber\" style = \"font-weight: bold; text-align: right;\">811</td><td style = \"text-align: right;\">96413</td><td style = \"text-align: right;\">29.6</td><td style = \"text-align: right;\">30.0</td><td style = \"text-align: right;\">31.0</td><td style = \"text-align: right;\">32.1</td><td style = \"text-align: right;\">32.7</td><td style = \"text-align: right;\">32.6</td><td style = \"text-align: right;\">32.3</td><td style = \"text-align: right;\">31.7</td><td style = \"text-align: right;\">31.5</td><td style = \"text-align: right;\">31.9</td><td style = \"text-align: right;\">31.4</td><td style = \"text-align: right;\">30.5</td><td style = \"text-align: left;\"> Kuching</td><td style = \"text-align: right;\">1.48</td><td style = \"text-align: right;\">110.33</td><td style = \"text-align: right;\">27.0</td><td style = \"text-align: left;\"> Malaysia</td></tr><tr><td class = \"rowNumber\" style = \"font-weight: bold; text-align: right;\">812</td><td style = \"text-align: right;\">96421</td><td style = \"text-align: right;\">30.4</td><td style = \"text-align: right;\">31.2</td><td style = \"text-align: right;\">31.9</td><td style = \"text-align: right;\">32.7</td><td style = \"text-align: right;\">33.1</td><td style = \"text-align: right;\">33.0</td><td style = \"text-align: right;\">32.7</td><td style = \"text-align: right;\">32.7</td><td style = \"text-align: right;\">32.2</td><td style = \"text-align: right;\">32.2</td><td style = \"text-align: right;\">31.8</td><td style = \"text-align: right;\">31.2</td><td style = \"text-align: left;\"> Sibu Airport</td><td style = \"text-align: right;\">2.26</td><td style = \"text-align: right;\">111.99</td><td style = \"text-align: right;\">31.0</td><td style = \"text-align: left;\"> Malaysia</td></tr><tr><td class = \"rowNumber\" style = \"font-weight: bold; text-align: right;\">813</td><td style = \"text-align: right;\">96441</td><td style = \"text-align: right;\">29.5</td><td style = \"text-align: right;\">29.8</td><td style = \"text-align: right;\">30.4</td><td style = \"text-align: right;\">31.2</td><td style = \"text-align: right;\">31.6</td><td style = \"text-align: right;\">31.7</td><td style = \"text-align: right;\">31.4</td><td style = \"text-align: right;\">31.4</td><td style = \"text-align: right;\">31.0</td><td style = \"text-align: right;\">30.9</td><td style = \"text-align: right;\">30.6</td><td style = \"text-align: right;\">30.2</td><td style = \"text-align: left;\"> Bintulu</td><td style = \"text-align: right;\">3.12</td><td style = \"text-align: right;\">113.03</td><td style = \"text-align: right;\">24.0</td><td style = \"text-align: left;\"> Malaysia</td></tr><tr><td class = \"rowNumber\" style = \"font-weight: bold; text-align: right;\">814</td><td style = \"text-align: right;\">96449</td><td style = \"text-align: right;\">29.7</td><td style = \"text-align: right;\">30.0</td><td style = \"text-align: right;\">30.6</td><td style = \"text-align: right;\">31.2</td><td style = \"text-align: right;\">31.5</td><td style = \"text-align: right;\">31.4</td><td style = \"text-align: right;\">31.1</td><td style = \"text-align: right;\">31.2</td><td style = \"text-align: right;\">31.0</td><td style = \"text-align: right;\">30.7</td><td style = \"text-align: right;\">30.0</td><td style = \"text-align: right;\">30.3</td><td style = \"text-align: left;\"> Miri</td><td style = \"text-align: right;\">4.33</td><td style = \"text-align: right;\">113.98</td><td style = \"text-align: right;\">18.0</td><td style = \"text-align: left;\"> Malaysia</td></tr><tr><td class = \"rowNumber\" style = \"font-weight: bold; text-align: right;\">815</td><td style = \"text-align: right;\">96465</td><td style = \"text-align: right;\">29.7</td><td style = \"text-align: right;\">30.2</td><td style = \"text-align: right;\">31.5</td><td style = \"text-align: right;\">32.2</td><td style = \"text-align: right;\">31.7</td><td style = \"text-align: right;\">31.5</td><td style = \"text-align: right;\">31.0</td><td style = \"text-align: right;\">31.3</td><td style = \"text-align: right;\">31.0</td><td style = \"text-align: right;\">30.8</td><td style = \"text-align: right;\">30.7</td><td style = \"text-align: right;\">30.4</td><td style = \"text-align: left;\"> Labuan</td><td style = \"text-align: right;\">5.3</td><td style = \"text-align: right;\">115.25</td><td style = \"text-align: right;\">30.0</td><td style = \"text-align: left;\"> Malaysia</td></tr><tr><td class = \"rowNumber\" style = \"font-weight: bold; text-align: right;\">816</td><td style = \"text-align: right;\">96471</td><td style = \"text-align: right;\">29.8</td><td style = \"text-align: right;\">30.1</td><td style = \"text-align: right;\">30.9</td><td style = \"text-align: right;\">31.6</td><td style = \"text-align: right;\">31.4</td><td style = \"text-align: right;\">31.3</td><td style = \"text-align: right;\">31.0</td><td style = \"text-align: right;\">31.1</td><td style = \"text-align: right;\">30.9</td><td style = \"text-align: right;\">30.8</td><td style = \"text-align: right;\">30.6</td><td style = \"text-align: right;\">30.4</td><td style = \"text-align: left;\"> Kota Kinabalu</td><td style = \"text-align: right;\">5.93</td><td style = \"text-align: right;\">116.05</td><td style = \"text-align: right;\">3.0</td><td style = \"text-align: left;\"> Malaysia</td></tr><tr><td class = \"rowNumber\" style = \"font-weight: bold; text-align: right;\">817</td><td style = \"text-align: right;\">96481</td><td style = \"text-align: right;\">31.6</td><td style = \"text-align: right;\">31.4</td><td style = \"text-align: right;\">31.9</td><td style = \"text-align: right;\">32.3</td><td style = \"text-align: right;\">32.4</td><td style = \"text-align: right;\">31.8</td><td style = \"text-align: right;\">31.3</td><td style = \"text-align: right;\">31.5</td><td style = \"text-align: right;\">31.7</td><td style = \"text-align: right;\">31.9</td><td style = \"text-align: right;\">32.0</td><td style = \"text-align: right;\">31.9</td><td style = \"text-align: left;\"> Tawau</td><td style = \"text-align: right;\">4.27</td><td style = \"text-align: right;\">117.88</td><td style = \"text-align: right;\">20.0</td><td style = \"text-align: left;\"> Malaysia</td></tr><tr><td class = \"rowNumber\" style = \"font-weight: bold; text-align: right;\">818</td><td style = \"text-align: right;\">96491</td><td style = \"text-align: right;\">29.2</td><td style = \"text-align: right;\">29.5</td><td style = \"text-align: right;\">30.5</td><td style = \"text-align: right;\">31.6</td><td style = \"text-align: right;\">32.5</td><td style = \"text-align: right;\">32.2</td><td style = \"text-align: right;\">32.2</td><td style = \"text-align: right;\">32.3</td><td style = \"text-align: right;\">31.5</td><td style = \"text-align: right;\">31.6</td><td style = \"text-align: right;\">30.7</td><td style = \"text-align: right;\">29.8</td><td style = \"text-align: left;\"> Sandakan</td><td style = \"text-align: right;\">5.9</td><td style = \"text-align: right;\">118.06</td><td style = \"text-align: right;\">13.0</td><td style = \"text-align: left;\"> Malaysia</td></tr><tr><td class = \"rowNumber\" style = \"font-weight: bold; text-align: right;\">819</td><td style = \"text-align: right;\">96749</td><td style = \"text-align: right;\">29.7</td><td style = \"text-align: right;\">30.1</td><td style = \"text-align: right;\">31.1</td><td style = \"text-align: right;\">31.7</td><td style = \"text-align: right;\">31.8</td><td style = \"text-align: right;\">31.8</td><td style = \"text-align: right;\">31.4</td><td style = \"text-align: right;\">31.6</td><td style = \"text-align: right;\">32.1</td><td style = \"text-align: right;\">32.4</td><td style = \"text-align: right;\">32.1</td><td style = \"text-align: right;\">30.8</td><td style = \"text-align: left;\"> Jakarta Airport/Java</td><td style = \"text-align: right;\">-6.12</td><td style = \"text-align: right;\">106.65</td><td style = \"text-align: right;\">8.0</td><td style = \"text-align: left;\"> Indonesia</td></tr><tr><td class = \"rowNumber\" style = \"font-weight: bold; text-align: right;\">820</td><td style = \"text-align: right;\">96995</td><td style = \"text-align: right;\">27.9</td><td style = \"text-align: right;\">28.1</td><td style = \"text-align: right;\">28.3</td><td style = \"text-align: right;\">28.3</td><td style = \"text-align: right;\">27.8</td><td style = \"text-align: right;\">27.0</td><td style = \"text-align: right;\">26.3</td><td style = \"text-align: right;\">26.1</td><td style = \"text-align: right;\">26.2</td><td style = \"text-align: right;\">27.0</td><td style = \"text-align: right;\">27.4</td><td style = \"text-align: right;\">27.8</td><td style = \"text-align: left;\"> Christmas Island</td><td style = \"text-align: right;\">-10.45</td><td style = \"text-align: right;\">105.68</td><td style = \"text-align: right;\">262.0</td><td style = \"text-align: left;\"> Australia</td></tr><tr><td class = \"rowNumber\" style = \"font-weight: bold; text-align: right;\">821</td><td style = \"text-align: right;\">97014</td><td style = \"text-align: right;\">29.4</td><td style = \"text-align: right;\">29.5</td><td style = \"text-align: right;\">30.0</td><td style = \"text-align: right;\">31.4</td><td style = \"text-align: right;\">31.4</td><td style = \"text-align: right;\">31.2</td><td style = \"text-align: right;\">31.3</td><td style = \"text-align: right;\">32.0</td><td style = \"text-align: right;\">32.3</td><td style = \"text-align: right;\">31.7</td><td style = \"text-align: right;\">30.9</td><td style = \"text-align: right;\">30.1</td><td style = \"text-align: left;\"> Manado Airport/Sulawesi</td><td style = \"text-align: right;\">1.53</td><td style = \"text-align: right;\">124.92</td><td style = \"text-align: right;\">80.0</td><td style = \"text-align: left;\"> Indonesia</td></tr><tr><td class = \"rowNumber\" style = \"font-weight: bold; text-align: right;\">822</td><td style = \"text-align: right;\">97072</td><td style = \"text-align: right;\">32.1</td><td style = \"text-align: right;\">31.8</td><td style = \"text-align: right;\">31.5</td><td style = \"text-align: right;\">33.0</td><td style = \"text-align: right;\">33.0</td><td style = \"text-align: right;\">32.8</td><td style = \"text-align: right;\">32.4</td><td style = \"text-align: right;\">32.8</td><td style = \"text-align: right;\">32.8</td><td style = \"text-align: right;\">32.7</td><td style = \"text-align: right;\">32.8</td><td style = \"text-align: right;\">32.1</td><td style = \"text-align: left;\"> Palu Airport/Sulawesi</td><td style = \"text-align: right;\">-0.92</td><td style = \"text-align: right;\">119.91</td><td style = \"text-align: right;\">88.0</td><td style = \"text-align: left;\"> Indonesia</td></tr></tbody></table></div>"
      ],
      "text/latex": [
       "\\begin{tabular}{r|cccccccccc}\n",
       "\t& Station & Jan & Feb & Mrz & Apr & Mai & Jun & Jul & Aug & \\\\\n",
       "\t\\hline\n",
       "\t& Int64 & Float64 & Float64 & Float64 & Float64 & Float64 & Float64 & Float64 & Float64 & \\\\\n",
       "\t\\hline\n",
       "\t1 & 2080 & -11.2 & -9.7 & -4.8 & 0.8 & 7.4 & 14.7 & 17.3 & 14.6 & $\\dots$ \\\\\n",
       "\t2 & 2081 & -11.2 & -9.7 & -4.8 & 0.8 & 7.4 & 14.7 & 17.3 & 14.6 & $\\dots$ \\\\\n",
       "\t3 & 2120 & -12.5 & -4.2 & -3.7 & 1.3 & 8.9 & 13.5 & 15.9 & 14.2 & $\\dots$ \\\\\n",
       "\t4 & 2287 & 0.0 & 0.1 & 0.1 & 2.2 & 8.1 & 13.4 & 18.9 & 16.1 & $\\dots$ \\\\\n",
       "\t5 & 2288 & 0.0 & 0.1 & 0.1 & 2.2 & 8.1 & 13.4 & 18.9 & 16.1 & $\\dots$ \\\\\n",
       "\t6 & 2418 & -1.5 & -0.9 & 3.3 & 8.6 & 15.4 & 20.1 & 21.1 & 20.2 & $\\dots$ \\\\\n",
       "\t7 & 2512 & 0.6 & 1.1 & 4.5 & 9.2 & 15.6 & 19.2 & 20.1 & 19.6 & $\\dots$ \\\\\n",
       "\t8 & 2550 & -1.1 & -0.5 & 3.0 & 8.5 & 15.2 & 19.6 & 20.5 & 19.6 & $\\dots$ \\\\\n",
       "\t9 & 2584 & 3.1 & 3.8 & 3.8 & 5.8 & 9.8 & 15.2 & 19.0 & 18.3 & $\\dots$ \\\\\n",
       "\t10 & 2801 & -9.6 & -8.6 & -5.2 & -0.4 & 5.2 & 12.0 & 15.1 & 13.1 & $\\dots$ \\\\\n",
       "\t11 & 2805 & -10.6 & -9.3 & -4.1 & 1.4 & 7.3 & 14.6 & 18.0 & 14.9 & $\\dots$ \\\\\n",
       "\t12 & 2836 & -10.5 & -9.2 & -3.4 & 2.5 & 9.5 & 16.6 & 19.0 & 15.9 & $\\dots$ \\\\\n",
       "\t13 & 2869 & -10.3 & -9.1 & -3.4 & 2.3 & 9.7 & 16.4 & 18.8 & 15.8 & $\\dots$ \\\\\n",
       "\t14 & 2875 & -7.4 & -6.8 & -1.7 & 4.4 & 12.2 & 17.9 & 20.4 & 17.8 & $\\dots$ \\\\\n",
       "\t15 & 2897 & -8.6 & -7.6 & -1.8 & 4.3 & 12.6 & 18.4 & 20.4 & 17.5 & $\\dots$ \\\\\n",
       "\t16 & 2912 & -4.6 & -4.3 & 0.1 & 5.7 & 13.4 & 18.6 & 20.3 & 18.4 & $\\dots$ \\\\\n",
       "\t17 & 2929 & -8.2 & -7.2 & -1.3 & 4.9 & 13.5 & 19.0 & 21.0 & 18.3 & $\\dots$ \\\\\n",
       "\t18 & 2935 & -6.8 & -5.9 & -0.4 & 5.7 & 14.3 & 19.5 & 20.8 & 18.2 & $\\dots$ \\\\\n",
       "\t19 & 2942 & -5.1 & -4.6 & 0.2 & 6.3 & 14.7 & 19.7 & 21.1 & 18.8 & $\\dots$ \\\\\n",
       "\t20 & 2958 & -6.5 & -5.7 & -2.1 & 6.3 & 14.8 & 19.7 & 21.3 & 19.1 & $\\dots$ \\\\\n",
       "\t21 & 2963 & -4.6 & -4.1 & 0.5 & 6.8 & 15.0 & 19.7 & 20.9 & 19.1 & $\\dots$ \\\\\n",
       "\t22 & 2972 & -3.3 & -3.0 & 1.2 & 7.4 & 15.2 & 20.2 & 21.3 & 19.7 & $\\dots$ \\\\\n",
       "\t23 & 2974 & -4.1 & -3.7 & 0.6 & 7.0 & 15.2 & 20.0 & 21.3 & 19.6 & $\\dots$ \\\\\n",
       "\t24 & 3005 & 5.3 & 5.1 & 6.0 & 7.7 & 10.0 & 12.5 & 13.7 & 14.1 & $\\dots$ \\\\\n",
       "\t$\\dots$ & $\\dots$ & $\\dots$ & $\\dots$ & $\\dots$ & $\\dots$ & $\\dots$ & $\\dots$ & $\\dots$ & $\\dots$ &  \\\\\n",
       "\\end{tabular}\n"
      ],
      "text/plain": [
       "\u001b[1m822×18 DataFrame\u001b[0m\n",
       "\u001b[1m Row \u001b[0m│\u001b[1m Station \u001b[0m\u001b[1m Jan     \u001b[0m\u001b[1m Feb     \u001b[0m\u001b[1m Mrz     \u001b[0m\u001b[1m Apr     \u001b[0m\u001b[1m Mai     \u001b[0m\u001b[1m Jun     \u001b[0m\u001b[1m Jul     \u001b[0m\u001b[1m\u001b[0m ⋯\n",
       "     │\u001b[90m Int64   \u001b[0m\u001b[90m Float64 \u001b[0m\u001b[90m Float64 \u001b[0m\u001b[90m Float64 \u001b[0m\u001b[90m Float64 \u001b[0m\u001b[90m Float64 \u001b[0m\u001b[90m Float64 \u001b[0m\u001b[90m Float64 \u001b[0m\u001b[90m\u001b[0m ⋯\n",
       "─────┼──────────────────────────────────────────────────────────────────────────\n",
       "   1 │    2080    -11.2     -9.7     -4.8      0.8      7.4     14.7     17.3  ⋯\n",
       "   2 │    2081    -11.2     -9.7     -4.8      0.8      7.4     14.7     17.3\n",
       "   3 │    2120    -12.5     -4.2     -3.7      1.3      8.9     13.5     15.9\n",
       "   4 │    2287      0.0      0.1      0.1      2.2      8.1     13.4     18.9\n",
       "   5 │    2288      0.0      0.1      0.1      2.2      8.1     13.4     18.9  ⋯\n",
       "   6 │    2418     -1.5     -0.9      3.3      8.6     15.4     20.1     21.1\n",
       "   7 │    2512      0.6      1.1      4.5      9.2     15.6     19.2     20.1\n",
       "   8 │    2550     -1.1     -0.5      3.0      8.5     15.2     19.6     20.5\n",
       "  ⋮  │    ⋮        ⋮        ⋮        ⋮        ⋮        ⋮        ⋮        ⋮     ⋱\n",
       " 816 │   96471     29.8     30.1     30.9     31.6     31.4     31.3     31.0  ⋯\n",
       " 817 │   96481     31.6     31.4     31.9     32.3     32.4     31.8     31.3\n",
       " 818 │   96491     29.2     29.5     30.5     31.6     32.5     32.2     32.2\n",
       " 819 │   96749     29.7     30.1     31.1     31.7     31.8     31.8     31.4\n",
       " 820 │   96995     27.9     28.1     28.3     28.3     27.8     27.0     26.3  ⋯\n",
       " 821 │   97014     29.4     29.5     30.0     31.4     31.4     31.2     31.3\n",
       " 822 │   97072     32.1     31.8     31.5     33.0     33.0     32.8     32.4\n",
       "\u001b[36m                                                 10 columns and 807 rows omitted\u001b[0m"
      ]
     },
     "metadata": {},
     "output_type": "display_data"
    }
   ],
   "source": [
    "station_values"
   ]
  },
  {
   "cell_type": "code",
   "execution_count": 7,
   "metadata": {},
   "outputs": [],
   "source": [
    "using GeoJSON"
   ]
  },
  {
   "cell_type": "code",
   "execution_count": 8,
   "metadata": {},
   "outputs": [
    {
     "data": {
      "text/plain": [
       "FeatureCollection with 177 Features"
      ]
     },
     "metadata": {},
     "output_type": "display_data"
    }
   ],
   "source": [
    "worldCountries = GeoJSON.read(\"../ne_110m_admin_0_countries.geojson\")"
   ]
  },
  {
   "cell_type": "code",
   "execution_count": 9,
   "metadata": {},
   "outputs": [
    {
     "data": {
      "text/plain": [
       "Observable([-11.2, -11.2, -12.5, 0.0, 0.0, -1.5, 0.6, -1.1, 3.1, -9.6  …  29.5, 29.7, 29.7, 29.8, 31.6, 29.2, 29.7, 27.9, 29.4, 32.1])\n"
      ]
     },
     "metadata": {},
     "output_type": "display_data"
    }
   ],
   "source": [
    "colors=Observable(station_values.Jan)"
   ]
  },
  {
   "cell_type": "code",
   "execution_count": 15,
   "metadata": {},
   "outputs": [
    {
     "data": {
      "text/plain": [
       "\"Mai\""
      ]
     },
     "metadata": {},
     "output_type": "display_data"
    }
   ],
   "source": [
    "using Dates\n",
    "german_months=[\"Januar\",\"Februar\",\"März\",\"April\",\"Mai\",\"Juni\",\"Juli\",\"August\",\"September\",\"Oktober\",\"November\",\"Dezember\"]\n",
    "german_month_abbr=[\"Jan\",\"Feb\",\"Mrz\",\"Apr\",\"Mai\",\"Jun\",\"Jul\",\"Aug\",\"Sep\",\"Okt\",\"Nov\",\"Dez\"]\n",
    "german_days=[\"Montag\",\"Dienstag\",\"Mittwoch\",\"Donnerstag\",\"Freitag\",\"Samstag\",\"Sonntag\"]\n",
    "Dates.LOCALES[\"german\"] = Dates.DateLocale(german_months, german_month_abbr, german_days, [\"\"]);\n",
    "monthabbr(5,locale=\"german\")"
   ]
  },
  {
   "cell_type": "code",
   "execution_count": 16,
   "metadata": {},
   "outputs": [
    {
     "data": {
      "text/plain": [
       "Observable(\"Climatological mean maximum temperature at stations \\n all over the world for January 1961-1990\")\n"
      ]
     },
     "metadata": {},
     "output_type": "display_data"
    }
   ],
   "source": [
    "texting=Observable(\"Climatological mean maximum temperature at stations \\n all over the world for $(monthname(1)) 1961-1990\")"
   ]
  },
  {
   "cell_type": "code",
   "execution_count": 18,
   "metadata": {},
   "outputs": [],
   "source": [
    "fig=Figure()\n",
    "q=Label(fig[1,1],text=texting,fontsize=30)\n",
    "ax=GeoAxis(fig[2,1],width=800,height=600)\n",
    "hm2 = poly!(\n",
    "    ax, worldCountries;\n",
    "    color= :gray,\n",
    "    strokecolor = :black,\n",
    "    strokewidth = 0.25\n",
    ")\n",
    "s=scatter!(ax,station_values.Longitude,station_values.Latitude,markersize=6,color=colors,colormap=cgrad(:roma,rev=true),colorrange=(-10,35),lowclip=cgrad(:roma,rev=true)[0.0],highclip=cgrad(:roma,rev=true)[1.0],strokecolor=:black,strokewidth=0.5)\n",
    "Colorbar(fig[3,1],s,vertical=false,label=\"Mean maximum temperature in °C\")\n",
    "Label(fig[4,1],text=\"Data: © Deutscher Wetterdienst\\nMade with Natural Earth\",justification=:left)\n",
    "Makie.resize_to_layout!(fig)\n",
    "fig"
   ]
  },
  {
   "cell_type": "code",
   "execution_count": 19,
   "metadata": {},
   "outputs": [
    {
     "data": {
      "text/plain": [
       "\"mean_max_temperature.gif\""
      ]
     },
     "metadata": {},
     "output_type": "display_data"
    }
   ],
   "source": [
    "\n",
    "record(fig, \"mean_max_temperature.gif\", 1:12;\n",
    "        framerate = 1) do month\n",
    "    colors[]=getproperty(station_values,\"$(monthabbr(month,locale=\"german\"))\")\n",
    "    q.text[]=\"Climatological mean maximum temperature at stations \\n all over the world for $(monthname(month)) 1961-1990\"\n",
    "\n",
    "end"
   ]
  },
  {
   "cell_type": "code",
   "execution_count": 14,
   "metadata": {},
   "outputs": [],
   "source": []
  },
  {
   "cell_type": "markdown",
   "metadata": {},
   "source": []
  }
 ],
 "metadata": {
  "kernelspec": {
   "display_name": "Julia 1.9.3",
   "language": "julia",
   "name": "julia-1.9"
  },
  "language_info": {
   "file_extension": ".jl",
   "mimetype": "application/julia",
   "name": "julia",
   "version": "1.9.3"
  },
  "orig_nbformat": 4
 },
 "nbformat": 4,
 "nbformat_minor": 2
}
