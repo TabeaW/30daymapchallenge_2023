{
 "cells": [
  {
   "cell_type": "markdown",
   "metadata": {},
   "source": [
    "* Data from https://opendata.dwd.de/climate_environment/CDC/observations_germany/climate/daily/water_equiv/historical/"
   ]
  },
  {
   "cell_type": "code",
   "execution_count": 8,
   "metadata": {},
   "outputs": [
    {
     "data": {
      "text/plain": [
       "Process(`\u001b[4munzip\u001b[24m \u001b[4m'*.zip'\u001b[24m`, ProcessExited(0))"
      ]
     },
     "metadata": {},
     "output_type": "display_data"
    }
   ],
   "source": [
    "#run(`wget --force-html -i https://opendata.dwd.de/climate_environment/CDC/observations_germany/climate/daily/water_equiv/historical/`)\n",
    "#run(`unzip \"*.zip\"`)"
   ]
  },
  {
   "cell_type": "code",
   "execution_count": 12,
   "metadata": {},
   "outputs": [],
   "source": [
    "using CSV, DataFrames,Dates,Statistics"
   ]
  },
  {
   "cell_type": "code",
   "execution_count": 19,
   "metadata": {},
   "outputs": [
    {
     "data": {
      "text/html": [
       "<div><div style = \"float: left;\"><span>8×7 DataFrame</span></div><div style = \"clear: both;\"></div></div><div class = \"data-frame\" style = \"overflow-x: scroll;\"><table class = \"data-frame\" style = \"margin-bottom: 6px;\"><thead><tr class = \"header\"><th class = \"rowNumber\" style = \"font-weight: bold; text-align: right;\">Row</th><th style = \"text-align: left;\">Stations_id</th><th style = \"text-align: left;\">Stationshoehe</th><th style = \"text-align: left;\">Geogr.Breite</th><th style = \"text-align: left;\">Geogr.Laenge</th><th style = \"text-align: left;\">von_datum</th><th style = \"text-align: left;\">bis_datum</th><th style = \"text-align: left;\">Stationsname</th></tr><tr class = \"subheader headerLastRow\"><th class = \"rowNumber\" style = \"font-weight: bold; text-align: right;\"></th><th title = \"Int64\" style = \"text-align: left;\">Int64</th><th title = \"Float64\" style = \"text-align: left;\">Float64</th><th title = \"Float64\" style = \"text-align: left;\">Float64</th><th title = \"Float64\" style = \"text-align: left;\">Float64</th><th title = \"Int64\" style = \"text-align: left;\">Int64</th><th title = \"Int64\" style = \"text-align: left;\">Int64</th><th title = \"String31\" style = \"text-align: left;\">String31</th></tr></thead><tbody><tr><td class = \"rowNumber\" style = \"font-weight: bold; text-align: right;\">1</td><td style = \"text-align: right;\">2380</td><td style = \"text-align: right;\">126.0</td><td style = \"text-align: right;\">52.1623</td><td style = \"text-align: right;\">8.0423</td><td style = \"text-align: right;\">18910801</td><td style = \"text-align: right;\">19401231</td><td style = \"text-align: left;\">Iburg-Glane, Bad</td></tr><tr><td class = \"rowNumber\" style = \"font-weight: bold; text-align: right;\">2</td><td style = \"text-align: right;\">2380</td><td style = \"text-align: right;\">122.0</td><td style = \"text-align: right;\">52.1592</td><td style = \"text-align: right;\">8.0466</td><td style = \"text-align: right;\">19470101</td><td style = \"text-align: right;\">19550302</td><td style = \"text-align: left;\">Iburg-Glane, Bad</td></tr><tr><td class = \"rowNumber\" style = \"font-weight: bold; text-align: right;\">3</td><td style = \"text-align: right;\">2380</td><td style = \"text-align: right;\">122.0</td><td style = \"text-align: right;\">52.1592</td><td style = \"text-align: right;\">8.0466</td><td style = \"text-align: right;\">19550303</td><td style = \"text-align: right;\">19581231</td><td style = \"text-align: left;\">Iburg-Glane, Bad</td></tr><tr><td class = \"rowNumber\" style = \"font-weight: bold; text-align: right;\">4</td><td style = \"text-align: right;\">2380</td><td style = \"text-align: right;\">122.0</td><td style = \"text-align: right;\">52.1569</td><td style = \"text-align: right;\">8.041</td><td style = \"text-align: right;\">19590101</td><td style = \"text-align: right;\">19640221</td><td style = \"text-align: left;\">Iburg-Glane, Bad</td></tr><tr><td class = \"rowNumber\" style = \"font-weight: bold; text-align: right;\">5</td><td style = \"text-align: right;\">2380</td><td style = \"text-align: right;\">122.0</td><td style = \"text-align: right;\">52.1592</td><td style = \"text-align: right;\">8.0466</td><td style = \"text-align: right;\">19640222</td><td style = \"text-align: right;\">19660331</td><td style = \"text-align: left;\">Iburg-Glane, Bad</td></tr><tr><td class = \"rowNumber\" style = \"font-weight: bold; text-align: right;\">6</td><td style = \"text-align: right;\">2380</td><td style = \"text-align: right;\">115.0</td><td style = \"text-align: right;\">52.1611</td><td style = \"text-align: right;\">8.0566</td><td style = \"text-align: right;\">19660401</td><td style = \"text-align: right;\">19711231</td><td style = \"text-align: left;\">Iburg-Glane, Bad</td></tr><tr><td class = \"rowNumber\" style = \"font-weight: bold; text-align: right;\">7</td><td style = \"text-align: right;\">2380</td><td style = \"text-align: right;\">115.0</td><td style = \"text-align: right;\">52.1533</td><td style = \"text-align: right;\">8.0434</td><td style = \"text-align: right;\">19720101</td><td style = \"text-align: right;\">20170531</td><td style = \"text-align: left;\">Iburg-Glane, Bad</td></tr><tr><td class = \"rowNumber\" style = \"font-weight: bold; text-align: right;\">8</td><td style = \"text-align: right;\">2380</td><td style = \"text-align: right;\">105.0</td><td style = \"text-align: right;\">52.145</td><td style = \"text-align: right;\">8.0456</td><td style = \"text-align: right;\">20170927</td><td style = \"text-align: right;\">20200102</td><td style = \"text-align: left;\">Iburg-Glane, Bad</td></tr></tbody></table></div>"
      ],
      "text/latex": [
       "\\begin{tabular}{r|ccccccc}\n",
       "\t& Stations\\_id & Stationshoehe & Geogr.Breite & Geogr.Laenge & von\\_datum & bis\\_datum & Stationsname\\\\\n",
       "\t\\hline\n",
       "\t& Int64 & Float64 & Float64 & Float64 & Int64 & Int64 & String31\\\\\n",
       "\t\\hline\n",
       "\t1 & 2380 & 126.0 & 52.1623 & 8.0423 & 18910801 & 19401231 & Iburg-Glane, Bad \\\\\n",
       "\t2 & 2380 & 122.0 & 52.1592 & 8.0466 & 19470101 & 19550302 & Iburg-Glane, Bad \\\\\n",
       "\t3 & 2380 & 122.0 & 52.1592 & 8.0466 & 19550303 & 19581231 & Iburg-Glane, Bad \\\\\n",
       "\t4 & 2380 & 122.0 & 52.1569 & 8.041 & 19590101 & 19640221 & Iburg-Glane, Bad \\\\\n",
       "\t5 & 2380 & 122.0 & 52.1592 & 8.0466 & 19640222 & 19660331 & Iburg-Glane, Bad \\\\\n",
       "\t6 & 2380 & 115.0 & 52.1611 & 8.0566 & 19660401 & 19711231 & Iburg-Glane, Bad \\\\\n",
       "\t7 & 2380 & 115.0 & 52.1533 & 8.0434 & 19720101 & 20170531 & Iburg-Glane, Bad \\\\\n",
       "\t8 & 2380 & 105.0 & 52.145 & 8.0456 & 20170927 & 20200102 & Iburg-Glane, Bad \\\\\n",
       "\\end{tabular}\n"
      ],
      "text/plain": [
       "\u001b[1m8×7 DataFrame\u001b[0m\n",
       "\u001b[1m Row \u001b[0m│\u001b[1m Stations_id \u001b[0m\u001b[1m Stationshoehe \u001b[0m\u001b[1m Geogr.Breite \u001b[0m\u001b[1m Geogr.Laenge \u001b[0m\u001b[1m von_datum \u001b[0m\u001b[1m bis_\u001b[0m ⋯\n",
       "     │\u001b[90m Int64       \u001b[0m\u001b[90m Float64       \u001b[0m\u001b[90m Float64      \u001b[0m\u001b[90m Float64      \u001b[0m\u001b[90m Int64     \u001b[0m\u001b[90m Int6\u001b[0m ⋯\n",
       "─────┼──────────────────────────────────────────────────────────────────────────\n",
       "   1 │        2380          126.0       52.1623        8.0423   18910801   194 ⋯\n",
       "   2 │        2380          122.0       52.1592        8.0466   19470101   195\n",
       "   3 │        2380          122.0       52.1592        8.0466   19550303   195\n",
       "   4 │        2380          122.0       52.1569        8.041    19590101   196\n",
       "   5 │        2380          122.0       52.1592        8.0466   19640222   196 ⋯\n",
       "   6 │        2380          115.0       52.1611        8.0566   19660401   197\n",
       "   7 │        2380          115.0       52.1533        8.0434   19720101   201\n",
       "   8 │        2380          105.0       52.145         8.0456   20170927   202\n",
       "\u001b[36m                                                               2 columns omitted\u001b[0m"
      ]
     },
     "metadata": {},
     "output_type": "display_data"
    }
   ],
   "source": [
    "CSV.File(\"data/Metadaten_Geographie_02380.txt\",delim=\";\")|>DataFrame"
   ]
  },
  {
   "cell_type": "code",
   "execution_count": 32,
   "metadata": {},
   "outputs": [],
   "source": [
    "christmas_max=DataFrame(lat=Float64[],long=Float64[],height=Float64[],val_max=Float64[],val_min=Float64[],val_mean=Float64[])\n",
    "for file in readdir(\"data\")\n",
    "    if !startswith(file,\"produkt_waequi\")\n",
    "        continue\n",
    "    end\n",
    "    station_num=file[end-8:end-4]\n",
    "    df=CSV.File(\"data/$file\",delim=';')|>DataFrame\n",
    "    df.MESS_DATUM=map(x->(num=digits(x);Date(num[8]*1000+num[7]*100+num[6]*10+num[5],num[4]*10+num[3],num[2]*10+num[1])),df.MESS_DATUM)\n",
    "    df=df[df.SH_TAG.!=-999,:]\n",
    "    ch_vals=df[(day.(df.MESS_DATUM).==24).&(month.(df.MESS_DATUM).==12),:SH_TAG]\n",
    "    if size(ch_vals,1)==0\n",
    "        continue\n",
    "    end\n",
    "    df_info=CSV.File(\"data/Metadaten_Geographie_$(station_num).txt\",delim=\";\")|>DataFrame\n",
    "    breite=mean(df_info.\"Geogr.Breite\")\n",
    "    laenge=mean(df_info.\"Geogr.Laenge\")\n",
    "    hoehe=mean(df_info.Stationshoehe)\n",
    "    christmas_max=vcat(christmas_max,DataFrame(lat=breite,long=laenge,height=hoehe,val_max=maximum(ch_vals),val_min=minimum(ch_vals),val_mean=mean(ch_vals)))\n",
    "\n",
    "end"
   ]
  },
  {
   "cell_type": "code",
   "execution_count": 33,
   "metadata": {},
   "outputs": [
    {
     "data": {
      "text/html": [
       "<div><div style = \"float: left;\"><span>948×6 DataFrame</span></div><div style = \"float: right;\"><span style = \"font-style: italic;\">923 rows omitted</span></div><div style = \"clear: both;\"></div></div><div class = \"data-frame\" style = \"overflow-x: scroll;\"><table class = \"data-frame\" style = \"margin-bottom: 6px;\"><thead><tr class = \"header\"><th class = \"rowNumber\" style = \"font-weight: bold; text-align: right;\">Row</th><th style = \"text-align: left;\">lat</th><th style = \"text-align: left;\">long</th><th style = \"text-align: left;\">height</th><th style = \"text-align: left;\">val_max</th><th style = \"text-align: left;\">val_min</th><th style = \"text-align: left;\">val_mean</th></tr><tr class = \"subheader headerLastRow\"><th class = \"rowNumber\" style = \"font-weight: bold; text-align: right;\"></th><th title = \"Float64\" style = \"text-align: left;\">Float64</th><th title = \"Float64\" style = \"text-align: left;\">Float64</th><th title = \"Float64\" style = \"text-align: left;\">Float64</th><th title = \"Float64\" style = \"text-align: left;\">Float64</th><th title = \"Float64\" style = \"text-align: left;\">Float64</th><th title = \"Float64\" style = \"text-align: left;\">Float64</th></tr></thead><tbody><tr><td class = \"rowNumber\" style = \"font-weight: bold; text-align: right;\">1</td><td style = \"text-align: right;\">47.4004</td><td style = \"text-align: right;\">10.2767</td><td style = \"text-align: right;\">807.94</td><td style = \"text-align: right;\">100.0</td><td style = \"text-align: right;\">0.0</td><td style = \"text-align: right;\">20.7885</td></tr><tr><td class = \"rowNumber\" style = \"font-weight: bold; text-align: right;\">2</td><td style = \"text-align: right;\">49.953</td><td style = \"text-align: right;\">11.5657</td><td style = \"text-align: right;\">349.357</td><td style = \"text-align: right;\">28.0</td><td style = \"text-align: right;\">0.0</td><td style = \"text-align: right;\">2.43529</td></tr><tr><td class = \"rowNumber\" style = \"font-weight: bold; text-align: right;\">3</td><td style = \"text-align: right;\">47.6262</td><td style = \"text-align: right;\">10.8068</td><td style = \"text-align: right;\">798.0</td><td style = \"text-align: right;\">74.0</td><td style = \"text-align: right;\">0.0</td><td style = \"text-align: right;\">12.0759</td></tr><tr><td class = \"rowNumber\" style = \"font-weight: bold; text-align: right;\">4</td><td style = \"text-align: right;\">47.6</td><td style = \"text-align: right;\">12.85</td><td style = \"text-align: right;\">804.0</td><td style = \"text-align: right;\">67.0</td><td style = \"text-align: right;\">0.0</td><td style = \"text-align: right;\">19.8286</td></tr><tr><td class = \"rowNumber\" style = \"font-weight: bold; text-align: right;\">5</td><td style = \"text-align: right;\">47.7</td><td style = \"text-align: right;\">11.8833</td><td style = \"text-align: right;\">780.0</td><td style = \"text-align: right;\">53.0</td><td style = \"text-align: right;\">0.0</td><td style = \"text-align: right;\">11.4118</td></tr><tr><td class = \"rowNumber\" style = \"font-weight: bold; text-align: right;\">6</td><td style = \"text-align: right;\">48.6923</td><td style = \"text-align: right;\">11.9022</td><td style = \"text-align: right;\">470.0</td><td style = \"text-align: right;\">30.0</td><td style = \"text-align: right;\">0.0</td><td style = \"text-align: right;\">4.03333</td></tr><tr><td class = \"rowNumber\" style = \"font-weight: bold; text-align: right;\">7</td><td style = \"text-align: right;\">49.1068</td><td style = \"text-align: right;\">9.72415</td><td style = \"text-align: right;\">347.364</td><td style = \"text-align: right;\">20.0</td><td style = \"text-align: right;\">0.0</td><td style = \"text-align: right;\">2.29268</td></tr><tr><td class = \"rowNumber\" style = \"font-weight: bold; text-align: right;\">8</td><td style = \"text-align: right;\">49.0299</td><td style = \"text-align: right;\">11.6029</td><td style = \"text-align: right;\">367.5</td><td style = \"text-align: right;\">0.0</td><td style = \"text-align: right;\">0.0</td><td style = \"text-align: right;\">0.0</td></tr><tr><td class = \"rowNumber\" style = \"font-weight: bold; text-align: right;\">9</td><td style = \"text-align: right;\">48.7329</td><td style = \"text-align: right;\">10.7745</td><td style = \"text-align: right;\">452.0</td><td style = \"text-align: right;\">5.0</td><td style = \"text-align: right;\">0.0</td><td style = \"text-align: right;\">2.6</td></tr><tr><td class = \"rowNumber\" style = \"font-weight: bold; text-align: right;\">10</td><td style = \"text-align: right;\">49.2553</td><td style = \"text-align: right;\">10.2469</td><td style = \"text-align: right;\">465.0</td><td style = \"text-align: right;\">11.0</td><td style = \"text-align: right;\">0.0</td><td style = \"text-align: right;\">3.16667</td></tr><tr><td class = \"rowNumber\" style = \"font-weight: bold; text-align: right;\">11</td><td style = \"text-align: right;\">49.0119</td><td style = \"text-align: right;\">13.2404</td><td style = \"text-align: right;\">590.0</td><td style = \"text-align: right;\">48.0</td><td style = \"text-align: right;\">0.0</td><td style = \"text-align: right;\">15.75</td></tr><tr><td class = \"rowNumber\" style = \"font-weight: bold; text-align: right;\">12</td><td style = \"text-align: right;\">49.2996</td><td style = \"text-align: right;\">12.6298</td><td style = \"text-align: right;\">501.0</td><td style = \"text-align: right;\">29.0</td><td style = \"text-align: right;\">0.0</td><td style = \"text-align: right;\">7.85714</td></tr><tr><td class = \"rowNumber\" style = \"font-weight: bold; text-align: right;\">13</td><td style = \"text-align: right;\">49.1331</td><td style = \"text-align: right;\">12.121</td><td style = \"text-align: right;\">342.833</td><td style = \"text-align: right;\">10.0</td><td style = \"text-align: right;\">0.0</td><td style = \"text-align: right;\">3.1</td></tr><tr><td style = \"text-align: right;\">&vellip;</td><td style = \"text-align: right;\">&vellip;</td><td style = \"text-align: right;\">&vellip;</td><td style = \"text-align: right;\">&vellip;</td><td style = \"text-align: right;\">&vellip;</td><td style = \"text-align: right;\">&vellip;</td><td style = \"text-align: right;\">&vellip;</td></tr><tr><td class = \"rowNumber\" style = \"font-weight: bold; text-align: right;\">937</td><td style = \"text-align: right;\">51.1904</td><td style = \"text-align: right;\">8.4654</td><td style = \"text-align: right;\">780.45</td><td style = \"text-align: right;\">0.0</td><td style = \"text-align: right;\">0.0</td><td style = \"text-align: right;\">0.0</td></tr><tr><td class = \"rowNumber\" style = \"font-weight: bold; text-align: right;\">938</td><td style = \"text-align: right;\">50.1346</td><td style = \"text-align: right;\">6.853</td><td style = \"text-align: right;\">472.0</td><td style = \"text-align: right;\">0.0</td><td style = \"text-align: right;\">0.0</td><td style = \"text-align: right;\">0.0</td></tr><tr><td class = \"rowNumber\" style = \"font-weight: bold; text-align: right;\">939</td><td style = \"text-align: right;\">51.2139</td><td style = \"text-align: right;\">9.7929</td><td style = \"text-align: right;\">378.0</td><td style = \"text-align: right;\">0.0</td><td style = \"text-align: right;\">0.0</td><td style = \"text-align: right;\">0.0</td></tr><tr><td class = \"rowNumber\" style = \"font-weight: bold; text-align: right;\">940</td><td style = \"text-align: right;\">49.1172</td><td style = \"text-align: right;\">7.55319</td><td style = \"text-align: right;\">301.714</td><td style = \"text-align: right;\">0.0</td><td style = \"text-align: right;\">0.0</td><td style = \"text-align: right;\">0.0</td></tr><tr><td class = \"rowNumber\" style = \"font-weight: bold; text-align: right;\">941</td><td style = \"text-align: right;\">48.2431</td><td style = \"text-align: right;\">7.87605</td><td style = \"text-align: right;\">237.5</td><td style = \"text-align: right;\">0.0</td><td style = \"text-align: right;\">0.0</td><td style = \"text-align: right;\">0.0</td></tr><tr><td class = \"rowNumber\" style = \"font-weight: bold; text-align: right;\">942</td><td style = \"text-align: right;\">50.9657</td><td style = \"text-align: right;\">10.6988</td><td style = \"text-align: right;\">278.0</td><td style = \"text-align: right;\">0.0</td><td style = \"text-align: right;\">0.0</td><td style = \"text-align: right;\">0.0</td></tr><tr><td class = \"rowNumber\" style = \"font-weight: bold; text-align: right;\">943</td><td style = \"text-align: right;\">51.191</td><td style = \"text-align: right;\">8.52003</td><td style = \"text-align: right;\">695.0</td><td style = \"text-align: right;\">0.0</td><td style = \"text-align: right;\">0.0</td><td style = \"text-align: right;\">0.0</td></tr><tr><td class = \"rowNumber\" style = \"font-weight: bold; text-align: right;\">944</td><td style = \"text-align: right;\">47.9073</td><td style = \"text-align: right;\">9.75064</td><td style = \"text-align: right;\">605.6</td><td style = \"text-align: right;\">0.0</td><td style = \"text-align: right;\">0.0</td><td style = \"text-align: right;\">0.0</td></tr><tr><td class = \"rowNumber\" style = \"font-weight: bold; text-align: right;\">945</td><td style = \"text-align: right;\">49.9478</td><td style = \"text-align: right;\">11.712</td><td style = \"text-align: right;\">432.571</td><td style = \"text-align: right;\">0.0</td><td style = \"text-align: right;\">0.0</td><td style = \"text-align: right;\">0.0</td></tr><tr><td class = \"rowNumber\" style = \"font-weight: bold; text-align: right;\">946</td><td style = \"text-align: right;\">49.4897</td><td style = \"text-align: right;\">10.6367</td><td style = \"text-align: right;\">368.333</td><td style = \"text-align: right;\">0.0</td><td style = \"text-align: right;\">0.0</td><td style = \"text-align: right;\">0.0</td></tr><tr><td class = \"rowNumber\" style = \"font-weight: bold; text-align: right;\">947</td><td style = \"text-align: right;\">48.7563</td><td style = \"text-align: right;\">13.1769</td><td style = \"text-align: right;\">384.571</td><td style = \"text-align: right;\">0.0</td><td style = \"text-align: right;\">0.0</td><td style = \"text-align: right;\">0.0</td></tr><tr><td class = \"rowNumber\" style = \"font-weight: bold; text-align: right;\">948</td><td style = \"text-align: right;\">49.8713</td><td style = \"text-align: right;\">11.7883</td><td style = \"text-align: right;\">462.5</td><td style = \"text-align: right;\">0.0</td><td style = \"text-align: right;\">0.0</td><td style = \"text-align: right;\">0.0</td></tr></tbody></table></div>"
      ],
      "text/latex": [
       "\\begin{tabular}{r|cccccc}\n",
       "\t& lat & long & height & val\\_max & val\\_min & val\\_mean\\\\\n",
       "\t\\hline\n",
       "\t& Float64 & Float64 & Float64 & Float64 & Float64 & Float64\\\\\n",
       "\t\\hline\n",
       "\t1 & 47.4004 & 10.2767 & 807.94 & 100.0 & 0.0 & 20.7885 \\\\\n",
       "\t2 & 49.953 & 11.5657 & 349.357 & 28.0 & 0.0 & 2.43529 \\\\\n",
       "\t3 & 47.6262 & 10.8068 & 798.0 & 74.0 & 0.0 & 12.0759 \\\\\n",
       "\t4 & 47.6 & 12.85 & 804.0 & 67.0 & 0.0 & 19.8286 \\\\\n",
       "\t5 & 47.7 & 11.8833 & 780.0 & 53.0 & 0.0 & 11.4118 \\\\\n",
       "\t6 & 48.6923 & 11.9022 & 470.0 & 30.0 & 0.0 & 4.03333 \\\\\n",
       "\t7 & 49.1068 & 9.72415 & 347.364 & 20.0 & 0.0 & 2.29268 \\\\\n",
       "\t8 & 49.0299 & 11.6029 & 367.5 & 0.0 & 0.0 & 0.0 \\\\\n",
       "\t9 & 48.7329 & 10.7745 & 452.0 & 5.0 & 0.0 & 2.6 \\\\\n",
       "\t10 & 49.2553 & 10.2469 & 465.0 & 11.0 & 0.0 & 3.16667 \\\\\n",
       "\t11 & 49.0119 & 13.2404 & 590.0 & 48.0 & 0.0 & 15.75 \\\\\n",
       "\t12 & 49.2996 & 12.6298 & 501.0 & 29.0 & 0.0 & 7.85714 \\\\\n",
       "\t13 & 49.1331 & 12.121 & 342.833 & 10.0 & 0.0 & 3.1 \\\\\n",
       "\t14 & 50.4424 & 11.3753 & 616.0 & 42.0 & 1.0 & 12.6667 \\\\\n",
       "\t15 & 49.1565 & 12.6459 & 435.0 & 20.0 & 0.0 & 6.25 \\\\\n",
       "\t16 & 49.6167 & 12.4167 & 500.0 & 30.0 & 0.0 & 6.16667 \\\\\n",
       "\t17 & 49.6481 & 11.245 & 477.0 & 29.0 & 0.0 & 7.0 \\\\\n",
       "\t18 & 49.4137 & 10.428 & 434.833 & 14.0 & 5.0 & 9.0 \\\\\n",
       "\t19 & 50.1749 & 11.6028 & 581.0 & 35.0 & 1.0 & 9.07143 \\\\\n",
       "\t20 & 48.4798 & 12.2604 & 467.0 & 19.0 & 0.0 & 5.7 \\\\\n",
       "\t21 & 48.2 & 10.1167 & 518.0 & 15.0 & 0.0 & 3.8 \\\\\n",
       "\t22 & 48.9167 & 10.8833 & 457.0 & 18.0 & 0.0 & 6.9 \\\\\n",
       "\t23 & 48.4994 & 8.30549 & 878.333 & 80.0 & 0.0 & 19.75 \\\\\n",
       "\t24 & 48.8761 & 13.0499 & 800.5 & 113.0 & 0.0 & 23.2414 \\\\\n",
       "\t$\\dots$ & $\\dots$ & $\\dots$ & $\\dots$ & $\\dots$ & $\\dots$ & $\\dots$ \\\\\n",
       "\\end{tabular}\n"
      ],
      "text/plain": [
       "\u001b[1m948×6 DataFrame\u001b[0m\n",
       "\u001b[1m Row \u001b[0m│\u001b[1m lat     \u001b[0m\u001b[1m long     \u001b[0m\u001b[1m height  \u001b[0m\u001b[1m val_max \u001b[0m\u001b[1m val_min \u001b[0m\u001b[1m val_mean \u001b[0m\n",
       "     │\u001b[90m Float64 \u001b[0m\u001b[90m Float64  \u001b[0m\u001b[90m Float64 \u001b[0m\u001b[90m Float64 \u001b[0m\u001b[90m Float64 \u001b[0m\u001b[90m Float64  \u001b[0m\n",
       "─────┼────────────────────────────────────────────────────────\n",
       "   1 │ 47.4004  10.2767   807.94     100.0      0.0  20.7885\n",
       "   2 │ 49.953   11.5657   349.357     28.0      0.0   2.43529\n",
       "   3 │ 47.6262  10.8068   798.0       74.0      0.0  12.0759\n",
       "   4 │ 47.6     12.85     804.0       67.0      0.0  19.8286\n",
       "   5 │ 47.7     11.8833   780.0       53.0      0.0  11.4118\n",
       "   6 │ 48.6923  11.9022   470.0       30.0      0.0   4.03333\n",
       "   7 │ 49.1068   9.72415  347.364     20.0      0.0   2.29268\n",
       "   8 │ 49.0299  11.6029   367.5        0.0      0.0   0.0\n",
       "  ⋮  │    ⋮        ⋮         ⋮        ⋮        ⋮        ⋮\n",
       " 942 │ 50.9657  10.6988   278.0        0.0      0.0   0.0\n",
       " 943 │ 51.191    8.52003  695.0        0.0      0.0   0.0\n",
       " 944 │ 47.9073   9.75064  605.6        0.0      0.0   0.0\n",
       " 945 │ 49.9478  11.712    432.571      0.0      0.0   0.0\n",
       " 946 │ 49.4897  10.6367   368.333      0.0      0.0   0.0\n",
       " 947 │ 48.7563  13.1769   384.571      0.0      0.0   0.0\n",
       " 948 │ 49.8713  11.7883   462.5        0.0      0.0   0.0\n",
       "\u001b[36m                                              933 rows omitted\u001b[0m"
      ]
     },
     "metadata": {},
     "output_type": "display_data"
    }
   ],
   "source": [
    "christmas_max"
   ]
  },
  {
   "cell_type": "code",
   "execution_count": 5,
   "metadata": {},
   "outputs": [],
   "source": [
    "using GLMakie"
   ]
  },
  {
   "cell_type": "code",
   "execution_count": 35,
   "metadata": {},
   "outputs": [],
   "source": [
    "surface(christmas_max.long,christmas_max.lat,christmas_max.height,color=christmas_max.val_max)"
   ]
  },
  {
   "cell_type": "code",
   "execution_count": 8,
   "metadata": {},
   "outputs": [],
   "source": [
    "fig=Figure()\n",
    "ax=Axis(fig[1,1])\n",
    "contourf!(ax,christmas_max.long,christmas_max.lat, christmas_max.val_max)\n",
    "fig"
   ]
  },
  {
   "cell_type": "code",
   "execution_count": 46,
   "metadata": {},
   "outputs": [],
   "source": [
    "using GeoMakie,ArchGDAL"
   ]
  },
  {
   "cell_type": "code",
   "execution_count": 47,
   "metadata": {},
   "outputs": [],
   "source": [
    "layer=ArchGDAL.getlayer(ArchGDAL.read(\"../nuts5000_12-31.gk3.shape/nuts5000/NUTS5000_N1.shp\"),0)\n",
    "bounds=DataFrame(layer);\n",
    "ArchGDAL.createcoordtrans(ArchGDAL.importURL(\"https://sg.geodatenzentrum.de/web_public/gdz/dokumentation/crs/gk3.prj\"), ArchGDAL.importPROJ4(\"+proj=longlat +datum=WGS84 +no_defs +type=crs\")) do transform\n",
    "    for x in eachrow(bounds)\n",
    "    ArchGDAL.transform!(x.\"\", transform)\n",
    "    end\n",
    "end"
   ]
  },
  {
   "cell_type": "code",
   "execution_count": 321,
   "metadata": {},
   "outputs": [],
   "source": [
    "fig=Figure()\n",
    "g=GridLayout(fig[1,1:3])\n",
    "Label(g[1,1],text=\"White christmas in Germany, where you have the best chance for it\",fontsize=30)\n",
    "Label(g[2,1],text=\"Based on triangulated station data\",fontsize=25)\n",
    "ax=GeoAxis(fig[2,1],latlims=(46.9,55.1),lonlims=(5.5,15.5),title=\"Maximum snow depth at christmas\")\n",
    "t=tricontourf!(ax,christmas_max.long, christmas_max.lat,christmas_max.val_max,colorrange=(0,50),colormap=:grays, levels=0:5:50)\n",
    "poly!(ax,GeoMakie.to_multipoly.(GeoMakie.geo2basic.(bounds.\"\")),color=:transparent,strokecolor=:white,strokewidth=1)\n",
    "scatter!(christmas_max.long, christmas_max.lat,marker='*',color=:green,markersize=20)\n",
    "hidedecorations!(ax)\n",
    "hidespines!(ax)\n",
    "Colorbar(fig[3,1],t,vertical=false,label=\"Snow depth in cm\")\n",
    "ax=GeoAxis(fig[2,2],latlims=(46.9,55.1),lonlims=(5.5,15.5),title=\"Minimal snow depth at christmas\")\n",
    "t=tricontourf!(ax,christmas_max.long, christmas_max.lat,christmas_max.val_min,colorrange=(0,50),colormap=:grays, levels=0:1:5)\n",
    "poly!(ax,GeoMakie.to_multipoly.(GeoMakie.geo2basic.(bounds.\"\")),color=:transparent,strokecolor=:white,strokewidth=1)\n",
    "scatter!(christmas_max.long, christmas_max.lat,marker='*',color=:green,markersize=20)\n",
    "hidedecorations!(ax)\n",
    "hidespines!(ax)\n",
    "Colorbar(fig[3,2],t,vertical=false,label=\"Snow depth in cm\")\n",
    "\n",
    "ax=GeoAxis(fig[2,3],latlims=(46.9,55.1),lonlims=(5.5,15.5),title=\"Mean snow depth at christmas\")\n",
    "t=tricontourf!(ax,christmas_max.long, christmas_max.lat,christmas_max.val_mean,colorrange=(0,10),colormap=:grays, levels=0:1:10)\n",
    "poly!(ax,GeoMakie.to_multipoly.(GeoMakie.geo2basic.(bounds.\"\")),color=:transparent,strokecolor=:white,strokewidth=1)\n",
    "scatter!(christmas_max.long, christmas_max.lat,marker='*',color=:green,markersize=20)\n",
    "hidedecorations!(ax)\n",
    "hidespines!(ax)\n",
    "Colorbar(fig[3,3],t,vertical=false,label=\"Snow depth in cm\")\n",
    "Label(fig[4,1:3],text=\"Data: © Deutscher Wetterdienst\\nGeodata: © GeoBasis-DE / BKG (2023)\",justification=:left)\n",
    "e1=MarkerElement(color = :green, marker = '*', markersize = 20)\n",
    "Legend(fig[2,4],[e1],[\"Station\"],patchsize = (35, 35), rowgap = 10,framevisible=false)\n",
    "Makie.resize_to_layout!(fig)\n",
    "fig"
   ]
  },
  {
   "cell_type": "code",
   "execution_count": 318,
   "metadata": {},
   "outputs": [],
   "source": [
    "save(\"white_christmas_black_white.png\",fig,px_per_unit=2)"
   ]
  },
  {
   "cell_type": "code",
   "execution_count": 1,
   "metadata": {},
   "outputs": [],
   "source": [
    "using DelimitedFiles"
   ]
  },
  {
   "cell_type": "code",
   "execution_count": 2,
   "metadata": {},
   "outputs": [
    {
     "data": {
      "text/plain": [
       "866×643 Matrix{Any}:\n",
       " -9999.0  -9999  -9999  -9999  -9999  …  -9999  -9999  -9999  -9999  -9999\n",
       " -9999    -9999  -9999  -9999  -9999     -9999  -9999  -9999  -9999  -9999\n",
       " -9999    -9999  -9999  -9999  -9999     -9999  -9999  -9999  -9999  -9999\n",
       " -9999    -9999  -9999  -9999  -9999     -9999  -9999  -9999  -9999  -9999\n",
       " -9999    -9999  -9999  -9999  -9999     -9999  -9999  -9999  -9999  -9999\n",
       " -9999    -9999  -9999  -9999  -9999  …  -9999  -9999  -9999  -9999  -9999\n",
       " -9999    -9999  -9999  -9999  -9999     -9999  -9999  -9999  -9999  -9999\n",
       " -9999    -9999  -9999  -9999  -9999     -9999  -9999  -9999  -9999  -9999\n",
       " -9999    -9999  -9999  -9999  -9999     -9999  -9999  -9999  -9999  -9999\n",
       " -9999    -9999  -9999  -9999  -9999     -9999  -9999  -9999  -9999  -9999\n",
       "     ⋮                                ⋱                    ⋮         \n",
       " -9999    -9999  -9999  -9999  -9999     -9999  -9999  -9999  -9999  -9999\n",
       " -9999    -9999  -9999  -9999  -9999     -9999  -9999  -9999  -9999  -9999\n",
       " -9999    -9999  -9999  -9999  -9999     -9999  -9999  -9999  -9999  -9999\n",
       " -9999    -9999  -9999  -9999  -9999  …  -9999  -9999  -9999  -9999  -9999\n",
       " -9999    -9999  -9999  -9999  -9999     -9999  -9999  -9999  -9999  -9999\n",
       " -9999    -9999  -9999  -9999  -9999     -9999  -9999  -9999  -9999  -9999\n",
       " -9999    -9999  -9999  -9999  -9999     -9999  -9999  -9999  -9999  -9999\n",
       " -9999    -9999  -9999  -9999  -9999     -9999  -9999  -9999  -9999  -9999\n",
       " -9999    -9999  -9999  -9999  -9999  …  -9999  -9999  -9999  -9999  -9999"
      ]
     },
     "metadata": {},
     "output_type": "display_data"
    }
   ],
   "source": [
    "dgm=readdlm(\"dgm1000_utm32s.asc\")[7:end,:]"
   ]
  },
  {
   "cell_type": "code",
   "execution_count": 8,
   "metadata": {},
   "outputs": [
    {
     "data": {
      "text/plain": [
       "1-element view(::Vector{Any}, [177626]) with eltype Any:\n",
       " NaN"
      ]
     },
     "metadata": {},
     "output_type": "display_data"
    }
   ],
   "source": [
    "dgm[dgm.<=-999].=NaN"
   ]
  },
  {
   "cell_type": "code",
   "execution_count": 62,
   "metadata": {},
   "outputs": [],
   "source": [
    "using DelaunayTriangulation"
   ]
  },
  {
   "cell_type": "code",
   "execution_count": 165,
   "metadata": {},
   "outputs": [
    {
     "data": {
      "text/html": [
       "<div><div style = \"float: left;\"><span>1×169 DataFrame</span></div><div style = \"float: right;\"><span style = \"font-style: italic;\">69 columns omitted</span></div><div style = \"clear: both;\"></div></div><div class = \"data-frame\" style = \"overflow-x: scroll;\"><table class = \"data-frame\" style = \"margin-bottom: 6px;\"><thead><tr class = \"header\"><th class = \"rowNumber\" style = \"font-weight: bold; text-align: right;\">Row</th><th style = \"text-align: left;\"></th><th style = \"text-align: left;\">featurecla</th><th style = \"text-align: left;\">scalerank</th><th style = \"text-align: left;\">LABELRANK</th><th style = \"text-align: left;\">SOVEREIGNT</th><th style = \"text-align: left;\">SOV_A3</th><th style = \"text-align: left;\">ADM0_DIF</th><th style = \"text-align: left;\">LEVEL</th><th style = \"text-align: left;\">TYPE</th><th style = \"text-align: left;\">TLC</th><th style = \"text-align: left;\">ADMIN</th><th style = \"text-align: left;\">ADM0_A3</th><th style = \"text-align: left;\">GEOU_DIF</th><th style = \"text-align: left;\">GEOUNIT</th><th style = \"text-align: left;\">GU_A3</th><th style = \"text-align: left;\">SU_DIF</th><th style = \"text-align: left;\">SUBUNIT</th><th style = \"text-align: left;\">SU_A3</th><th style = \"text-align: left;\">BRK_DIFF</th><th style = \"text-align: left;\">NAME</th><th style = \"text-align: left;\">NAME_LONG</th><th style = \"text-align: left;\">BRK_A3</th><th style = \"text-align: left;\">BRK_NAME</th><th style = \"text-align: left;\">BRK_GROUP</th><th style = \"text-align: left;\">ABBREV</th><th style = \"text-align: left;\">POSTAL</th><th style = \"text-align: left;\">FORMAL_EN</th><th style = \"text-align: left;\">FORMAL_FR</th><th style = \"text-align: left;\">NAME_CIAWF</th><th style = \"text-align: left;\">NOTE_ADM0</th><th style = \"text-align: left;\">NOTE_BRK</th><th style = \"text-align: left;\">NAME_SORT</th><th style = \"text-align: left;\">NAME_ALT</th><th style = \"text-align: left;\">MAPCOLOR7</th><th style = \"text-align: left;\">MAPCOLOR8</th><th style = \"text-align: left;\">MAPCOLOR9</th><th style = \"text-align: left;\">MAPCOLOR13</th><th style = \"text-align: left;\">POP_EST</th><th style = \"text-align: left;\">POP_RANK</th><th style = \"text-align: left;\">POP_YEAR</th><th style = \"text-align: left;\">GDP_MD</th><th style = \"text-align: left;\">GDP_YEAR</th><th style = \"text-align: left;\">ECONOMY</th><th style = \"text-align: left;\">INCOME_GRP</th><th style = \"text-align: left;\">FIPS_10</th><th style = \"text-align: left;\">ISO_A2</th><th style = \"text-align: left;\">ISO_A2_EH</th><th style = \"text-align: left;\">ISO_A3</th><th style = \"text-align: left;\">ISO_A3_EH</th><th style = \"text-align: left;\">ISO_N3</th><th style = \"text-align: left;\">ISO_N3_EH</th><th style = \"text-align: left;\">UN_A3</th><th style = \"text-align: left;\">WB_A2</th><th style = \"text-align: left;\">WB_A3</th><th style = \"text-align: left;\">WOE_ID</th><th style = \"text-align: left;\">WOE_ID_EH</th><th style = \"text-align: left;\">WOE_NOTE</th><th style = \"text-align: left;\">ADM0_ISO</th><th style = \"text-align: left;\">ADM0_DIFF</th><th style = \"text-align: left;\">ADM0_TLC</th><th style = \"text-align: left;\">ADM0_A3_US</th><th style = \"text-align: left;\">ADM0_A3_FR</th><th style = \"text-align: left;\">ADM0_A3_RU</th><th style = \"text-align: left;\">ADM0_A3_ES</th><th style = \"text-align: left;\">ADM0_A3_CN</th><th style = \"text-align: left;\">ADM0_A3_TW</th><th style = \"text-align: left;\">ADM0_A3_IN</th><th style = \"text-align: left;\">ADM0_A3_NP</th><th style = \"text-align: left;\">ADM0_A3_PK</th><th style = \"text-align: left;\">ADM0_A3_DE</th><th style = \"text-align: left;\">ADM0_A3_GB</th><th style = \"text-align: left;\">ADM0_A3_BR</th><th style = \"text-align: left;\">ADM0_A3_IL</th><th style = \"text-align: left;\">ADM0_A3_PS</th><th style = \"text-align: left;\">ADM0_A3_SA</th><th style = \"text-align: left;\">ADM0_A3_EG</th><th style = \"text-align: left;\">ADM0_A3_MA</th><th style = \"text-align: left;\">ADM0_A3_PT</th><th style = \"text-align: left;\">ADM0_A3_AR</th><th style = \"text-align: left;\">ADM0_A3_JP</th><th style = \"text-align: left;\">ADM0_A3_KO</th><th style = \"text-align: left;\">ADM0_A3_VN</th><th style = \"text-align: left;\">ADM0_A3_TR</th><th style = \"text-align: left;\">ADM0_A3_ID</th><th style = \"text-align: left;\">ADM0_A3_PL</th><th style = \"text-align: left;\">ADM0_A3_GR</th><th style = \"text-align: left;\">ADM0_A3_IT</th><th style = \"text-align: left;\">ADM0_A3_NL</th><th style = \"text-align: left;\">ADM0_A3_SE</th><th style = \"text-align: left;\">ADM0_A3_BD</th><th style = \"text-align: left;\">ADM0_A3_UA</th><th style = \"text-align: left;\">ADM0_A3_UN</th><th style = \"text-align: left;\">ADM0_A3_WB</th><th style = \"text-align: left;\">CONTINENT</th><th style = \"text-align: left;\">REGION_UN</th><th style = \"text-align: left;\">SUBREGION</th><th style = \"text-align: left;\">REGION_WB</th><th style = \"text-align: left;\">NAME_LEN</th><th style = \"text-align: left;\">LONG_LEN</th><th style = \"text-align: left;\">ABBREV_LEN</th><th style = \"text-align: right;\">&ctdot;</th></tr><tr class = \"subheader headerLastRow\"><th class = \"rowNumber\" style = \"font-weight: bold; text-align: right;\"></th><th title = \"ArchGDAL.IGeometry{ArchGDAL.wkbPolygon}\" style = \"text-align: left;\">IGeometr…</th><th title = \"String\" style = \"text-align: left;\">String</th><th title = \"Int32\" style = \"text-align: left;\">Int32</th><th title = \"Int32\" style = \"text-align: left;\">Int32</th><th title = \"String\" style = \"text-align: left;\">String</th><th title = \"String\" style = \"text-align: left;\">String</th><th title = \"Int32\" style = \"text-align: left;\">Int32</th><th title = \"Int32\" style = \"text-align: left;\">Int32</th><th title = \"String\" style = \"text-align: left;\">String</th><th title = \"String\" style = \"text-align: left;\">String</th><th title = \"String\" style = \"text-align: left;\">String</th><th title = \"String\" style = \"text-align: left;\">String</th><th title = \"Int32\" style = \"text-align: left;\">Int32</th><th title = \"String\" style = \"text-align: left;\">String</th><th title = \"String\" style = \"text-align: left;\">String</th><th title = \"Int32\" style = \"text-align: left;\">Int32</th><th title = \"String\" style = \"text-align: left;\">String</th><th title = \"String\" style = \"text-align: left;\">String</th><th title = \"Int32\" style = \"text-align: left;\">Int32</th><th title = \"String\" style = \"text-align: left;\">String</th><th title = \"String\" style = \"text-align: left;\">String</th><th title = \"String\" style = \"text-align: left;\">String</th><th title = \"String\" style = \"text-align: left;\">String</th><th title = \"Missing\" style = \"text-align: left;\">Missing</th><th title = \"String\" style = \"text-align: left;\">String</th><th title = \"String\" style = \"text-align: left;\">String</th><th title = \"String\" style = \"text-align: left;\">String</th><th title = \"Missing\" style = \"text-align: left;\">Missing</th><th title = \"String\" style = \"text-align: left;\">String</th><th title = \"Missing\" style = \"text-align: left;\">Missing</th><th title = \"Missing\" style = \"text-align: left;\">Missing</th><th title = \"String\" style = \"text-align: left;\">String</th><th title = \"Missing\" style = \"text-align: left;\">Missing</th><th title = \"Int32\" style = \"text-align: left;\">Int32</th><th title = \"Int32\" style = \"text-align: left;\">Int32</th><th title = \"Int32\" style = \"text-align: left;\">Int32</th><th title = \"Int32\" style = \"text-align: left;\">Int32</th><th title = \"Int32\" style = \"text-align: left;\">Int32</th><th title = \"Int32\" style = \"text-align: left;\">Int32</th><th title = \"Int32\" style = \"text-align: left;\">Int32</th><th title = \"Int32\" style = \"text-align: left;\">Int32</th><th title = \"Int32\" style = \"text-align: left;\">Int32</th><th title = \"String\" style = \"text-align: left;\">String</th><th title = \"String\" style = \"text-align: left;\">String</th><th title = \"String\" style = \"text-align: left;\">String</th><th title = \"String\" style = \"text-align: left;\">String</th><th title = \"String\" style = \"text-align: left;\">String</th><th title = \"String\" style = \"text-align: left;\">String</th><th title = \"String\" style = \"text-align: left;\">String</th><th title = \"String\" style = \"text-align: left;\">String</th><th title = \"String\" style = \"text-align: left;\">String</th><th title = \"String\" style = \"text-align: left;\">String</th><th title = \"String\" style = \"text-align: left;\">String</th><th title = \"String\" style = \"text-align: left;\">String</th><th title = \"Int32\" style = \"text-align: left;\">Int32</th><th title = \"Int32\" style = \"text-align: left;\">Int32</th><th title = \"String\" style = \"text-align: left;\">String</th><th title = \"String\" style = \"text-align: left;\">String</th><th title = \"Missing\" style = \"text-align: left;\">Missing</th><th title = \"String\" style = \"text-align: left;\">String</th><th title = \"String\" style = \"text-align: left;\">String</th><th title = \"String\" style = \"text-align: left;\">String</th><th title = \"String\" style = \"text-align: left;\">String</th><th title = \"String\" style = \"text-align: left;\">String</th><th title = \"String\" style = \"text-align: left;\">String</th><th title = \"String\" style = \"text-align: left;\">String</th><th title = \"String\" style = \"text-align: left;\">String</th><th title = \"String\" style = \"text-align: left;\">String</th><th title = \"String\" style = \"text-align: left;\">String</th><th title = \"String\" style = \"text-align: left;\">String</th><th title = \"String\" style = \"text-align: left;\">String</th><th title = \"String\" style = \"text-align: left;\">String</th><th title = \"String\" style = \"text-align: left;\">String</th><th title = \"String\" style = \"text-align: left;\">String</th><th title = \"String\" style = \"text-align: left;\">String</th><th title = \"String\" style = \"text-align: left;\">String</th><th title = \"String\" style = \"text-align: left;\">String</th><th title = \"String\" style = \"text-align: left;\">String</th><th title = \"String\" style = \"text-align: left;\">String</th><th title = \"String\" style = \"text-align: left;\">String</th><th title = \"String\" style = \"text-align: left;\">String</th><th title = \"String\" style = \"text-align: left;\">String</th><th title = \"String\" style = \"text-align: left;\">String</th><th title = \"String\" style = \"text-align: left;\">String</th><th title = \"String\" style = \"text-align: left;\">String</th><th title = \"String\" style = \"text-align: left;\">String</th><th title = \"String\" style = \"text-align: left;\">String</th><th title = \"String\" style = \"text-align: left;\">String</th><th title = \"String\" style = \"text-align: left;\">String</th><th title = \"String\" style = \"text-align: left;\">String</th><th title = \"String\" style = \"text-align: left;\">String</th><th title = \"Int32\" style = \"text-align: left;\">Int32</th><th title = \"Int32\" style = \"text-align: left;\">Int32</th><th title = \"String\" style = \"text-align: left;\">String</th><th title = \"String\" style = \"text-align: left;\">String</th><th title = \"String\" style = \"text-align: left;\">String</th><th title = \"String\" style = \"text-align: left;\">String</th><th title = \"Int32\" style = \"text-align: left;\">Int32</th><th title = \"Int32\" style = \"text-align: left;\">Int32</th><th title = \"Int32\" style = \"text-align: left;\">Int32</th><th title = \"Int32\" style = \"text-align: right;\">&ctdot;</th></tr></thead><tbody><tr><td class = \"rowNumber\" style = \"font-weight: bold; text-align: right;\">1</td><td style = \"text-align: left;\">Geometry: wkbPolygon</td><td style = \"text-align: left;\">Admin-0 country</td><td style = \"text-align: right;\">1</td><td style = \"text-align: right;\">2</td><td style = \"text-align: left;\">Germany</td><td style = \"text-align: left;\">DEU</td><td style = \"text-align: right;\">0</td><td style = \"text-align: right;\">2</td><td style = \"text-align: left;\">Sovereign country</td><td style = \"text-align: left;\">1</td><td style = \"text-align: left;\">Germany</td><td style = \"text-align: left;\">DEU</td><td style = \"text-align: right;\">0</td><td style = \"text-align: left;\">Germany</td><td style = \"text-align: left;\">DEU</td><td style = \"text-align: right;\">0</td><td style = \"text-align: left;\">Germany</td><td style = \"text-align: left;\">DEU</td><td style = \"text-align: right;\">0</td><td style = \"text-align: left;\">Germany</td><td style = \"text-align: left;\">Germany</td><td style = \"text-align: left;\">DEU</td><td style = \"text-align: left;\">Germany</td><td style = \"font-style: italic; text-align: right;\">missing</td><td style = \"text-align: left;\">Ger.</td><td style = \"text-align: left;\">D</td><td style = \"text-align: left;\">Federal Republic of Germany</td><td style = \"font-style: italic; text-align: right;\">missing</td><td style = \"text-align: left;\">Germany</td><td style = \"font-style: italic; text-align: right;\">missing</td><td style = \"font-style: italic; text-align: right;\">missing</td><td style = \"text-align: left;\">Germany</td><td style = \"font-style: italic; text-align: right;\">missing</td><td style = \"text-align: right;\">2</td><td style = \"text-align: right;\">5</td><td style = \"text-align: right;\">5</td><td style = \"text-align: right;\">1</td><td style = \"text-align: right;\">83132799</td><td style = \"text-align: right;\">16</td><td style = \"text-align: right;\">2019</td><td style = \"text-align: right;\">3861123</td><td style = \"text-align: right;\">2019</td><td style = \"text-align: left;\">1. Developed region: G7</td><td style = \"text-align: left;\">1. High income: OECD</td><td style = \"text-align: left;\">GM</td><td style = \"text-align: left;\">DE</td><td style = \"text-align: left;\">DE</td><td style = \"text-align: left;\">DEU</td><td style = \"text-align: left;\">DEU</td><td style = \"text-align: left;\">276</td><td style = \"text-align: left;\">276</td><td style = \"text-align: left;\">276</td><td style = \"text-align: left;\">DE</td><td style = \"text-align: left;\">DEU</td><td style = \"text-align: right;\">23424829</td><td style = \"text-align: right;\">23424829</td><td style = \"text-align: left;\">Exact WOE match as country</td><td style = \"text-align: left;\">DEU</td><td style = \"font-style: italic; text-align: right;\">missing</td><td style = \"text-align: left;\">DEU</td><td style = \"text-align: left;\">DEU</td><td style = \"text-align: left;\">DEU</td><td style = \"text-align: left;\">DEU</td><td style = \"text-align: left;\">DEU</td><td style = \"text-align: left;\">DEU</td><td style = \"text-align: left;\">DEU</td><td style = \"text-align: left;\">DEU</td><td style = \"text-align: left;\">DEU</td><td style = \"text-align: left;\">DEU</td><td style = \"text-align: left;\">DEU</td><td style = \"text-align: left;\">DEU</td><td style = \"text-align: left;\">DEU</td><td style = \"text-align: left;\">DEU</td><td style = \"text-align: left;\">DEU</td><td style = \"text-align: left;\">DEU</td><td style = \"text-align: left;\">DEU</td><td style = \"text-align: left;\">DEU</td><td style = \"text-align: left;\">DEU</td><td style = \"text-align: left;\">DEU</td><td style = \"text-align: left;\">DEU</td><td style = \"text-align: left;\">DEU</td><td style = \"text-align: left;\">DEU</td><td style = \"text-align: left;\">DEU</td><td style = \"text-align: left;\">DEU</td><td style = \"text-align: left;\">DEU</td><td style = \"text-align: left;\">DEU</td><td style = \"text-align: left;\">DEU</td><td style = \"text-align: left;\">DEU</td><td style = \"text-align: left;\">DEU</td><td style = \"text-align: left;\">DEU</td><td style = \"text-align: left;\">DEU</td><td style = \"text-align: right;\">-99</td><td style = \"text-align: right;\">-99</td><td style = \"text-align: left;\">Europe</td><td style = \"text-align: left;\">Europe</td><td style = \"text-align: left;\">Western Europe</td><td style = \"text-align: left;\">Europe &amp; Central Asia</td><td style = \"text-align: right;\">7</td><td style = \"text-align: right;\">7</td><td style = \"text-align: right;\">4</td><td style = \"text-align: right;\">&ctdot;</td></tr></tbody></table></div>"
      ],
      "text/latex": [
       "\\begin{tabular}{r|ccccccc}\n",
       "\t&  & featurecla & scalerank & LABELRANK & SOVEREIGNT & SOV\\_A3 & \\\\\n",
       "\t\\hline\n",
       "\t& IGeometr… & String & Int32 & Int32 & String & String & \\\\\n",
       "\t\\hline\n",
       "\t1 & Geometry: wkbPolygon & Admin-0 country & 1 & 2 & Germany & DEU & $\\dots$ \\\\\n",
       "\\end{tabular}\n"
      ],
      "text/plain": [
       "\u001b[1m1×169 DataFrame\u001b[0m\n",
       "\u001b[1m Row \u001b[0m│\u001b[1m                      \u001b[0m\u001b[1m featurecla      \u001b[0m\u001b[1m scalerank \u001b[0m\u001b[1m LABELRANK \u001b[0m\u001b[1m SOVEREIGNT\u001b[0m ⋯\n",
       "     │\u001b[90m IGeometr…            \u001b[0m\u001b[90m String          \u001b[0m\u001b[90m Int32     \u001b[0m\u001b[90m Int32     \u001b[0m\u001b[90m String    \u001b[0m ⋯\n",
       "─────┼──────────────────────────────────────────────────────────────────────────\n",
       "   1 │ Geometry: wkbPolygon  Admin-0 country          1          2  Germany    ⋯\n",
       "\u001b[36m                                                             164 columns omitted\u001b[0m"
      ]
     },
     "metadata": {},
     "output_type": "display_data"
    }
   ],
   "source": [
    "DEU_arch = ArchGDAL.getlayer(ArchGDAL.read(\"../ne_110m_admin_0_countries_DEU.geojson\"),0)|>DataFrame"
   ]
  },
  {
   "cell_type": "code",
   "execution_count": 204,
   "metadata": {},
   "outputs": [
    {
     "data": {
      "text/plain": [
       "1-element Vector{Vector{Vector{Vector{Vector{Float64}}}}}:\n",
       " [[[[14.119686, 53.757029], [14.353315, 53.248171], [14.074521, 52.981263], [14.4376, 52.62485], [14.685026, 52.089947], [14.607098, 51.745188], [15.016996, 51.106674], [14.570718, 51.002339], [14.307013, 51.117268], [14.056228, 50.926918]  …  [8.526229, 54.962744], [9.282049, 54.830865], [9.921906, 54.983104], [9.93958, 54.596642], [10.950112, 54.363607], [10.939467, 54.008693], [11.956252, 54.196486], [12.51844, 54.470371], [13.647467, 54.075511], [14.119686, 53.757029]]]]"
      ]
     },
     "metadata": {},
     "output_type": "display_data"
    }
   ],
   "source": [
    "coords=GeoInterface.coordinates.(GeoMakie.to_multipoly.(GeoMakie.geo2basic.(DEU_arch.\"\")))"
   ]
  },
  {
   "cell_type": "code",
   "execution_count": 206,
   "metadata": {},
   "outputs": [
    {
     "data": {
      "text/plain": [
       "58-element Vector{Tuple{Float64, Float64}}:\n",
       " (14.119686, 53.757029)\n",
       " (14.353315, 53.248171)\n",
       " (14.074521, 52.981263)\n",
       " (14.4376, 52.62485)\n",
       " (14.685026, 52.089947)\n",
       " (14.607098, 51.745188)\n",
       " (15.016996, 51.106674)\n",
       " (14.570718, 51.002339)\n",
       " (14.307013, 51.117268)\n",
       " (14.056228, 50.926918)\n",
       " ⋮\n",
       " (9.282049, 54.830865)\n",
       " (9.921906, 54.983104)\n",
       " (9.93958, 54.596642)\n",
       " (10.950112, 54.363607)\n",
       " (10.939467, 54.008693)\n",
       " (11.956252, 54.196486)\n",
       " (12.51844, 54.470371)\n",
       " (13.647467, 54.075511)\n",
       " (14.119686, 53.757029)"
      ]
     },
     "metadata": {},
     "output_type": "display_data"
    }
   ],
   "source": [
    "coord_tri=map(x->tuple(x[1],x[2]),vcat(vcat(vcat(coords...)...)...))\n"
   ]
  },
  {
   "cell_type": "code",
   "execution_count": 262,
   "metadata": {},
   "outputs": [],
   "source": [
    "first_pts=tuple.(christmas_max.long,christmas_max.lat)\n",
    "\n",
    "res_pts=Point2f[]\n",
    "for x in first_pts\n",
    "if ArchGDAL.within(ArchGDAL.createpoint(x),DEU_arch.\"\"[1])\n",
    "    push!(res_pts,Point2f(x))\n",
    "end\n",
    "end"
   ]
  },
  {
   "cell_type": "code",
   "execution_count": 264,
   "metadata": {},
   "outputs": [
    {
     "data": {
      "text/plain": [
       "([896, 897, 898, 899, 900, 901, 902, 903, 904, 905  …  944, 945, 946, 947, 948, 949, 950, 951, 952, 896], Point{2, Float32}[[10.27675, 47.400375], [11.565728, 49.952957], [10.8067665, 47.626232], [12.85, 47.6], [11.8833, 47.7], [11.9022, 48.6923], [9.724146, 49.10682], [11.6029, 49.02995], [10.7745, 48.7329], [10.2469, 49.2553]  …  [8.572118, 54.395645], [8.526229, 54.962746], [9.282049, 54.830864], [9.921906, 54.983105], [9.93958, 54.59664], [10.950112, 54.363605], [10.939467, 54.008694], [11.956252, 54.196487], [12.51844, 54.47037], [13.647467, 54.075512]])"
      ]
     },
     "metadata": {},
     "output_type": "display_data"
    }
   ],
   "source": [
    "boundary_nodes, pts = convert_boundary_points_to_indices(coord_tri; existing_points=res_pts)"
   ]
  },
  {
   "cell_type": "code",
   "execution_count": 265,
   "metadata": {},
   "outputs": [
    {
     "data": {
      "text/plain": [
       "952-element Vector{Point{2, Float32}}:\n",
       " [13.647467, 54.075512]\n",
       " [12.51844, 54.47037]\n",
       " [11.956252, 54.196487]\n",
       " [10.939467, 54.008694]\n",
       " [10.950112, 54.363605]\n",
       " [9.93958, 54.59664]\n",
       " [9.921906, 54.983105]\n",
       " [9.282049, 54.830864]\n",
       " [8.526229, 54.962746]\n",
       " [8.572118, 54.395645]\n",
       " ⋮\n",
       " [10.7745, 48.7329]\n",
       " [11.6029, 49.02995]\n",
       " [9.724146, 49.10682]\n",
       " [11.9022, 48.6923]\n",
       " [11.8833, 47.7]\n",
       " [12.85, 47.6]\n",
       " [10.8067665, 47.626232]\n",
       " [11.565728, 49.952957]\n",
       " [10.27675, 47.400375]"
      ]
     },
     "metadata": {},
     "output_type": "display_data"
    }
   ],
   "source": [
    "pts=reverse(pts)"
   ]
  },
  {
   "cell_type": "code",
   "execution_count": 266,
   "metadata": {},
   "outputs": [
    {
     "data": {
      "text/plain": [
       "58-element Vector{Int64}:\n",
       " 896\n",
       " 952\n",
       " 951\n",
       " 950\n",
       " 949\n",
       " 948\n",
       " 947\n",
       " 946\n",
       " 945\n",
       " 944\n",
       "   ⋮\n",
       " 904\n",
       " 903\n",
       " 902\n",
       " 901\n",
       " 900\n",
       " 899\n",
       " 898\n",
       " 897\n",
       " 896"
      ]
     },
     "metadata": {},
     "output_type": "display_data"
    }
   ],
   "source": [
    "boundary_nodes=reverse(boundary_nodes)"
   ]
  },
  {
   "cell_type": "code",
   "execution_count": 269,
   "metadata": {},
   "outputs": [
    {
     "data": {
      "text/plain": [
       "Delaunay Triangulation.\n",
       "    Constrained: true\n",
       "    Has ghost triangles: false\n",
       "    Number of points: 952\n",
       "    Number of triangles: 1610\n",
       "    Number of edges: 2655"
      ]
     },
     "metadata": {},
     "output_type": "display_data"
    }
   ],
   "source": [
    "cons_tri = triangulate(pts; boundary_nodes, delete_ghosts = false)"
   ]
  },
  {
   "cell_type": "code",
   "execution_count": 270,
   "metadata": {},
   "outputs": [],
   "source": [
    "fig, ax, sc = triplot(cons_tri)\n",
    "scatter!(ax,pts)\n",
    "fig"
   ]
  },
  {
   "cell_type": "code",
   "execution_count": 273,
   "metadata": {},
   "outputs": [
    {
     "data": {
      "text/plain": [
       "Delaunay Triangulation.\n",
       "    Constrained: false\n",
       "    Has ghost triangles: true\n",
       "    Number of points: 952\n",
       "    Number of triangles: 1902\n",
       "    Number of edges: 2853"
      ]
     },
     "metadata": {},
     "output_type": "display_data"
    }
   ],
   "source": [
    "cons_tri = triangulate(pts; delete_ghosts = false)\n"
   ]
  },
  {
   "cell_type": "code",
   "execution_count": null,
   "metadata": {},
   "outputs": [],
   "source": []
  }
 ],
 "metadata": {
  "kernelspec": {
   "display_name": "Julia 1.9.3",
   "language": "julia",
   "name": "julia-1.9"
  },
  "language_info": {
   "file_extension": ".jl",
   "mimetype": "application/julia",
   "name": "julia",
   "version": "1.9.3"
  },
  "orig_nbformat": 4
 },
 "nbformat": 4,
 "nbformat_minor": 2
}
