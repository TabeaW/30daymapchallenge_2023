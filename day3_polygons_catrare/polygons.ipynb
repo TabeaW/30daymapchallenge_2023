{
 "cells": [
  {
   "cell_type": "markdown",
   "metadata": {},
   "source": [
    "* Data from https://opendata.dwd.de/climate_environment/CDC/event_catalogues/germany/precipitation/CatRaRE_v2023.01/data/CatRaRE_2001_2022_W3_Eta_v2023_01.gdb.zip"
   ]
  },
  {
   "cell_type": "code",
   "execution_count": 2,
   "metadata": {},
   "outputs": [],
   "source": [
    "using GeoDataFrames,GeoJSON,ArchGDAL"
   ]
  },
  {
   "cell_type": "code",
   "execution_count": 3,
   "metadata": {},
   "outputs": [
    {
     "data": {
      "text/plain": [
       "Layer: CatRaRE_2001_2022_W3_Eta_EventZones_v2023_01\n",
       "  Geometry 0 (Shape): [wkbMultiPolygon], MULTIPOLYGON (((-161...), ...\n",
       "     Field 0 (CatVersion): [OFTString], W3_Eta_2023.01, W3_Eta_2023.01, ...\n",
       "     Field 1 (KEY_FIELD): [OFTString], W3_Eta_1, W3_Eta_2, W3_Eta_3, ...\n",
       "     Field 2 (Event_ID): [OFTInteger], 1, 2, 3, 4, 5, 6, 7, 8, 9, 10, 11, ...\n",
       "     Field 3 (Start_Time): [OFTReal], 2.0010102035e11, 2.0010104035e11, ...\n",
       "     Field 4 (End_Time): [OFTReal], 2.0010102075e11, 2.0010106035e11, ...\n",
       "...\n",
       " Number of Fields: 69"
      ]
     },
     "metadata": {},
     "output_type": "display_data"
    }
   ],
   "source": [
    "layer=ArchGDAL.getlayer(ArchGDAL.read(\"CatRaRE_2001_2022_W3_Eta_v2023_01.gdb\"),1)"
   ]
  },
  {
   "cell_type": "code",
   "execution_count": 4,
   "metadata": {},
   "outputs": [],
   "source": [
    "using DataFrames"
   ]
  },
  {
   "cell_type": "code",
   "execution_count": 5,
   "metadata": {},
   "outputs": [],
   "source": [
    "df=DataFrame(layer);"
   ]
  },
  {
   "cell_type": "code",
   "execution_count": 6,
   "metadata": {},
   "outputs": [],
   "source": [
    "using GLMakie,GeoMakie"
   ]
  },
  {
   "cell_type": "code",
   "execution_count": 7,
   "metadata": {},
   "outputs": [
    {
     "data": {
      "text/plain": [
       "\"+proj=stere +lat_0=90 +lat_ts=90 +lon_0=10 +k=0.93301270189 +x_0=0 +y_0=0 +a=6370040 +b=6370040  +no_defs\""
      ]
     },
     "metadata": {},
     "output_type": "display_data"
    }
   ],
   "source": [
    "proj_string=\"+proj=stere +lat_0=90 +lat_ts=90 +lon_0=10 +k=0.93301270189 +x_0=0 +y_0=0 +a=6370040 +b=6370040  +no_defs\""
   ]
  },
  {
   "cell_type": "code",
   "execution_count": 8,
   "metadata": {},
   "outputs": [
    {
     "data": {
      "text/plain": [
       "\"+proj=longlat +datum=WGS84 +no_defs +type=crs\""
      ]
     },
     "metadata": {},
     "output_type": "display_data"
    }
   ],
   "source": [
    "latlon_string=\"+proj=longlat +datum=WGS84 +no_defs +type=crs\""
   ]
  },
  {
   "cell_type": "code",
   "execution_count": 9,
   "metadata": {},
   "outputs": [],
   "source": [
    "using Proj"
   ]
  },
  {
   "cell_type": "code",
   "execution_count": 10,
   "metadata": {},
   "outputs": [
    {
     "name": "stderr",
     "output_type": "stream",
     "text": [
      "WARNING: using GeoFormatTypes.GeoJSON in module Main conflicts with an existing identifier.\n"
     ]
    }
   ],
   "source": [
    "using GeoFormatTypes"
   ]
  },
  {
   "cell_type": "code",
   "execution_count": 11,
   "metadata": {},
   "outputs": [],
   "source": [
    "ArchGDAL.createcoordtrans(ArchGDAL.importPROJ4(proj_string), ArchGDAL.importPROJ4(latlon_string)) do transform\n",
    "    for x in eachrow(df)\n",
    "    ArchGDAL.transform!(x.Shape, transform)\n",
    "    end\n",
    "end"
   ]
  },
  {
   "cell_type": "code",
   "execution_count": 12,
   "metadata": {},
   "outputs": [],
   "source": [
    "boundary=GeoDataFrames.read(\"../Kreisgrenzen_2021_mit_Einwohnerzahl.geojson\");"
   ]
  },
  {
   "cell_type": "code",
   "execution_count": 13,
   "metadata": {},
   "outputs": [
    {
     "data": {
      "text/html": [
       "<div><div style = \"float: left;\"><span>1×22 DataFrame</span></div><div style = \"clear: both;\"></div></div><div class = \"data-frame\" style = \"overflow-x: scroll;\"><table class = \"data-frame\" style = \"margin-bottom: 6px;\"><thead><tr class = \"header\"><th class = \"rowNumber\" style = \"font-weight: bold; text-align: right;\">Row</th><th style = \"text-align: left;\">geometry</th><th style = \"text-align: left;\">OBJECTID</th><th style = \"text-align: left;\">OBJID</th><th style = \"text-align: left;\">BEGINN</th><th style = \"text-align: left;\">AGS</th><th style = \"text-align: left;\">GEN</th><th style = \"text-align: left;\">BEZ</th><th style = \"text-align: left;\">IBZ</th><th style = \"text-align: left;\">BEM</th><th style = \"text-align: left;\">SN_L</th><th style = \"text-align: left;\">SN_R</th><th style = \"text-align: left;\">SN_K</th><th style = \"text-align: left;\">SN_V1</th><th style = \"text-align: left;\">SN_V2</th><th style = \"text-align: left;\">SN_G</th><th style = \"text-align: left;\">FK_S3</th><th style = \"text-align: left;\">NUTS</th><th style = \"text-align: left;\">WSK</th><th style = \"text-align: left;\">EWZ</th><th style = \"text-align: left;\">KFL</th><th style = \"text-align: left;\">SHAPE_Length</th><th style = \"text-align: left;\">SHAPE_Area</th></tr><tr class = \"subheader headerLastRow\"><th class = \"rowNumber\" style = \"font-weight: bold; text-align: right;\"></th><th title = \"ArchGDAL.IGeometry{ArchGDAL.wkbMultiPolygon}\" style = \"text-align: left;\">IGeometr…</th><th title = \"Int32\" style = \"text-align: left;\">Int32</th><th title = \"String\" style = \"text-align: left;\">String</th><th title = \"Dates.DateTime\" style = \"text-align: left;\">DateTime</th><th title = \"String\" style = \"text-align: left;\">String</th><th title = \"String\" style = \"text-align: left;\">String</th><th title = \"String\" style = \"text-align: left;\">String</th><th title = \"Int32\" style = \"text-align: left;\">Int32</th><th title = \"String\" style = \"text-align: left;\">String</th><th title = \"String\" style = \"text-align: left;\">String</th><th title = \"String\" style = \"text-align: left;\">String</th><th title = \"String\" style = \"text-align: left;\">String</th><th title = \"String\" style = \"text-align: left;\">String</th><th title = \"String\" style = \"text-align: left;\">String</th><th title = \"String\" style = \"text-align: left;\">String</th><th title = \"String\" style = \"text-align: left;\">String</th><th title = \"String\" style = \"text-align: left;\">String</th><th title = \"Dates.DateTime\" style = \"text-align: left;\">DateTime</th><th title = \"Int32\" style = \"text-align: left;\">Int32</th><th title = \"Float64\" style = \"text-align: left;\">Float64</th><th title = \"Float64\" style = \"text-align: left;\">Float64</th><th title = \"Float64\" style = \"text-align: left;\">Float64</th></tr></thead><tbody><tr><td class = \"rowNumber\" style = \"font-weight: bold; text-align: right;\">1</td><td style = \"text-align: left;\">Geometry: wkbMultiPolygon</td><td style = \"text-align: right;\">117</td><td style = \"text-align: left;\">DEBKGVG200000CAD</td><td style = \"text-align: left;\">2022-01-05T00:00:00</td><td style = \"text-align: left;\">06411</td><td style = \"text-align: left;\">Darmstadt</td><td style = \"text-align: left;\">Kreisfreie Stadt</td><td style = \"text-align: right;\">40</td><td style = \"text-align: left;\">--</td><td style = \"text-align: left;\">06</td><td style = \"text-align: left;\">4</td><td style = \"text-align: left;\">11</td><td style = \"text-align: left;\">00</td><td style = \"text-align: left;\">00</td><td style = \"text-align: left;\">000</td><td style = \"text-align: left;\">R</td><td style = \"text-align: left;\">DE711</td><td style = \"text-align: left;\">1977-01-01T00:00:00</td><td style = \"text-align: right;\">159631</td><td style = \"text-align: right;\">122.07</td><td style = \"text-align: right;\">0.722813</td><td style = \"text-align: right;\">0.0153565</td></tr></tbody></table></div>"
      ],
      "text/latex": [
       "\\begin{tabular}{r|cccccc}\n",
       "\t& geometry & OBJECTID & OBJID & BEGINN & AGS & \\\\\n",
       "\t\\hline\n",
       "\t& IGeometr… & Int32 & String & DateTime & String & \\\\\n",
       "\t\\hline\n",
       "\t1 & Geometry: wkbMultiPolygon & 117 & DEBKGVG200000CAD & 2022-01-05T00:00:00 & 06411 & $\\dots$ \\\\\n",
       "\\end{tabular}\n"
      ],
      "text/plain": [
       "\u001b[1m1×22 DataFrame\u001b[0m\n",
       "\u001b[1m Row \u001b[0m│\u001b[1m geometry                  \u001b[0m\u001b[1m OBJECTID \u001b[0m\u001b[1m OBJID            \u001b[0m\u001b[1m BEGINN          \u001b[0m ⋯\n",
       "     │\u001b[90m IGeometr…                 \u001b[0m\u001b[90m Int32    \u001b[0m\u001b[90m String           \u001b[0m\u001b[90m DateTime        \u001b[0m ⋯\n",
       "─────┼──────────────────────────────────────────────────────────────────────────\n",
       "   1 │ Geometry: wkbMultiPolygon       117  DEBKGVG200000CAD  2022-01-05T00:00 ⋯\n",
       "\u001b[36m                                                              19 columns omitted\u001b[0m"
      ]
     },
     "metadata": {},
     "output_type": "display_data"
    }
   ],
   "source": [
    "#dadi=boundary[(boundary.GEN.==\"Darmstadt\").|(boundary.GEN.==\"Darmstadt-Dieburg\"),:]\n",
    "dadi=boundary[(boundary.GEN.==\"Darmstadt\"),:]"
   ]
  },
  {
   "cell_type": "code",
   "execution_count": 14,
   "metadata": {},
   "outputs": [],
   "source": [
    "intersects=Vector{ArchGDAL.IGeometry{ArchGDAL.wkbMultiPolygon}}()\n",
    "colors=[]\n",
    "for x in dadi.geometry\n",
    "\n",
    "    for y in eachrow(df)\n",
    "        if ArchGDAL.intersects(x,y.Shape)\n",
    "            intersects=vcat(intersects,y.Shape)\n",
    "            push!(colors,y.RRmax)\n",
    "        end\n",
    "    end\n",
    "end"
   ]
  },
  {
   "cell_type": "code",
   "execution_count": 21,
   "metadata": {},
   "outputs": [],
   "source": [
    "fig=Figure()\n",
    "q=GridLayout(fig[1,1])\n",
    "Label(q[1,1],text=\"Where should you live in Darmstadt \\nif you don't want to be caught in heavy rainfall?\",fontsize=30)\n",
    "Label(q[2,1],text=\"Based on the events from CatRaRe 2001-2022\",fontsize=20)\n",
    "ax=GeoAxis(fig[2,1],lonlims=(8.2,9.1),latlims=(49.5,50.2),dest=latlon_string)\n",
    "p=poly!(ax,GeoMakie.geo2basic(intersects),color=colors,colormap=cgrad(:bamako,alpha=0.5,rev=true),strokecolor=:gray,strokewidth=1)\n",
    "poly!(ax,GeoMakie.to_multipoly.(GeoMakie.geo2basic.(dadi.geometry)),color=:transparent,strokecolor=:black,strokewidth=3)\n",
    "#poly!(ax,GeoMakie.to_multipoly.(GeoMakie.geo2basic.(boundary.geometry)),color=:transparent,strokecolor=:black,strokewidth=0.1)\n",
    "hidespines!(ax)\n",
    "hidedecorations!(ax, grid=true,ticklabels=false)\n",
    "Colorbar(fig[2,2],p,vertical=true,label=\"Maximum rain in eventzone in mm\")\n",
    "arrows!(ax,[8.55],[50.1],[1],[-1.5],lengthscale=0.12)\n",
    "text!(Point2f(8.55,50.1),text=\"Here :D\",fontsize=20)\n",
    "Label(fig[3,1],text=\"Data: © Deutscher Wetterdienst\\nGeodata: © GeoBasis-DE / BKG, Statistisches Bundesamt (Destatis) (2022)\",justification=:left)\n",
    "Makie.resize_to_layout!(fig)\n",
    "fig\n"
   ]
  },
  {
   "cell_type": "code",
   "execution_count": 22,
   "metadata": {},
   "outputs": [],
   "source": [
    "save(\"catrare_darmstadt.png\",fig,px_per_unit=2)"
   ]
  },
  {
   "cell_type": "code",
   "execution_count": 17,
   "metadata": {},
   "outputs": [],
   "source": []
  }
 ],
 "metadata": {
  "kernelspec": {
   "display_name": "Julia 1.9.3",
   "language": "julia",
   "name": "julia-1.9"
  },
  "language_info": {
   "file_extension": ".jl",
   "mimetype": "application/julia",
   "name": "julia",
   "version": "1.9.3"
  },
  "orig_nbformat": 4
 },
 "nbformat": 4,
 "nbformat_minor": 2
}
