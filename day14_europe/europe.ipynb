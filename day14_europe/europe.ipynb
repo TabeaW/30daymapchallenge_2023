{
 "cells": [
  {
   "cell_type": "markdown",
   "metadata": {},
   "source": [
    "* Data from https://opendata.dwd.de/climate_environment/CDC/grids_europe/monthly/cloud_cover/SEVIRI/"
   ]
  },
  {
   "cell_type": "code",
   "execution_count": 1,
   "metadata": {},
   "outputs": [],
   "source": [
    "using YAXArrays,NetCDF"
   ]
  },
  {
   "cell_type": "code",
   "execution_count": 2,
   "metadata": {},
   "outputs": [
    {
     "data": {
      "text/plain": [
       "YAXArray Dataset\n",
       "Shared Axes: \n",
       "\u001b[31mDim{\u001b[39m\u001b[33m:lon\u001b[39m\u001b[31m}\u001b[39m Sampled{Float64} \u001b[36m-59.75:0.5:59.75\u001b[39m ForwardOrdered Regular Points,\n",
       "\u001b[31mDim{\u001b[39m\u001b[33m:lat\u001b[39m\u001b[31m}\u001b[39m Sampled{Float64} \u001b[36m79.75:-0.5:30.25\u001b[39m ReverseOrdered Regular Points,\n",
       "\u001b[31mTi\u001b[39m Sampled{DateTime} \u001b[36mDateTime[DateTime(\"2023-02-01T00:00:00\")]\u001b[39m ForwardOrdered Irregular Points\n",
       "Variables: \n",
       "nobs, cfc_std, cfc_day, nobs_day, cfc_middle, cfc, nobs_night, cfc_high, cfc_night, cfc_low, \n",
       "Properties: Dict{String, Any}(\"date_created\" => \"2023-03-01T07:50:53Z\", \"geospatial_lon_units\" => \"degrees_east\", \"instrument_vocabulary\" => \"GCMD Instruments, Version 8.1\", \"geospatial_lon_min\" => -90.0f0, \"creator_email\" => \"contact.cmsaf@dwd.de\", \"keywords\" => \"EARTH SCIENCE > ATMOSPHERE > CLOUDS > CLOUD PROPERTIES > CLOUD FRACTION\", \"time_coverage_end\" => \"2023-02-28T23:59:59Z\", \"time_coverage_resolution\" => \"P1M\", \"geospatial_lat_resolution\" => \"0.05 degree\", \"time_coverage_start\" => \"2023-02-01T00:00:00Z\"…)\n"
      ]
     },
     "metadata": {},
     "output_type": "display_data"
    }
   ],
   "source": [
    "data=open_dataset(\"CFCmm202302010000410UDSVMSG01UD.nc\")"
   ]
  },
  {
   "cell_type": "code",
   "execution_count": 3,
   "metadata": {},
   "outputs": [
    {
     "data": {
      "text/plain": [
       "240×100×1 YAXArray{Union{Missing, Float32},3}\u001b[90m with dimensions: \u001b[39m\n",
       "  \u001b[31mDim{\u001b[39m\u001b[33m:lon\u001b[39m\u001b[31m}\u001b[39m Sampled{Float64} \u001b[36m-59.75:0.5:59.75\u001b[39m ForwardOrdered Regular Points,\n",
       "  \u001b[31mDim{\u001b[39m\u001b[33m:lat\u001b[39m\u001b[31m}\u001b[39m Sampled{Float64} \u001b[36m79.75:-0.5:30.25\u001b[39m ReverseOrdered Regular Points,\n",
       "  \u001b[31mTi\u001b[39m Sampled{DateTime} \u001b[36mDateTime[DateTime(\"2023-02-01T00:00:00\")]\u001b[39m ForwardOrdered Irregular Points\n",
       "units: %\n",
       "name: cfc_night\n",
       "Total size: 93.75 KB\n"
      ]
     },
     "metadata": {},
     "output_type": "display_data"
    }
   ],
   "source": [
    "cfc_day=data[\"cfc_day\"]\n",
    "cfc_night=data[\"cfc_night\"]"
   ]
  },
  {
   "cell_type": "code",
   "execution_count": 4,
   "metadata": {},
   "outputs": [],
   "source": [
    "using DimensionalData"
   ]
  },
  {
   "cell_type": "code",
   "execution_count": 5,
   "metadata": {},
   "outputs": [
    {
     "data": {
      "text/plain": [
       "Sampled{Float64} ForwardOrdered Regular Points\n",
       "\u001b[90mwrapping: \u001b[39m-59.75:0.5:59.75"
      ]
     },
     "metadata": {},
     "output_type": "display_data"
    }
   ],
   "source": [
    "lats=lookup(cfc_day,:lat)\n",
    "lons=lookup(cfc_day,:lon)"
   ]
  },
  {
   "cell_type": "code",
   "execution_count": 6,
   "metadata": {},
   "outputs": [],
   "source": [
    "using GeoMakie, GLMakie"
   ]
  },
  {
   "cell_type": "code",
   "execution_count": 7,
   "metadata": {},
   "outputs": [
    {
     "data": {
      "text/plain": [
       "FeatureCollection with 177 Features"
      ]
     },
     "metadata": {},
     "output_type": "display_data"
    }
   ],
   "source": [
    "using GeoJSON\n",
    "worldCountries = GeoJSON.read(\"../ne_110m_admin_0_countries.geojson\")"
   ]
  },
  {
   "cell_type": "code",
   "execution_count": 69,
   "metadata": {},
   "outputs": [],
   "source": [
    "fig=Figure(backgroundcolor=:black,resolution=(800,600),fontcolor=:white)\n",
    "Label(fig[1,1:2],text=\"If you want sun in Europe in February,\\ngo to the end of the earth (well almost)\", color=:white,fontsize=30)\n",
    "Label(fig[2,1:2],text=\"Based on CM SAF CLAAS February 2023\", color=:white,fontsize=20)\n",
    "ax=GeoAxis(fig[3,1],latlims=(30.25,66.75),lonlims=(-59.75,59.75),backgroundcolor=:white)\n",
    "co=contourf!(ax,lons,lats,cfc_day.data[:,:,1],levels=0:5:100,colormap=cgrad(rev=true,:batlow))\n",
    "contour!(ax,lons,lats,cfc_day.data[:,:,1],levels=0:5:100,colormap=cgrad(rev=true,:grays))\n",
    "\n",
    "Colorbar(fig[3,2],co,vertical=true,label=\"Mean cloud coverage at daytime [%]\",tickcolor=:white,labelcolor=:white,ticklabelcolor=:white)\n",
    "hm1=poly!(\n",
    "    ax, worldCountries;\n",
    "    color= :transparent,\n",
    "    strokecolor = :black,\n",
    "    strokewidth = 1)\n",
    "translate!(hm1, 0, 0, 1000)\n",
    "hidespines!(ax)\n",
    "hidedecorations!(ax)\n",
    "ax=GeoAxis(fig[4,1],latlims=(30.25,66.75),lonlims=(-59.75,59.75),backgroundcolor=:black)\n",
    "co=contourf!(ax,lons,lats,cfc_night.data[:,:,1],levels=0:5:100,colormap=cgrad(rev=true,:batlow))\n",
    "contour!(ax,lons,lats,cfc_night.data[:,:,1],levels=0:5:100,colormap=cgrad(rev=true,:grays))\n",
    "Colorbar(fig[4,2],co,vertical=true,label=\"Mean cloud coverage at night [%]\",tickcolor=:white,labelcolor=:white,ticklabelcolor=:white)\n",
    "\n",
    "hm1=poly!(\n",
    "    ax, worldCountries;\n",
    "    color= :transparent,\n",
    "    strokecolor = :white,\n",
    "    strokewidth = 1)\n",
    "translate!(hm1, 0, 0, 1000)\n",
    "hidespines!(ax)\n",
    "hidedecorations!(ax)\n",
    "Label(fig[5,1:2],text=\"Data: © Deutscher Wetterdienst\\nMade with Natural Earth\",justification=:left,color=:white)\n",
    "#Makie.resize_to_layout!(fig)\n",
    "fig\n"
   ]
  },
  {
   "cell_type": "code",
   "execution_count": 70,
   "metadata": {},
   "outputs": [],
   "source": [
    "save(\"europe.png\",fig)"
   ]
  }
 ],
 "metadata": {
  "kernelspec": {
   "display_name": "Julia 1.9.3",
   "language": "julia",
   "name": "julia-1.9"
  },
  "language_info": {
   "file_extension": ".jl",
   "mimetype": "application/julia",
   "name": "julia",
   "version": "1.9.3"
  }
 },
 "nbformat": 4,
 "nbformat_minor": 2
}
