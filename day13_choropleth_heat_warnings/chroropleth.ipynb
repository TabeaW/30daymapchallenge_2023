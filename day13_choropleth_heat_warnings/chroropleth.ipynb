{
 "cells": [
  {
   "cell_type": "markdown",
   "metadata": {},
   "source": [
    "## Data \n",
    "* Data from https://opendata.dwd.de/climate_environment/health/historical_alerts/heat_warnings/\n",
    "* Geodata from https://maps.dwd.de dwd:Warngebiete_Kreise as WMS GeoJSON VectorTileswith data modified from © GeoBasis-DE / BKG, Statistisches Bundesamt (Destatis) (2021)"
   ]
  },
  {
   "cell_type": "code",
   "execution_count": 1,
   "metadata": {},
   "outputs": [],
   "source": [
    "using DataFrames\n",
    "using CSV\n",
    "using GLMakie,GeoMakie"
   ]
  },
  {
   "cell_type": "code",
   "execution_count": 2,
   "metadata": {},
   "outputs": [],
   "source": [
    "import GeoDataFrames"
   ]
  },
  {
   "cell_type": "code",
   "execution_count": 11,
   "metadata": {},
   "outputs": [
    {
     "data": {
      "text/html": [
       "<div><div style = \"float: left;\"><span>402×15 DataFrame</span></div><div style = \"float: right;\"><span style = \"font-style: italic;\">377 rows omitted</span></div><div style = \"clear: both;\"></div></div><div class = \"data-frame\" style = \"overflow-x: scroll;\"><table class = \"data-frame\" style = \"margin-bottom: 6px;\"><thead><tr class = \"header\"><th class = \"rowNumber\" style = \"font-weight: bold; text-align: right;\">Row</th><th style = \"text-align: left;\">geometry</th><th style = \"text-align: left;\">id</th><th style = \"text-align: left;\">BL</th><th style = \"text-align: left;\">CCC</th><th style = \"text-align: left;\">COPYRIGHT</th><th style = \"text-align: left;\">FID</th><th style = \"text-align: left;\">KURZNAME</th><th style = \"text-align: left;\">MAX_HEIGHT</th><th style = \"text-align: left;\">MIN_HEIGHT</th><th style = \"text-align: left;\">NAME</th><th style = \"text-align: left;\">RZ</th><th style = \"text-align: left;\">STATE</th><th style = \"text-align: left;\">TYPE</th><th style = \"text-align: left;\">WARNCELLID</th><th style = \"text-align: left;\">WARNCENTER</th></tr><tr class = \"subheader headerLastRow\"><th class = \"rowNumber\" style = \"font-weight: bold; text-align: right;\"></th><th title = \"ArchGDAL.IGeometry\" style = \"text-align: left;\">IGeometry</th><th title = \"String\" style = \"text-align: left;\">String</th><th title = \"String\" style = \"text-align: left;\">String</th><th title = \"String\" style = \"text-align: left;\">String</th><th title = \"String\" style = \"text-align: left;\">String</th><th title = \"Int32\" style = \"text-align: left;\">Int32</th><th title = \"Union{Nothing, String}\" style = \"text-align: left;\">Union…</th><th title = \"Int32\" style = \"text-align: left;\">Int32</th><th title = \"Int32\" style = \"text-align: left;\">Int32</th><th title = \"String\" style = \"text-align: left;\">String</th><th title = \"String\" style = \"text-align: left;\">String</th><th title = \"Int32\" style = \"text-align: left;\">Int32</th><th title = \"Int32\" style = \"text-align: left;\">Int32</th><th title = \"Int32\" style = \"text-align: left;\">Int32</th><th title = \"Int32\" style = \"text-align: left;\">Int32</th></tr></thead><tbody><tr><td class = \"rowNumber\" style = \"font-weight: bold; text-align: right;\">1</td><td style = \"text-align: left;\">Geometry: wkbPolygon</td><td style = \"text-align: left;\">Warngebiete_Kreise.fid--2828b967_18b444abff3_-2506</td><td style = \"text-align: left;\">NI</td><td style = \"text-align: left;\">PEX</td><td style = \"text-align: left;\">© GeoBasis-DE / BKG 2021 (Daten modifiziert)</td><td style = \"text-align: right;\">17</td><td style = \"text-align: left;\">Peine</td><td style = \"text-align: right;\">132</td><td style = \"text-align: right;\">52</td><td style = \"text-align: left;\">Kreis Peine</td><td style = \"text-align: left;\">HA</td><td style = \"text-align: right;\">3</td><td style = \"text-align: right;\">1</td><td style = \"text-align: right;\">103157000</td><td style = \"text-align: right;\">201</td></tr><tr><td class = \"rowNumber\" style = \"font-weight: bold; text-align: right;\">2</td><td style = \"text-align: left;\">Geometry: wkbMultiPolygon</td><td style = \"text-align: left;\">Warngebiete_Kreise.fid--2828b967_18b444abff3_-2505</td><td style = \"text-align: left;\">NI</td><td style = \"text-align: left;\">WFX</td><td style = \"text-align: left;\">© GeoBasis-DE / BKG 2021 (Daten modifiziert)</td><td style = \"text-align: right;\">18</td><td style = \"text-align: left;\">Wolfenbüttel</td><td style = \"text-align: right;\">322</td><td style = \"text-align: right;\">73</td><td style = \"text-align: left;\">Kreis Wolfenbüttel</td><td style = \"text-align: left;\">HA</td><td style = \"text-align: right;\">3</td><td style = \"text-align: right;\">1</td><td style = \"text-align: right;\">103158000</td><td style = \"text-align: right;\">201</td></tr><tr><td class = \"rowNumber\" style = \"font-weight: bold; text-align: right;\">3</td><td style = \"text-align: left;\">Geometry: wkbPolygon</td><td style = \"text-align: left;\">Warngebiete_Kreise.fid--2828b967_18b444abff3_-2504</td><td style = \"text-align: left;\">NI</td><td style = \"text-align: left;\">GOE</td><td style = \"text-align: left;\">© GeoBasis-DE / BKG 2021 (Daten modifiziert)</td><td style = \"text-align: right;\">19</td><td style = \"text-align: left;\">Göttingen</td><td style = \"text-align: right;\">863</td><td style = \"text-align: right;\">108</td><td style = \"text-align: left;\">Kreis Göttingen</td><td style = \"text-align: left;\">HA</td><td style = \"text-align: right;\">3</td><td style = \"text-align: right;\">1</td><td style = \"text-align: right;\">103159000</td><td style = \"text-align: right;\">201</td></tr><tr><td class = \"rowNumber\" style = \"font-weight: bold; text-align: right;\">4</td><td style = \"text-align: left;\">Geometry: wkbPolygon</td><td style = \"text-align: left;\">Warngebiete_Kreise.fid--2828b967_18b444abff3_-2503</td><td style = \"text-align: left;\">NI</td><td style = \"text-align: left;\">HAN</td><td style = \"text-align: left;\">© GeoBasis-DE / BKG 2021 (Daten modifiziert)</td><td style = \"text-align: right;\">20</td><td style = \"text-align: left;\">Hannover</td><td style = \"text-align: right;\">402</td><td style = \"text-align: right;\">18</td><td style = \"text-align: left;\">Region Hannover</td><td style = \"text-align: left;\">HA</td><td style = \"text-align: right;\">3</td><td style = \"text-align: right;\">1</td><td style = \"text-align: right;\">103241000</td><td style = \"text-align: right;\">201</td></tr><tr><td class = \"rowNumber\" style = \"font-weight: bold; text-align: right;\">5</td><td style = \"text-align: left;\">Geometry: wkbPolygon</td><td style = \"text-align: left;\">Warngebiete_Kreise.fid--2828b967_18b444abff3_-2502</td><td style = \"text-align: left;\">NI</td><td style = \"text-align: left;\">DHX</td><td style = \"text-align: left;\">© GeoBasis-DE / BKG 2021 (Daten modifiziert)</td><td style = \"text-align: right;\">21</td><td style = \"text-align: left;\">Diepholz</td><td style = \"text-align: right;\">159</td><td style = \"text-align: right;\">2</td><td style = \"text-align: left;\">Kreis Diepholz</td><td style = \"text-align: left;\">HA</td><td style = \"text-align: right;\">3</td><td style = \"text-align: right;\">1</td><td style = \"text-align: right;\">103251000</td><td style = \"text-align: right;\">201</td></tr><tr><td class = \"rowNumber\" style = \"font-weight: bold; text-align: right;\">6</td><td style = \"text-align: left;\">Geometry: wkbPolygon</td><td style = \"text-align: left;\">Warngebiete_Kreise.fid--2828b967_18b444abff3_-2501</td><td style = \"text-align: left;\">NI</td><td style = \"text-align: left;\">HMX</td><td style = \"text-align: left;\">© GeoBasis-DE / BKG 2021 (Daten modifiziert)</td><td style = \"text-align: right;\">22</td><td style = \"text-align: left;\">Hameln-Pyrmont</td><td style = \"text-align: right;\">438</td><td style = \"text-align: right;\">55</td><td style = \"text-align: left;\">Kreis Hameln-Pyrmont</td><td style = \"text-align: left;\">HA</td><td style = \"text-align: right;\">3</td><td style = \"text-align: right;\">1</td><td style = \"text-align: right;\">103252000</td><td style = \"text-align: right;\">201</td></tr><tr><td class = \"rowNumber\" style = \"font-weight: bold; text-align: right;\">7</td><td style = \"text-align: left;\">Geometry: wkbPolygon</td><td style = \"text-align: left;\">Warngebiete_Kreise.fid--2828b967_18b444abff3_-2500</td><td style = \"text-align: left;\">NI</td><td style = \"text-align: left;\">HIX</td><td style = \"text-align: left;\">© GeoBasis-DE / BKG 2021 (Daten modifiziert)</td><td style = \"text-align: right;\">23</td><td style = \"text-align: left;\">Hildesheim</td><td style = \"text-align: right;\">479</td><td style = \"text-align: right;\">57</td><td style = \"text-align: left;\">Kreis Hildesheim</td><td style = \"text-align: left;\">HA</td><td style = \"text-align: right;\">3</td><td style = \"text-align: right;\">1</td><td style = \"text-align: right;\">103254000</td><td style = \"text-align: right;\">201</td></tr><tr><td class = \"rowNumber\" style = \"font-weight: bold; text-align: right;\">8</td><td style = \"text-align: left;\">Geometry: wkbPolygon</td><td style = \"text-align: left;\">Warngebiete_Kreise.fid--2828b967_18b444abff3_-24ff</td><td style = \"text-align: left;\">NI</td><td style = \"text-align: left;\">HOL</td><td style = \"text-align: left;\">© GeoBasis-DE / BKG 2021 (Daten modifiziert)</td><td style = \"text-align: right;\">24</td><td style = \"text-align: left;\">Holzminden</td><td style = \"text-align: right;\">524</td><td style = \"text-align: right;\">69</td><td style = \"text-align: left;\">Kreis Holzminden</td><td style = \"text-align: left;\">HA</td><td style = \"text-align: right;\">3</td><td style = \"text-align: right;\">1</td><td style = \"text-align: right;\">103255000</td><td style = \"text-align: right;\">201</td></tr><tr><td class = \"rowNumber\" style = \"font-weight: bold; text-align: right;\">9</td><td style = \"text-align: left;\">Geometry: wkbPolygon</td><td style = \"text-align: left;\">Warngebiete_Kreise.fid--2828b967_18b444abff3_-24fe</td><td style = \"text-align: left;\">SH</td><td style = \"text-align: left;\">FLX</td><td style = \"text-align: left;\">© GeoBasis-DE / BKG 2021 (Daten modifiziert)</td><td style = \"text-align: right;\">1</td><td style = \"text-align: left;\">Flensburg</td><td style = \"text-align: right;\">63</td><td style = \"text-align: right;\">0</td><td style = \"text-align: left;\">Stadt Flensburg</td><td style = \"text-align: left;\">HA</td><td style = \"text-align: right;\">1</td><td style = \"text-align: right;\">1</td><td style = \"text-align: right;\">101001000</td><td style = \"text-align: right;\">201</td></tr><tr><td class = \"rowNumber\" style = \"font-weight: bold; text-align: right;\">10</td><td style = \"text-align: left;\">Geometry: wkbPolygon</td><td style = \"text-align: left;\">Warngebiete_Kreise.fid--2828b967_18b444abff3_-24fd</td><td style = \"text-align: left;\">SH</td><td style = \"text-align: left;\">KIX</td><td style = \"text-align: left;\">© GeoBasis-DE / BKG 2021 (Daten modifiziert)</td><td style = \"text-align: right;\">2</td><td style = \"text-align: left;\">Kiel</td><td style = \"text-align: right;\">72</td><td style = \"text-align: right;\">-11</td><td style = \"text-align: left;\">Stadt Kiel</td><td style = \"text-align: left;\">HA</td><td style = \"text-align: right;\">1</td><td style = \"text-align: right;\">1</td><td style = \"text-align: right;\">101002000</td><td style = \"text-align: right;\">201</td></tr><tr><td class = \"rowNumber\" style = \"font-weight: bold; text-align: right;\">11</td><td style = \"text-align: left;\">Geometry: wkbPolygon</td><td style = \"text-align: left;\">Warngebiete_Kreise.fid--2828b967_18b444abff3_-24fc</td><td style = \"text-align: left;\">SH</td><td style = \"text-align: left;\">HLX</td><td style = \"text-align: left;\">© GeoBasis-DE / BKG 2021 (Daten modifiziert)</td><td style = \"text-align: right;\">3</td><td style = \"text-align: left;\">Hansest. Lübeck</td><td style = \"text-align: right;\">54</td><td style = \"text-align: right;\">-3</td><td style = \"text-align: left;\">Hansestadt Lübeck</td><td style = \"text-align: left;\">HA</td><td style = \"text-align: right;\">1</td><td style = \"text-align: right;\">1</td><td style = \"text-align: right;\">101003000</td><td style = \"text-align: right;\">201</td></tr><tr><td class = \"rowNumber\" style = \"font-weight: bold; text-align: right;\">12</td><td style = \"text-align: left;\">Geometry: wkbPolygon</td><td style = \"text-align: left;\">Warngebiete_Kreise.fid--2828b967_18b444abff3_-24fb</td><td style = \"text-align: left;\">SH</td><td style = \"text-align: left;\">NMS</td><td style = \"text-align: left;\">© GeoBasis-DE / BKG 2021 (Daten modifiziert)</td><td style = \"text-align: right;\">4</td><td style = \"text-align: left;\">Neumünster</td><td style = \"text-align: right;\">40</td><td style = \"text-align: right;\">12</td><td style = \"text-align: left;\">Stadt Neumünster</td><td style = \"text-align: left;\">HA</td><td style = \"text-align: right;\">1</td><td style = \"text-align: right;\">1</td><td style = \"text-align: right;\">101004000</td><td style = \"text-align: right;\">201</td></tr><tr><td class = \"rowNumber\" style = \"font-weight: bold; text-align: right;\">13</td><td style = \"text-align: left;\">Geometry: wkbPolygon</td><td style = \"text-align: left;\">Warngebiete_Kreise.fid--2828b967_18b444abff3_-24fa</td><td style = \"text-align: left;\">SH</td><td style = \"text-align: left;\">RZX</td><td style = \"text-align: left;\">© GeoBasis-DE / BKG 2021 (Daten modifiziert)</td><td style = \"text-align: right;\">5</td><td style = \"text-align: left;\">Herz. Lauenburg</td><td style = \"text-align: right;\">93</td><td style = \"text-align: right;\">0</td><td style = \"text-align: left;\">Kreis Herzogtum Lauenburg</td><td style = \"text-align: left;\">HA</td><td style = \"text-align: right;\">1</td><td style = \"text-align: right;\">1</td><td style = \"text-align: right;\">101053000</td><td style = \"text-align: right;\">201</td></tr><tr><td style = \"text-align: right;\">&vellip;</td><td style = \"text-align: right;\">&vellip;</td><td style = \"text-align: right;\">&vellip;</td><td style = \"text-align: right;\">&vellip;</td><td style = \"text-align: right;\">&vellip;</td><td style = \"text-align: right;\">&vellip;</td><td style = \"text-align: right;\">&vellip;</td><td style = \"text-align: right;\">&vellip;</td><td style = \"text-align: right;\">&vellip;</td><td style = \"text-align: right;\">&vellip;</td><td style = \"text-align: right;\">&vellip;</td><td style = \"text-align: right;\">&vellip;</td><td style = \"text-align: right;\">&vellip;</td><td style = \"text-align: right;\">&vellip;</td><td style = \"text-align: right;\">&vellip;</td><td style = \"text-align: right;\">&vellip;</td></tr><tr><td class = \"rowNumber\" style = \"font-weight: bold; text-align: right;\">391</td><td style = \"text-align: left;\">Geometry: wkbMultiPolygon</td><td style = \"text-align: left;\">Warngebiete_Kreise.fid--2828b967_18b444abff3_-2378</td><td style = \"text-align: left;\">MV</td><td style = \"text-align: left;\">VRR</td><td style = \"text-align: left;\">© GeoBasis-DE / BKG 2021 (Daten modifiziert)</td><td style = \"text-align: right;\">377</td><td style = \"text-align: left;\">Vorp.-Rügen-Rüg</td><td style = \"text-align: right;\">155</td><td style = \"text-align: right;\">-2</td><td style = \"text-align: left;\">Kreis Vorpommern-Rügen - Insel Rügen</td><td style = \"text-align: left;\">PD</td><td style = \"text-align: right;\">13</td><td style = \"text-align: right;\">10</td><td style = \"text-align: right;\">913073003</td><td style = \"text-align: right;\">203</td></tr><tr><td class = \"rowNumber\" style = \"font-weight: bold; text-align: right;\">392</td><td style = \"text-align: left;\">Geometry: wkbPolygon</td><td style = \"text-align: left;\">Warngebiete_Kreise.fid--2828b967_18b444abff3_-2377</td><td style = \"text-align: left;\">MV</td><td style = \"text-align: left;\">OWB</td><td style = \"text-align: left;\">© GeoBasis-DE / BKG 2021 (Daten modifiziert)</td><td style = \"text-align: right;\">378</td><td style = \"text-align: left;\">Nordwestmeckl-B</td><td style = \"text-align: right;\">110</td><td style = \"text-align: right;\">0</td><td style = \"text-align: left;\">Kreis Nordwestmecklenburg - Binnenland</td><td style = \"text-align: left;\">PD</td><td style = \"text-align: right;\">13</td><td style = \"text-align: right;\">10</td><td style = \"text-align: right;\">913074001</td><td style = \"text-align: right;\">203</td></tr><tr><td class = \"rowNumber\" style = \"font-weight: bold; text-align: right;\">393</td><td style = \"text-align: left;\">Geometry: wkbMultiPolygon</td><td style = \"text-align: left;\">Warngebiete_Kreise.fid--2828b967_18b444abff3_-2376</td><td style = \"text-align: left;\">SN</td><td style = \"text-align: left;\">BZH</td><td style = \"text-align: left;\">© GeoBasis-DE / BKG 2021 (Daten modifiziert)</td><td style = \"text-align: right;\">393</td><td style = \"text-align: left;\">Bautzen-Bergl</td><td style = \"text-align: right;\">549</td><td style = \"text-align: right;\">249</td><td style = \"text-align: left;\">Kreis Bautzen - Bergland</td><td style = \"text-align: left;\">LZ</td><td style = \"text-align: right;\">14</td><td style = \"text-align: right;\">10</td><td style = \"text-align: right;\">914625002</td><td style = \"text-align: right;\">205</td></tr><tr><td class = \"rowNumber\" style = \"font-weight: bold; text-align: right;\">394</td><td style = \"text-align: left;\">Geometry: wkbPolygon</td><td style = \"text-align: left;\">Warngebiete_Kreise.fid--2828b967_18b444abff3_-2375</td><td style = \"text-align: left;\">SN</td><td style = \"text-align: left;\">GRF</td><td style = \"text-align: left;\">© GeoBasis-DE / BKG 2021 (Daten modifiziert)</td><td style = \"text-align: right;\">394</td><td style = \"text-align: left;\">Görlitz-Tiefl.</td><td style = \"text-align: right;\">558</td><td style = \"text-align: right;\">38</td><td style = \"text-align: left;\">Kreis Görlitz - Tiefland</td><td style = \"text-align: left;\">LZ</td><td style = \"text-align: right;\">14</td><td style = \"text-align: right;\">10</td><td style = \"text-align: right;\">914626001</td><td style = \"text-align: right;\">205</td></tr><tr><td class = \"rowNumber\" style = \"font-weight: bold; text-align: right;\">395</td><td style = \"text-align: left;\">Geometry: wkbMultiPolygon</td><td style = \"text-align: left;\">Warngebiete_Kreise.fid--2828b967_18b444abff3_-2374</td><td style = \"text-align: left;\">SN</td><td style = \"text-align: left;\">GRH</td><td style = \"text-align: left;\">© GeoBasis-DE / BKG 2021 (Daten modifiziert)</td><td style = \"text-align: right;\">395</td><td style = \"text-align: left;\">Görlitz-Bergl.</td><td style = \"text-align: right;\">784</td><td style = \"text-align: right;\">275</td><td style = \"text-align: left;\">Kreis Görlitz - Bergland</td><td style = \"text-align: left;\">LZ</td><td style = \"text-align: right;\">14</td><td style = \"text-align: right;\">10</td><td style = \"text-align: right;\">914626002</td><td style = \"text-align: right;\">205</td></tr><tr><td class = \"rowNumber\" style = \"font-weight: bold; text-align: right;\">396</td><td style = \"text-align: left;\">Geometry: wkbPolygon</td><td style = \"text-align: left;\">Warngebiete_Kreise.fid--2828b967_18b444abff3_-2372</td><td style = \"text-align: left;\">SN</td><td style = \"text-align: left;\">PIF</td><td style = \"text-align: left;\">© GeoBasis-DE / BKG 2021 (Daten modifiziert)</td><td style = \"text-align: right;\">396</td><td style = \"text-align: left;\">Sächs.Schweiz-T</td><td style = \"text-align: right;\">551</td><td style = \"text-align: right;\">110</td><td style = \"text-align: left;\">Kreis Sächsische Schweiz-Osterzgebirge - Tiefland</td><td style = \"text-align: left;\">LZ</td><td style = \"text-align: right;\">14</td><td style = \"text-align: right;\">10</td><td style = \"text-align: right;\">914628001</td><td style = \"text-align: right;\">205</td></tr><tr><td class = \"rowNumber\" style = \"font-weight: bold; text-align: right;\">397</td><td style = \"text-align: left;\">Geometry: wkbPolygon</td><td style = \"text-align: left;\">Warngebiete_Kreise.fid--2828b967_18b444abff3_-2371</td><td style = \"text-align: left;\">SN</td><td style = \"text-align: left;\">PIW</td><td style = \"text-align: left;\">© GeoBasis-DE / BKG 2021 (Daten modifiziert)</td><td style = \"text-align: right;\">397</td><td style = \"text-align: left;\">Sächs.Schweiz-W</td><td style = \"text-align: right;\">903</td><td style = \"text-align: right;\">177</td><td style = \"text-align: left;\">Kreis Sächsische Schweiz-Osterzgebirge - westelbisches Bergland</td><td style = \"text-align: left;\">LZ</td><td style = \"text-align: right;\">14</td><td style = \"text-align: right;\">10</td><td style = \"text-align: right;\">914628002</td><td style = \"text-align: right;\">205</td></tr><tr><td class = \"rowNumber\" style = \"font-weight: bold; text-align: right;\">398</td><td style = \"text-align: left;\">Geometry: wkbPolygon</td><td style = \"text-align: left;\">Warngebiete_Kreise.fid--2828b967_18b444abff3_-2370</td><td style = \"text-align: left;\">SN</td><td style = \"text-align: left;\">PIO</td><td style = \"text-align: left;\">© GeoBasis-DE / BKG 2021 (Daten modifiziert)</td><td style = \"text-align: right;\">398</td><td style = \"text-align: left;\">Sächs.Schweiz-B</td><td style = \"text-align: right;\">564</td><td style = \"text-align: right;\">133</td><td style = \"text-align: left;\">Kreis Sächsische Schweiz-Osterzgebirge - ostelbisches Bergland</td><td style = \"text-align: left;\">LZ</td><td style = \"text-align: right;\">14</td><td style = \"text-align: right;\">10</td><td style = \"text-align: right;\">914628003</td><td style = \"text-align: right;\">205</td></tr><tr><td class = \"rowNumber\" style = \"font-weight: bold; text-align: right;\">399</td><td style = \"text-align: left;\">Geometry: wkbPolygon</td><td style = \"text-align: left;\">Warngebiete_Kreise.fid--2828b967_18b444abff3_-236f</td><td style = \"text-align: left;\">SN</td><td style = \"text-align: left;\">TON</td><td style = \"text-align: left;\">© GeoBasis-DE / BKG 2021 (Daten modifiziert)</td><td style = \"text-align: right;\">399</td><td style = \"text-align: left;\">Nordsachsen-N</td><td style = \"text-align: right;\">175</td><td style = \"text-align: right;\">71</td><td style = \"text-align: left;\">Kreis Nordsachsen - Nord</td><td style = \"text-align: left;\">LZ</td><td style = \"text-align: right;\">14</td><td style = \"text-align: right;\">10</td><td style = \"text-align: right;\">914730001</td><td style = \"text-align: right;\">205</td></tr><tr><td class = \"rowNumber\" style = \"font-weight: bold; text-align: right;\">400</td><td style = \"text-align: left;\">Geometry: wkbPolygon</td><td style = \"text-align: left;\">Warngebiete_Kreise.fid--2828b967_18b444abff3_-236e</td><td style = \"text-align: left;\">SN</td><td style = \"text-align: left;\">TOS</td><td style = \"text-align: left;\">© GeoBasis-DE / BKG 2021 (Daten modifiziert)</td><td style = \"text-align: right;\">400</td><td style = \"text-align: left;\">Nordsachsen-S</td><td style = \"text-align: right;\">302</td><td style = \"text-align: right;\">80</td><td style = \"text-align: left;\">Kreis Nordsachsen - Süd</td><td style = \"text-align: left;\">LZ</td><td style = \"text-align: right;\">14</td><td style = \"text-align: right;\">10</td><td style = \"text-align: right;\">914730002</td><td style = \"text-align: right;\">205</td></tr><tr><td class = \"rowNumber\" style = \"font-weight: bold; text-align: right;\">401</td><td style = \"text-align: left;\">Geometry: wkbPolygon</td><td style = \"text-align: left;\">Warngebiete_Kreise.fid--2828b967_18b444abff3_-236d</td><td style = \"text-align: left;\">ST</td><td style = \"text-align: left;\">HZX</td><td style = \"text-align: left;\">© GeoBasis-DE / BKG 2021 (Daten modifiziert)</td><td style = \"text-align: right;\">401</td><td style = \"text-align: left;\">Harz-Tiefland</td><td style = \"text-align: right;\">585</td><td style = \"text-align: right;\">79</td><td style = \"text-align: left;\">Kreis Harz - Tiefland</td><td style = \"text-align: left;\">LZ</td><td style = \"text-align: right;\">15</td><td style = \"text-align: right;\">10</td><td style = \"text-align: right;\">915085001</td><td style = \"text-align: right;\">205</td></tr><tr><td class = \"rowNumber\" style = \"font-weight: bold; text-align: right;\">402</td><td style = \"text-align: left;\">Geometry: wkbPolygon</td><td style = \"text-align: left;\">Warngebiete_Kreise.fid--2828b967_18b444abff3_-236c</td><td style = \"text-align: left;\">ST</td><td style = \"text-align: left;\">HZH</td><td style = \"text-align: left;\">© GeoBasis-DE / BKG 2021 (Daten modifiziert)</td><td style = \"text-align: right;\">402</td><td style = \"text-align: left;\">Harz-Bergland</td><td style = \"text-align: right;\">1139</td><td style = \"text-align: right;\">165</td><td style = \"text-align: left;\">Kreis Harz - Bergland (Oberharz)</td><td style = \"text-align: left;\">LZ</td><td style = \"text-align: right;\">15</td><td style = \"text-align: right;\">10</td><td style = \"text-align: right;\">915085002</td><td style = \"text-align: right;\">205</td></tr></tbody></table></div>"
      ],
      "text/latex": [
       "\\begin{tabular}{r|cccc}\n",
       "\t& geometry & id & BL & \\\\\n",
       "\t\\hline\n",
       "\t& IGeometry & String & String & \\\\\n",
       "\t\\hline\n",
       "\t1 & Geometry: wkbPolygon & Warngebiete\\_Kreise.fid--2828b967\\_18b444abff3\\_-2506 & NI & $\\dots$ \\\\\n",
       "\t2 & Geometry: wkbMultiPolygon & Warngebiete\\_Kreise.fid--2828b967\\_18b444abff3\\_-2505 & NI & $\\dots$ \\\\\n",
       "\t3 & Geometry: wkbPolygon & Warngebiete\\_Kreise.fid--2828b967\\_18b444abff3\\_-2504 & NI & $\\dots$ \\\\\n",
       "\t4 & Geometry: wkbPolygon & Warngebiete\\_Kreise.fid--2828b967\\_18b444abff3\\_-2503 & NI & $\\dots$ \\\\\n",
       "\t5 & Geometry: wkbPolygon & Warngebiete\\_Kreise.fid--2828b967\\_18b444abff3\\_-2502 & NI & $\\dots$ \\\\\n",
       "\t6 & Geometry: wkbPolygon & Warngebiete\\_Kreise.fid--2828b967\\_18b444abff3\\_-2501 & NI & $\\dots$ \\\\\n",
       "\t7 & Geometry: wkbPolygon & Warngebiete\\_Kreise.fid--2828b967\\_18b444abff3\\_-2500 & NI & $\\dots$ \\\\\n",
       "\t8 & Geometry: wkbPolygon & Warngebiete\\_Kreise.fid--2828b967\\_18b444abff3\\_-24ff & NI & $\\dots$ \\\\\n",
       "\t9 & Geometry: wkbPolygon & Warngebiete\\_Kreise.fid--2828b967\\_18b444abff3\\_-24fe & SH & $\\dots$ \\\\\n",
       "\t10 & Geometry: wkbPolygon & Warngebiete\\_Kreise.fid--2828b967\\_18b444abff3\\_-24fd & SH & $\\dots$ \\\\\n",
       "\t11 & Geometry: wkbPolygon & Warngebiete\\_Kreise.fid--2828b967\\_18b444abff3\\_-24fc & SH & $\\dots$ \\\\\n",
       "\t12 & Geometry: wkbPolygon & Warngebiete\\_Kreise.fid--2828b967\\_18b444abff3\\_-24fb & SH & $\\dots$ \\\\\n",
       "\t13 & Geometry: wkbPolygon & Warngebiete\\_Kreise.fid--2828b967\\_18b444abff3\\_-24fa & SH & $\\dots$ \\\\\n",
       "\t14 & Geometry: wkbPolygon & Warngebiete\\_Kreise.fid--2828b967\\_18b444abff3\\_-24f8 & SH & $\\dots$ \\\\\n",
       "\t15 & Geometry: wkbPolygon & Warngebiete\\_Kreise.fid--2828b967\\_18b444abff3\\_-24f7 & SH & $\\dots$ \\\\\n",
       "\t16 & Geometry: wkbPolygon & Warngebiete\\_Kreise.fid--2828b967\\_18b444abff3\\_-24f6 & SH & $\\dots$ \\\\\n",
       "\t17 & Geometry: wkbPolygon & Warngebiete\\_Kreise.fid--2828b967\\_18b444abff3\\_-24f5 & HH & $\\dots$ \\\\\n",
       "\t18 & Geometry: wkbPolygon & Warngebiete\\_Kreise.fid--2828b967\\_18b444abff3\\_-24f4 & NI & $\\dots$ \\\\\n",
       "\t19 & Geometry: wkbPolygon & Warngebiete\\_Kreise.fid--2828b967\\_18b444abff3\\_-24f3 & NI & $\\dots$ \\\\\n",
       "\t20 & Geometry: wkbPolygon & Warngebiete\\_Kreise.fid--2828b967\\_18b444abff3\\_-24f2 & NI & $\\dots$ \\\\\n",
       "\t21 & Geometry: wkbPolygon & Warngebiete\\_Kreise.fid--2828b967\\_18b444abff3\\_-24f1 & NI & $\\dots$ \\\\\n",
       "\t22 & Geometry: wkbPolygon & Warngebiete\\_Kreise.fid--2828b967\\_18b444abff3\\_-24f0 & NI & $\\dots$ \\\\\n",
       "\t23 & Geometry: wkbPolygon & Warngebiete\\_Kreise.fid--2828b967\\_18b444abff3\\_-24ef & NI & $\\dots$ \\\\\n",
       "\t24 & Geometry: wkbMultiPolygon & Warngebiete\\_Kreise.fid--2828b967\\_18b444abff3\\_-24ee & NI & $\\dots$ \\\\\n",
       "\t$\\dots$ & $\\dots$ & $\\dots$ & $\\dots$ &  \\\\\n",
       "\\end{tabular}\n"
      ],
      "text/plain": [
       "\u001b[1m402×15 DataFrame\u001b[0m\n",
       "\u001b[1m Row \u001b[0m│\u001b[1m geometry                  \u001b[0m\u001b[1m id                                \u001b[0m\u001b[1m BL     \u001b[0m\u001b[1m C\u001b[0m ⋯\n",
       "     │\u001b[90m IGeometry                 \u001b[0m\u001b[90m String                            \u001b[0m\u001b[90m String \u001b[0m\u001b[90m S\u001b[0m ⋯\n",
       "─────┼──────────────────────────────────────────────────────────────────────────\n",
       "   1 │ Geometry: wkbPolygon       Warngebiete_Kreise.fid--2828b967…  NI      P ⋯\n",
       "   2 │ Geometry: wkbMultiPolygon  Warngebiete_Kreise.fid--2828b967…  NI      W\n",
       "   3 │ Geometry: wkbPolygon       Warngebiete_Kreise.fid--2828b967…  NI      G\n",
       "   4 │ Geometry: wkbPolygon       Warngebiete_Kreise.fid--2828b967…  NI      H\n",
       "   5 │ Geometry: wkbPolygon       Warngebiete_Kreise.fid--2828b967…  NI      D ⋯\n",
       "   6 │ Geometry: wkbPolygon       Warngebiete_Kreise.fid--2828b967…  NI      H\n",
       "   7 │ Geometry: wkbPolygon       Warngebiete_Kreise.fid--2828b967…  NI      H\n",
       "   8 │ Geometry: wkbPolygon       Warngebiete_Kreise.fid--2828b967…  NI      H\n",
       "  ⋮  │             ⋮                              ⋮                    ⋮       ⋱\n",
       " 396 │ Geometry: wkbPolygon       Warngebiete_Kreise.fid--2828b967…  SN      P ⋯\n",
       " 397 │ Geometry: wkbPolygon       Warngebiete_Kreise.fid--2828b967…  SN      P\n",
       " 398 │ Geometry: wkbPolygon       Warngebiete_Kreise.fid--2828b967…  SN      P\n",
       " 399 │ Geometry: wkbPolygon       Warngebiete_Kreise.fid--2828b967…  SN      T\n",
       " 400 │ Geometry: wkbPolygon       Warngebiete_Kreise.fid--2828b967…  SN      T ⋯\n",
       " 401 │ Geometry: wkbPolygon       Warngebiete_Kreise.fid--2828b967…  ST      H\n",
       " 402 │ Geometry: wkbPolygon       Warngebiete_Kreise.fid--2828b967…  ST      H\n",
       "\u001b[36m                                                 12 columns and 387 rows omitted\u001b[0m"
      ]
     },
     "metadata": {},
     "output_type": "display_data"
    }
   ],
   "source": [
    "boundary=GeoDataFrames.read(\"dwd-Warngebiete_Kreise.geojson\")"
   ]
  },
  {
   "cell_type": "code",
   "execution_count": 32,
   "metadata": {},
   "outputs": [
    {
     "data": {
      "text/plain": [
       "Observable(\"Number of days in year 2003 with heat alerts\")\n"
      ]
     },
     "metadata": {},
     "output_type": "display_data"
    }
   ],
   "source": [
    "colored_county=Observable([RGBA(0,0,0,0) for i=1:402])\n",
    "text_to_plot=Observable(\"Number of days in year 2003 with heat alerts\")"
   ]
  },
  {
   "cell_type": "code",
   "execution_count": 16,
   "metadata": {},
   "outputs": [
    {
     "data": {
      "text/plain": [
       "5-element Vector{Int64}:\n",
       "   1\n",
       "   2\n",
       "   3\n",
       "   5\n",
       " 100"
      ]
     },
     "metadata": {},
     "output_type": "display_data"
    }
   ],
   "source": [
    "bounds_x=[5,10,15,20,100]\n",
    "bounds_y=[1,2,3,5,100]"
   ]
  },
  {
   "cell_type": "code",
   "execution_count": 15,
   "metadata": {},
   "outputs": [
    {
     "data": {
      "text/plain": [
       "5-element Vector{Any}:\n",
       " PlotUtils.CategoricalColorGradient(ColorSchemes.ColorScheme{Vector{RGBA{Float64}}, String, String}(RGBA{Float64}[RGBA{Float64}(0.0,0.0,0.0,1.0), RGBA{Float64}(0.26385000000000003,0.26385000000000003,0.26385000000000003,1.0), RGBA{Float64}(0.46635,0.46635,0.46635,1.0), RGBA{Float64}(0.6862250000000001,0.6862250000000001,0.6862250000000001,1.0), RGBA{Float64}(1.0,1.0,1.0,1.0)], \"\", \"\"), [0.0, 0.2, 0.4, 0.6, 0.8, 1.0])\n",
       " RGBA{Float64}[RGBA{Float64}(0.0988,0.0997,0.0001,1.0), RGBA{Float64}(0.20123333333333332,0.13546666666666668,0.0601,1.0), RGBA{Float64}(0.35353333333333337,0.18706666666666666,0.13706666666666664,1.0), RGBA{Float64}(0.5626,0.2525,0.2385,1.0), RGBA{Float64}(0.7827,0.31379999999999997,0.2926333333333333,1.0)]\n",
       " RGBA{Float64}[RGBA{Float64}(0.1035,0.0478,0.3935,1.0), RGBA{Float64}(0.13623333333333332,0.17969999999999997,0.4828,1.0), RGBA{Float64}(0.16519999999999999,0.2952666666666667,0.5597333333333333,1.0), RGBA{Float64}(0.2117,0.4044,0.6147,1.0), RGBA{Float64}(0.2976,0.5045999999999999,0.6406,1.0)]\n",
       " RGBA{Float64}[RGBA{Float64}(0.8787666666666667,0.44653333333333345,0.3108666666666667,1.0), RGBA{Float64}(0.9075,0.5798,0.321,1.0), RGBA{Float64}(0.9347333333333333,0.7116333333333333,0.3337333333333333,1.0), RGBA{Float64}(0.9725999999999999,0.8721999999999999,0.4823333333333333,1.0), RGBA{Float64}(1.0,0.9978,0.7942,1.0)]\n",
       " RGBA{Float64}[RGBA{Float64}(0.42840000000000006,0.5854333333333334,0.6308333333333334,1.0), RGBA{Float64}(0.5795,0.6369,0.5955,1.0), RGBA{Float64}(0.7529333333333335,0.6959,0.5995,1.0), RGBA{Float64}(0.9341333333333333,0.8251333333333333,0.7513,1.0), RGBA{Float64}(0.9971,0.9498,0.9512,1.0)]"
      ]
     },
     "metadata": {},
     "output_type": "display_data"
    }
   ],
   "source": [
    "cols=[cgrad(:grayC,5,categorical=true),cgrad(:lajolla,10,categorical=true)[1:5],cgrad(:lapaz,10,categorical=true)[1:5],cgrad(:lajolla,10,categorical=true)[6:10],cgrad(:lapaz,10,categorical=true)[6:10]]"
   ]
  },
  {
   "cell_type": "code",
   "execution_count": 61,
   "metadata": {},
   "outputs": [
    {
     "data": {
      "text/plain": [
       "(900.0f0, 600.0f0)"
      ]
     },
     "metadata": {},
     "output_type": "display_data"
    }
   ],
   "source": [
    "f=Figure(resolution=(900,600))\n",
    "ax=GeoAxis(f[1:2,1:3], latlims=(46.9,55.1),lonlims=(5.5,15.5),title=text_to_plot,titlesize=20)\n",
    "p=poly!(ax,GeoMakie.to_multipoly.(GeoMakie.geo2basic.(boundary.geometry)),color=colored_county, strokewidth=0.1, strokecolor=:black)\n",
    "#Colorbar(f[1,2],p,label=\"Heat alerts per county in year $(year)\")\n",
    "\n",
    "hidedecorations!(ax)\n",
    "hidespines!(ax)\n",
    "gf=f[2,4]#GridLayout(2,2)\n",
    "ax=Axis(gf,xlabel=\"Warning of high heat exposure\", ylabel=\"Warning of extreme heat exposure\",xticks=(1:5,[\"0\";string.(bounds_x)[1:4]]),yticks=(1:5,[\"0\";string.(bounds_y)[1:4]]),aspect=1)\n",
    "for x in 1:5\n",
    "for y in 1:5\n",
    "poly!(ax,Rect(x,y, 1, 1), color=cols[y][x])\n",
    "end\n",
    "end\n",
    "\n",
    "hidedecorations!(ax,label = false, ticklabels = false, ticks = false)\n",
    "hidespines!(ax)\n",
    "Label(f[3,1:4],text=\"Data: © Deutscher Wetterdienst\\nGeodata: © Data modified from © GeoBasis-DE / BKG, Statistisches Bundesamt (Destatis) (2021)\",justification=:left)\n",
    "\n",
    "Makie.resize_to_layout!(f)"
   ]
  },
  {
   "cell_type": "code",
   "execution_count": 63,
   "metadata": {},
   "outputs": [
    {
     "data": {
      "text/plain": [
       "\"heat_warnings.gif\""
      ]
     },
     "metadata": {},
     "output_type": "display_data"
    }
   ],
   "source": [
    "record(f, \"heat_warnings.gif\", 2005:0.5:2023;\n",
    "        framerate = 1) do year\n",
    "        year=Int(floor(year))\n",
    "            df = CSV.File(\"heat_alerts_$year.csv\") |> DataFrame;\n",
    "            heat_alerts=combine(groupby(df,[:Name,:Warnstufe]),nrow)\n",
    "            colors=[]\n",
    "            for bound ∈ eachrow(boundary)\n",
    "                warnings=heat_alerts[heat_alerts.Name.==bound.NAME,:]\n",
    "                if size(warnings,1)==0\n",
    "                    push!(colors, cols[1][1])\n",
    "                    continue\n",
    "                end\n",
    "                warning_1=warnings[warnings.Warnstufe.==1,:]\n",
    "                xe=0\n",
    "                if size(warning_1,1)==0\n",
    "                    xe=1\n",
    "                else\n",
    "                    xe=warning_1.nrow[1]\n",
    "                end\n",
    "                warning_3=warnings[warnings.Warnstufe.==3,:]\n",
    "                ye=0\n",
    "                if size(warning_3,1)==0\n",
    "                    ye=1\n",
    "                else\n",
    "                    ye=warning_3.nrow[1]\n",
    "                end\n",
    "                xe=findfirst(xe.<bounds_x)\n",
    "                ye=findfirst(ye.<bounds_y)\n",
    "                push!(colors,cols[ye][xe])\n",
    "                \n",
    "            end\n",
    "            colored_county[]=colors\n",
    "            text_to_plot[]=\"Number of days in year $year with heat alerts\"\n",
    "end"
   ]
  }
 ],
 "metadata": {
  "kernelspec": {
   "display_name": "Julia 1.9.3",
   "language": "julia",
   "name": "julia-1.9"
  },
  "language_info": {
   "file_extension": ".jl",
   "mimetype": "application/julia",
   "name": "julia",
   "version": "1.9.3"
  },
  "orig_nbformat": 4
 },
 "nbformat": 4,
 "nbformat_minor": 2
}
