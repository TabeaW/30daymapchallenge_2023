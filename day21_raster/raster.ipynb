{
 "cells": [
  {
   "cell_type": "markdown",
   "metadata": {},
   "source": [
    "* Data from https://opendata.dwd.de/weather/radar/radolan/rw/"
   ]
  },
  {
   "cell_type": "code",
   "execution_count": 23,
   "metadata": {},
   "outputs": [],
   "source": [
    "include(\"../read_radolan.jl\")\n",
    "include(\"../utils.jl\")\n",
    "using GeoMakie, GLMakie,Dates"
   ]
  },
  {
   "cell_type": "code",
   "execution_count": 10,
   "metadata": {},
   "outputs": [
    {
     "data": {
      "text/html": [
       "<div><div style = \"float: left;\"><span>16×7 DataFrame</span></div><div style = \"clear: both;\"></div></div><div class = \"data-frame\" style = \"overflow-x: scroll;\"><table class = \"data-frame\" style = \"margin-bottom: 6px;\"><thead><tr class = \"header\"><th class = \"rowNumber\" style = \"font-weight: bold; text-align: right;\">Row</th><th style = \"text-align: left;\"></th><th style = \"text-align: left;\">OBJID</th><th style = \"text-align: left;\">BEGINN</th><th style = \"text-align: left;\">GF</th><th style = \"text-align: left;\">NUTS_LEVEL</th><th style = \"text-align: left;\">NUTS_CODE</th><th style = \"text-align: left;\">NUTS_NAME</th></tr><tr class = \"subheader headerLastRow\"><th class = \"rowNumber\" style = \"font-weight: bold; text-align: right;\"></th><th title = \"ArchGDAL.IGeometry\" style = \"text-align: left;\">IGeometry</th><th title = \"String\" style = \"text-align: left;\">String</th><th title = \"DateTime\" style = \"text-align: left;\">DateTime</th><th title = \"Int32\" style = \"text-align: left;\">Int32</th><th title = \"Int32\" style = \"text-align: left;\">Int32</th><th title = \"String\" style = \"text-align: left;\">String</th><th title = \"String\" style = \"text-align: left;\">String</th></tr></thead><tbody><tr><td class = \"rowNumber\" style = \"font-weight: bold; text-align: right;\">1</td><td style = \"text-align: left;\">Geometry: wkbMultiPolygon</td><td style = \"text-align: left;\">DEBKGNU5000000C8</td><td style = \"text-align: left;\">2021-10-04T00:00:00</td><td style = \"text-align: right;\">9</td><td style = \"text-align: right;\">1</td><td style = \"text-align: left;\">DE1</td><td style = \"text-align: left;\">Baden-Württemberg</td></tr><tr><td class = \"rowNumber\" style = \"font-weight: bold; text-align: right;\">2</td><td style = \"text-align: left;\">Geometry: wkbPolygon</td><td style = \"text-align: left;\">DEBKGNU5000000C9</td><td style = \"text-align: left;\">2021-10-04T00:00:00</td><td style = \"text-align: right;\">9</td><td style = \"text-align: right;\">1</td><td style = \"text-align: left;\">DE2</td><td style = \"text-align: left;\">Bayern</td></tr><tr><td class = \"rowNumber\" style = \"font-weight: bold; text-align: right;\">3</td><td style = \"text-align: left;\">Geometry: wkbPolygon</td><td style = \"text-align: left;\">DEBKGNU5000000CA</td><td style = \"text-align: left;\">2021-10-04T00:00:00</td><td style = \"text-align: right;\">9</td><td style = \"text-align: right;\">1</td><td style = \"text-align: left;\">DE3</td><td style = \"text-align: left;\">Berlin</td></tr><tr><td class = \"rowNumber\" style = \"font-weight: bold; text-align: right;\">4</td><td style = \"text-align: left;\">Geometry: wkbPolygon</td><td style = \"text-align: left;\">DEBKGNU5000000CB</td><td style = \"text-align: left;\">2021-10-04T00:00:00</td><td style = \"text-align: right;\">9</td><td style = \"text-align: right;\">1</td><td style = \"text-align: left;\">DE4</td><td style = \"text-align: left;\">Brandenburg</td></tr><tr><td class = \"rowNumber\" style = \"font-weight: bold; text-align: right;\">5</td><td style = \"text-align: left;\">Geometry: wkbMultiPolygon</td><td style = \"text-align: left;\">DEBKGNU5000000CC</td><td style = \"text-align: left;\">2021-10-04T00:00:00</td><td style = \"text-align: right;\">9</td><td style = \"text-align: right;\">1</td><td style = \"text-align: left;\">DE5</td><td style = \"text-align: left;\">Bremen</td></tr><tr><td class = \"rowNumber\" style = \"font-weight: bold; text-align: right;\">6</td><td style = \"text-align: left;\">Geometry: wkbMultiPolygon</td><td style = \"text-align: left;\">DEBKGNU5000000CD</td><td style = \"text-align: left;\">2021-10-04T00:00:00</td><td style = \"text-align: right;\">9</td><td style = \"text-align: right;\">1</td><td style = \"text-align: left;\">DE6</td><td style = \"text-align: left;\">Hamburg</td></tr><tr><td class = \"rowNumber\" style = \"font-weight: bold; text-align: right;\">7</td><td style = \"text-align: left;\">Geometry: wkbPolygon</td><td style = \"text-align: left;\">DEBKGNU5000000CE</td><td style = \"text-align: left;\">2021-10-04T00:00:00</td><td style = \"text-align: right;\">9</td><td style = \"text-align: right;\">1</td><td style = \"text-align: left;\">DE7</td><td style = \"text-align: left;\">Hessen</td></tr><tr><td class = \"rowNumber\" style = \"font-weight: bold; text-align: right;\">8</td><td style = \"text-align: left;\">Geometry: wkbMultiPolygon</td><td style = \"text-align: left;\">DEBKGNU5000000CF</td><td style = \"text-align: left;\">2021-10-04T00:00:00</td><td style = \"text-align: right;\">9</td><td style = \"text-align: right;\">1</td><td style = \"text-align: left;\">DE8</td><td style = \"text-align: left;\">Mecklenburg-Vorpommern</td></tr><tr><td class = \"rowNumber\" style = \"font-weight: bold; text-align: right;\">9</td><td style = \"text-align: left;\">Geometry: wkbMultiPolygon</td><td style = \"text-align: left;\">DEBKGNU5000000CG</td><td style = \"text-align: left;\">2021-10-04T00:00:00</td><td style = \"text-align: right;\">9</td><td style = \"text-align: right;\">1</td><td style = \"text-align: left;\">DE9</td><td style = \"text-align: left;\">Niedersachsen</td></tr><tr><td class = \"rowNumber\" style = \"font-weight: bold; text-align: right;\">10</td><td style = \"text-align: left;\">Geometry: wkbPolygon</td><td style = \"text-align: left;\">DEBKGNU5000000CH</td><td style = \"text-align: left;\">2021-10-04T00:00:00</td><td style = \"text-align: right;\">9</td><td style = \"text-align: right;\">1</td><td style = \"text-align: left;\">DEA</td><td style = \"text-align: left;\">Nordrhein-Westfalen</td></tr><tr><td class = \"rowNumber\" style = \"font-weight: bold; text-align: right;\">11</td><td style = \"text-align: left;\">Geometry: wkbPolygon</td><td style = \"text-align: left;\">DEBKGNU5000000CI</td><td style = \"text-align: left;\">2021-10-04T00:00:00</td><td style = \"text-align: right;\">9</td><td style = \"text-align: right;\">1</td><td style = \"text-align: left;\">DEB</td><td style = \"text-align: left;\">Rheinland-Pfalz</td></tr><tr><td class = \"rowNumber\" style = \"font-weight: bold; text-align: right;\">12</td><td style = \"text-align: left;\">Geometry: wkbPolygon</td><td style = \"text-align: left;\">DEBKGNU5000000CJ</td><td style = \"text-align: left;\">2021-10-04T00:00:00</td><td style = \"text-align: right;\">9</td><td style = \"text-align: right;\">1</td><td style = \"text-align: left;\">DEC</td><td style = \"text-align: left;\">Saarland</td></tr><tr><td class = \"rowNumber\" style = \"font-weight: bold; text-align: right;\">13</td><td style = \"text-align: left;\">Geometry: wkbPolygon</td><td style = \"text-align: left;\">DEBKGNU5000000CK</td><td style = \"text-align: left;\">2021-10-04T00:00:00</td><td style = \"text-align: right;\">9</td><td style = \"text-align: right;\">1</td><td style = \"text-align: left;\">DED</td><td style = \"text-align: left;\">Sachsen</td></tr><tr><td class = \"rowNumber\" style = \"font-weight: bold; text-align: right;\">14</td><td style = \"text-align: left;\">Geometry: wkbPolygon</td><td style = \"text-align: left;\">DEBKGNU5000000CL</td><td style = \"text-align: left;\">2021-10-04T00:00:00</td><td style = \"text-align: right;\">9</td><td style = \"text-align: right;\">1</td><td style = \"text-align: left;\">DEE</td><td style = \"text-align: left;\">Sachsen-Anhalt</td></tr><tr><td class = \"rowNumber\" style = \"font-weight: bold; text-align: right;\">15</td><td style = \"text-align: left;\">Geometry: wkbMultiPolygon</td><td style = \"text-align: left;\">DEBKGNU5000000CM</td><td style = \"text-align: left;\">2021-10-04T00:00:00</td><td style = \"text-align: right;\">9</td><td style = \"text-align: right;\">1</td><td style = \"text-align: left;\">DEF</td><td style = \"text-align: left;\">Schleswig-Holstein</td></tr><tr><td class = \"rowNumber\" style = \"font-weight: bold; text-align: right;\">16</td><td style = \"text-align: left;\">Geometry: wkbPolygon</td><td style = \"text-align: left;\">DEBKGNU5000000CN</td><td style = \"text-align: left;\">2021-10-04T00:00:00</td><td style = \"text-align: right;\">9</td><td style = \"text-align: right;\">1</td><td style = \"text-align: left;\">DEG</td><td style = \"text-align: left;\">Thüringen</td></tr></tbody></table></div>"
      ],
      "text/latex": [
       "\\begin{tabular}{r|cccccc}\n",
       "\t&  & OBJID & BEGINN & GF & NUTS\\_LEVEL & \\\\\n",
       "\t\\hline\n",
       "\t& IGeometry & String & DateTime & Int32 & Int32 & \\\\\n",
       "\t\\hline\n",
       "\t1 & Geometry: wkbMultiPolygon & DEBKGNU5000000C8 & 2021-10-04T00:00:00 & 9 & 1 & $\\dots$ \\\\\n",
       "\t2 & Geometry: wkbPolygon & DEBKGNU5000000C9 & 2021-10-04T00:00:00 & 9 & 1 & $\\dots$ \\\\\n",
       "\t3 & Geometry: wkbPolygon & DEBKGNU5000000CA & 2021-10-04T00:00:00 & 9 & 1 & $\\dots$ \\\\\n",
       "\t4 & Geometry: wkbPolygon & DEBKGNU5000000CB & 2021-10-04T00:00:00 & 9 & 1 & $\\dots$ \\\\\n",
       "\t5 & Geometry: wkbMultiPolygon & DEBKGNU5000000CC & 2021-10-04T00:00:00 & 9 & 1 & $\\dots$ \\\\\n",
       "\t6 & Geometry: wkbMultiPolygon & DEBKGNU5000000CD & 2021-10-04T00:00:00 & 9 & 1 & $\\dots$ \\\\\n",
       "\t7 & Geometry: wkbPolygon & DEBKGNU5000000CE & 2021-10-04T00:00:00 & 9 & 1 & $\\dots$ \\\\\n",
       "\t8 & Geometry: wkbMultiPolygon & DEBKGNU5000000CF & 2021-10-04T00:00:00 & 9 & 1 & $\\dots$ \\\\\n",
       "\t9 & Geometry: wkbMultiPolygon & DEBKGNU5000000CG & 2021-10-04T00:00:00 & 9 & 1 & $\\dots$ \\\\\n",
       "\t10 & Geometry: wkbPolygon & DEBKGNU5000000CH & 2021-10-04T00:00:00 & 9 & 1 & $\\dots$ \\\\\n",
       "\t11 & Geometry: wkbPolygon & DEBKGNU5000000CI & 2021-10-04T00:00:00 & 9 & 1 & $\\dots$ \\\\\n",
       "\t12 & Geometry: wkbPolygon & DEBKGNU5000000CJ & 2021-10-04T00:00:00 & 9 & 1 & $\\dots$ \\\\\n",
       "\t13 & Geometry: wkbPolygon & DEBKGNU5000000CK & 2021-10-04T00:00:00 & 9 & 1 & $\\dots$ \\\\\n",
       "\t14 & Geometry: wkbPolygon & DEBKGNU5000000CL & 2021-10-04T00:00:00 & 9 & 1 & $\\dots$ \\\\\n",
       "\t15 & Geometry: wkbMultiPolygon & DEBKGNU5000000CM & 2021-10-04T00:00:00 & 9 & 1 & $\\dots$ \\\\\n",
       "\t16 & Geometry: wkbPolygon & DEBKGNU5000000CN & 2021-10-04T00:00:00 & 9 & 1 & $\\dots$ \\\\\n",
       "\\end{tabular}\n"
      ],
      "text/plain": [
       "\u001b[1m16×7 DataFrame\u001b[0m\n",
       "\u001b[1m Row \u001b[0m│\u001b[1m                           \u001b[0m\u001b[1m OBJID            \u001b[0m\u001b[1m BEGINN              \u001b[0m\u001b[1m GF   \u001b[0m ⋯\n",
       "     │\u001b[90m IGeometry                 \u001b[0m\u001b[90m String           \u001b[0m\u001b[90m DateTime            \u001b[0m\u001b[90m Int32\u001b[0m ⋯\n",
       "─────┼──────────────────────────────────────────────────────────────────────────\n",
       "   1 │ Geometry: wkbMultiPolygon  DEBKGNU5000000C8  2021-10-04T00:00:00      9 ⋯\n",
       "   2 │ Geometry: wkbPolygon       DEBKGNU5000000C9  2021-10-04T00:00:00      9\n",
       "   3 │ Geometry: wkbPolygon       DEBKGNU5000000CA  2021-10-04T00:00:00      9\n",
       "   4 │ Geometry: wkbPolygon       DEBKGNU5000000CB  2021-10-04T00:00:00      9\n",
       "   5 │ Geometry: wkbMultiPolygon  DEBKGNU5000000CC  2021-10-04T00:00:00      9 ⋯\n",
       "   6 │ Geometry: wkbMultiPolygon  DEBKGNU5000000CD  2021-10-04T00:00:00      9\n",
       "   7 │ Geometry: wkbPolygon       DEBKGNU5000000CE  2021-10-04T00:00:00      9\n",
       "   8 │ Geometry: wkbMultiPolygon  DEBKGNU5000000CF  2021-10-04T00:00:00      9\n",
       "   9 │ Geometry: wkbMultiPolygon  DEBKGNU5000000CG  2021-10-04T00:00:00      9 ⋯\n",
       "  10 │ Geometry: wkbPolygon       DEBKGNU5000000CH  2021-10-04T00:00:00      9\n",
       "  11 │ Geometry: wkbPolygon       DEBKGNU5000000CI  2021-10-04T00:00:00      9\n",
       "  12 │ Geometry: wkbPolygon       DEBKGNU5000000CJ  2021-10-04T00:00:00      9\n",
       "  13 │ Geometry: wkbPolygon       DEBKGNU5000000CK  2021-10-04T00:00:00      9 ⋯\n",
       "  14 │ Geometry: wkbPolygon       DEBKGNU5000000CL  2021-10-04T00:00:00      9\n",
       "  15 │ Geometry: wkbMultiPolygon  DEBKGNU5000000CM  2021-10-04T00:00:00      9\n",
       "  16 │ Geometry: wkbPolygon       DEBKGNU5000000CN  2021-10-04T00:00:00      9\n",
       "\u001b[36m                                                               3 columns omitted\u001b[0m"
      ]
     },
     "metadata": {},
     "output_type": "display_data"
    }
   ],
   "source": [
    "borders=loadGermanBorder()"
   ]
  },
  {
   "cell_type": "code",
   "execution_count": 11,
   "metadata": {},
   "outputs": [],
   "source": [
    "ArchGDAL.createcoordtrans(ArchGDAL.importPROJ4(latlon_string), ArchGDAL.importPROJ4(radolan_rw_string)) do transform\n",
    "    for x in eachrow(borders)\n",
    "    ArchGDAL.transform!(x.\"\", transform)\n",
    "    end\n",
    "end"
   ]
  },
  {
   "cell_type": "code",
   "execution_count": 3,
   "metadata": {},
   "outputs": [],
   "source": [
    "#mkdir(\"data\")\n",
    "#cd(\"data\")\n",
    "#run(`wget --force-html -i https://opendata.dwd.de/weather/radar/radolan/yw/`)\n",
    "#cd(\"..\")"
   ]
  },
  {
   "cell_type": "code",
   "execution_count": 7,
   "metadata": {},
   "outputs": [],
   "source": [
    "#for file in readdir(\"data\")\n",
    "#    run(`bunzip2 $(joinpath(\"data\",file))`)\n",
    "#end"
   ]
  },
  {
   "cell_type": "code",
   "execution_count": 12,
   "metadata": {},
   "outputs": [
    {
     "data": {
      "text/plain": [
       "900×900 Matrix{Union{Missing, Float64}}:\n",
       " NaN  NaN  NaN  NaN  NaN  NaN  NaN  NaN  …  NaN  NaN  NaN  NaN  NaN  NaN  NaN\n",
       " NaN  NaN  NaN  NaN  NaN  NaN  NaN  NaN     NaN  NaN  NaN  NaN  NaN  NaN  NaN\n",
       " NaN  NaN  NaN  NaN  NaN  NaN  NaN  NaN     NaN  NaN  NaN  NaN  NaN  NaN  NaN\n",
       " NaN  NaN  NaN  NaN  NaN  NaN  NaN  NaN     NaN  NaN  NaN  NaN  NaN  NaN  NaN\n",
       " NaN  NaN  NaN  NaN  NaN  NaN  NaN  NaN     NaN  NaN  NaN  NaN  NaN  NaN  NaN\n",
       " NaN  NaN  NaN  NaN  NaN  NaN  NaN  NaN  …  NaN  NaN  NaN  NaN  NaN  NaN  NaN\n",
       " NaN  NaN  NaN  NaN  NaN  NaN  NaN  NaN     NaN  NaN  NaN  NaN  NaN  NaN  NaN\n",
       " NaN  NaN  NaN  NaN  NaN  NaN  NaN  NaN     NaN  NaN  NaN  NaN  NaN  NaN  NaN\n",
       " NaN  NaN  NaN  NaN  NaN  NaN  NaN  NaN     NaN  NaN  NaN  NaN  NaN  NaN  NaN\n",
       " NaN  NaN  NaN  NaN  NaN  NaN  NaN  NaN     NaN  NaN  NaN  NaN  NaN  NaN  NaN\n",
       "   ⋮                        ⋮            ⋱              ⋮                 \n",
       " NaN  NaN  NaN  NaN  NaN  NaN  NaN  NaN     NaN  NaN  NaN  NaN  NaN  NaN  NaN\n",
       " NaN  NaN  NaN  NaN  NaN  NaN  NaN  NaN     NaN  NaN  NaN  NaN  NaN  NaN  NaN\n",
       " NaN  NaN  NaN  NaN  NaN  NaN  NaN  NaN     NaN  NaN  NaN  NaN  NaN  NaN  NaN\n",
       " NaN  NaN  NaN  NaN  NaN  NaN  NaN  NaN     NaN  NaN  NaN  NaN  NaN  NaN  NaN\n",
       " NaN  NaN  NaN  NaN  NaN  NaN  NaN  NaN  …  NaN  NaN  NaN  NaN  NaN  NaN  NaN\n",
       " NaN  NaN  NaN  NaN  NaN  NaN  NaN  NaN     NaN  NaN  NaN  NaN  NaN  NaN  NaN\n",
       " NaN  NaN  NaN  NaN  NaN  NaN  NaN  NaN     NaN  NaN  NaN  NaN  NaN  NaN  NaN\n",
       " NaN  NaN  NaN  NaN  NaN  NaN  NaN  NaN     NaN  NaN  NaN  NaN  NaN  NaN  NaN\n",
       " NaN  NaN  NaN  NaN  NaN  NaN  NaN  NaN     NaN  NaN  NaN  NaN  NaN  NaN  NaN"
      ]
     },
     "metadata": {},
     "output_type": "display_data"
    }
   ],
   "source": [
    "rw_data=read_radolan(\"\",\"raa01-rw_10000-2311200950-dwd---bin\")"
   ]
  },
  {
   "cell_type": "code",
   "execution_count": 20,
   "metadata": {},
   "outputs": [
    {
     "data": {
      "text/plain": [
       "Observable(Union{Missing, Float64}[NaN NaN … NaN NaN; NaN NaN … NaN NaN; … ; NaN NaN … NaN NaN; NaN NaN … NaN NaN])\n"
      ]
     },
     "metadata": {},
     "output_type": "display_data"
    }
   ],
   "source": [
    "data_matrix=Observable(rw_data)"
   ]
  },
  {
   "cell_type": "code",
   "execution_count": 40,
   "metadata": {},
   "outputs": [
    {
     "data": {
      "text/plain": [
       "900-element Vector{Float64}:\n",
       " 0.004321373782642578\n",
       " 0.00860017176191757\n",
       " 0.012837224705172217\n",
       " 0.01703333929878037\n",
       " 0.021189299069938092\n",
       " 0.02530586526477026\n",
       " 0.029383777685209667\n",
       " 0.03342375548694973\n",
       " 0.037426497940623665\n",
       " 0.04139268515822508\n",
       " ⋮\n",
       " 0.9965116721541787\n",
       " 0.9969492484953811\n",
       " 0.9973863843973133\n",
       " 0.9978230807457255\n",
       " 0.9982593384236987\n",
       " 0.9986951583116558\n",
       " 0.9991305412873711\n",
       " 0.9995654882259823\n",
       " 1.0"
      ]
     },
     "metadata": {},
     "output_type": "display_data"
    }
   ],
   "source": [
    "log_color=Makie.pseudolog10.(0.01:0.01:9.0)"
   ]
  },
  {
   "cell_type": "code",
   "execution_count": 47,
   "metadata": {},
   "outputs": [
    {
     "data": {
      "text/plain": [
       "Observable(\"Precipitation based on RADOLAN YW \")\n"
      ]
     },
     "metadata": {},
     "output_type": "display_data"
    }
   ],
   "source": [
    "text_obs=Observable(\"Precipitation based on RADOLAN YW \")"
   ]
  },
  {
   "cell_type": "code",
   "execution_count": 61,
   "metadata": {},
   "outputs": [],
   "source": [
    "fig=Figure()\n",
    "Label(fig[1,1],text=text_obs,fontsize=30)\n",
    "ax=Axis(fig[2,1],limits=(-523.4622,376.5378,-4658.645,-3758.645))\n",
    "s=surface!(ax,-523.4622:1:376.5378,-4658.645:1:-3758.645,data_matrix,shading=false,colormap=cgrad([:gray90;cgrad(:deep)[log_color]]),colorrange=(0,5),colorscale=Makie.pseudolog10)\n",
    "pol=poly!(ax,GeoMakie.to_multipoly.(GeoMakie.geo2basic.(borders.\"\")),color=:transparent,strokecolor=:black,strokewidth=1)\n",
    "Colorbar(fig[3,1],s,vertical=false, label=\"mm/5min\")\n",
    "translate!(pol,0,0,100)\n",
    "hidespines!(ax)\n",
    "hidedecorations!(ax)\n",
    "Label(fig[4,1],text=\"Data: © Deutscher Wetterdienst\\nGeodata: © GeoBasis-DE / BKG (2023) \",justification=:left)\n",
    "\n",
    "Makie.resize_to_layout!(fig)\n",
    "\n",
    "fig"
   ]
  },
  {
   "cell_type": "code",
   "execution_count": 30,
   "metadata": {},
   "outputs": [
    {
     "data": {
      "text/plain": [
       "576"
      ]
     },
     "metadata": {},
     "output_type": "display_data"
    }
   ],
   "source": [
    "l=DateTime(2023,11,20,5,40):Minute(5):DateTime(2023,11,22,5,35)\n",
    "q=size(l,1)"
   ]
  },
  {
   "cell_type": "code",
   "execution_count": 62,
   "metadata": {},
   "outputs": [
    {
     "ename": "InterruptException",
     "evalue": "InterruptException:",
     "output_type": "error",
     "traceback": [
      "InterruptException:\n",
      "\n",
      "Stacktrace:\n",
      "  [1] Array\n",
      "    @ ./boot.jl:477 [inlined]\n",
      "  [2] BitArray\n",
      "    @ ./bitarray.jl:37 [inlined]\n",
      "  [3] BitArray\n",
      "    @ ./bitarray.jl:71 [inlined]\n",
      "  [4] similar\n",
      "    @ ./abstractarray.jl:884 [inlined]\n",
      "  [5] similar\n",
      "    @ ./abstractarray.jl:883 [inlined]\n",
      "  [6] similar\n",
      "    @ ./broadcast.jl:214 [inlined]\n",
      "  [7] similar\n",
      "    @ ./broadcast.jl:211 [inlined]\n",
      "  [8] copy\n",
      "    @ ./broadcast.jl:898 [inlined]\n",
      "  [9] materialize\n",
      "    @ ./broadcast.jl:873 [inlined]\n",
      " [10] read_array(radolan::RADOLAN, io::SubArray{UInt8, 1, Vector{UInt8}, Tuple{UnitRange{Int64}}, true}, missing_val::Float64)\n",
      "    @ Main ~/Dokumente/30daymapchallenge/read_radolan.jl:173\n",
      " [11] read_radolan_composite\n",
      "    @ ~/Dokumente/30daymapchallenge/read_radolan.jl:187 [inlined]\n",
      " [12] #read_radolan#22\n",
      "    @ ~/Dokumente/30daymapchallenge/read_radolan.jl:193 [inlined]\n",
      " [13] read_radolan\n",
      "    @ ~/Dokumente/30daymapchallenge/read_radolan.jl:192 [inlined]\n",
      " [14] (::var\"#37#38\")(timestep::Int64)\n",
      "    @ Main ~/Dokumente/30daymapchallenge/day21_raster/raster.ipynb:3\n",
      " [15] Record(func::var\"#37#38\", figlike::Figure, iter::UnitRange{Int64}; kw_args::Base.Pairs{Symbol, Any, Tuple{Symbol, Symbol}, NamedTuple{(:format, :framerate), Tuple{SubString{String}, Int64}}})\n",
      "    @ Makie ~/.julia/packages/Makie/RgxaV/src/recording.jl:167\n",
      " [16] record(func::Function, figlike::Figure, path::String, iter::UnitRange{Int64}; kw_args::Base.Pairs{Symbol, Int64, Tuple{Symbol}, NamedTuple{(:framerate,), Tuple{Int64}}})\n",
      "    @ Makie ~/.julia/packages/Makie/RgxaV/src/recording.jl:148\n",
      " [17] top-level scope\n",
      "    @ ~/Dokumente/30daymapchallenge/day21_raster/raster.ipynb:1"
     ]
    }
   ],
   "source": [
    "record(fig, \"precipitation.gif\", 1:q;\n",
    "        framerate = 1) do timestep\n",
    "        data_matrix[]=read_radolan(\"data\",\"raa01-yw_10000-$(Dates.format(l[timestep],\"yymmddHHMM\"))-dwd---bin\")\n",
    "        text_obs[]=\"Precipitation based on RADOLAN YW\\n$(l[timestep])\"\n",
    "        end"
   ]
  },
  {
   "cell_type": "code",
   "execution_count": 63,
   "metadata": {},
   "outputs": [],
   "source": [
    "GC.gc()"
   ]
  },
  {
   "cell_type": "code",
   "execution_count": null,
   "metadata": {},
   "outputs": [],
   "source": []
  }
 ],
 "metadata": {
  "kernelspec": {
   "display_name": "Julia 1.9.3",
   "language": "julia",
   "name": "julia-1.9"
  },
  "language_info": {
   "file_extension": ".jl",
   "mimetype": "application/julia",
   "name": "julia",
   "version": "1.9.3"
  }
 },
 "nbformat": 4,
 "nbformat_minor": 2
}
