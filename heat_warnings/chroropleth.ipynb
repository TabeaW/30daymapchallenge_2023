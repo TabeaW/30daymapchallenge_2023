{
 "cells": [
  {
   "cell_type": "markdown",
   "metadata": {},
   "source": [
    "## Data \n",
    "* Data from https://opendata.dwd.de/climate_environment/health/historical_alerts/heat_warnings/\n",
    "* Geodata from © GeoBasis-DE / BKG, Statistisches Bundesamt (Destatis) (2022)"
   ]
  },
  {
   "cell_type": "code",
   "execution_count": 1,
   "metadata": {},
   "outputs": [],
   "source": [
    "using DataFrames\n",
    "using CSV\n",
    "using GLMakie,GeoMakie"
   ]
  },
  {
   "cell_type": "code",
   "execution_count": 2,
   "metadata": {},
   "outputs": [],
   "source": [
    "import GeoDataFrames"
   ]
  },
  {
   "cell_type": "code",
   "execution_count": 3,
   "metadata": {},
   "outputs": [
    {
     "data": {
      "text/html": [
       "<div><div style = \"float: left;\"><span>1×22 DataFrame</span></div><div style = \"clear: both;\"></div></div><div class = \"data-frame\" style = \"overflow-x: scroll;\"><table class = \"data-frame\" style = \"margin-bottom: 6px;\"><thead><tr class = \"header\"><th class = \"rowNumber\" style = \"font-weight: bold; text-align: right;\">Row</th><th style = \"text-align: left;\">geometry</th><th style = \"text-align: left;\">OBJECTID</th><th style = \"text-align: left;\">OBJID</th><th style = \"text-align: left;\">BEGINN</th><th style = \"text-align: left;\">AGS</th><th style = \"text-align: left;\">GEN</th><th style = \"text-align: left;\">BEZ</th><th style = \"text-align: left;\">IBZ</th><th style = \"text-align: left;\">BEM</th><th style = \"text-align: left;\">SN_L</th><th style = \"text-align: left;\">SN_R</th><th style = \"text-align: left;\">SN_K</th><th style = \"text-align: left;\">SN_V1</th><th style = \"text-align: left;\">SN_V2</th><th style = \"text-align: left;\">SN_G</th><th style = \"text-align: left;\">FK_S3</th><th style = \"text-align: left;\">NUTS</th><th style = \"text-align: left;\">WSK</th><th style = \"text-align: left;\">EWZ</th><th style = \"text-align: left;\">KFL</th><th style = \"text-align: left;\">SHAPE_Length</th><th style = \"text-align: left;\">SHAPE_Area</th></tr><tr class = \"subheader headerLastRow\"><th class = \"rowNumber\" style = \"font-weight: bold; text-align: right;\"></th><th title = \"ArchGDAL.IGeometry{ArchGDAL.wkbMultiPolygon}\" style = \"text-align: left;\">IGeometr…</th><th title = \"Int32\" style = \"text-align: left;\">Int32</th><th title = \"String\" style = \"text-align: left;\">String</th><th title = \"Dates.DateTime\" style = \"text-align: left;\">DateTime</th><th title = \"String\" style = \"text-align: left;\">String</th><th title = \"String\" style = \"text-align: left;\">String</th><th title = \"String\" style = \"text-align: left;\">String</th><th title = \"Int32\" style = \"text-align: left;\">Int32</th><th title = \"String\" style = \"text-align: left;\">String</th><th title = \"String\" style = \"text-align: left;\">String</th><th title = \"String\" style = \"text-align: left;\">String</th><th title = \"String\" style = \"text-align: left;\">String</th><th title = \"String\" style = \"text-align: left;\">String</th><th title = \"String\" style = \"text-align: left;\">String</th><th title = \"String\" style = \"text-align: left;\">String</th><th title = \"String\" style = \"text-align: left;\">String</th><th title = \"String\" style = \"text-align: left;\">String</th><th title = \"Dates.DateTime\" style = \"text-align: left;\">DateTime</th><th title = \"Int32\" style = \"text-align: left;\">Int32</th><th title = \"Float64\" style = \"text-align: left;\">Float64</th><th title = \"Float64\" style = \"text-align: left;\">Float64</th><th title = \"Float64\" style = \"text-align: left;\">Float64</th></tr></thead><tbody><tr><td class = \"rowNumber\" style = \"font-weight: bold; text-align: right;\">1</td><td style = \"text-align: left;\">Geometry: wkbMultiPolygon</td><td style = \"text-align: right;\">1</td><td style = \"text-align: left;\">DEBKGVG200000C75</td><td style = \"text-align: left;\">2021-12-02T00:00:00</td><td style = \"text-align: left;\">01001</td><td style = \"text-align: left;\">Flensburg</td><td style = \"text-align: left;\">Kreisfreie Stadt</td><td style = \"text-align: right;\">40</td><td style = \"text-align: left;\">--</td><td style = \"text-align: left;\">01</td><td style = \"text-align: left;\">0</td><td style = \"text-align: left;\">01</td><td style = \"text-align: left;\">00</td><td style = \"text-align: left;\">00</td><td style = \"text-align: left;\">000</td><td style = \"text-align: left;\">R</td><td style = \"text-align: left;\">DEF01</td><td style = \"text-align: left;\">2008-01-01T00:00:00</td><td style = \"text-align: right;\">91113</td><td style = \"text-align: right;\">56.73</td><td style = \"text-align: right;\">0.527766</td><td style = \"text-align: right;\">0.00687941</td></tr></tbody></table></div>"
      ],
      "text/latex": [
       "\\begin{tabular}{r|cccccc}\n",
       "\t& geometry & OBJECTID & OBJID & BEGINN & AGS & \\\\\n",
       "\t\\hline\n",
       "\t& IGeometr… & Int32 & String & DateTime & String & \\\\\n",
       "\t\\hline\n",
       "\t1 & Geometry: wkbMultiPolygon & 1 & DEBKGVG200000C75 & 2021-12-02T00:00:00 & 01001 & $\\dots$ \\\\\n",
       "\\end{tabular}\n"
      ],
      "text/plain": [
       "\u001b[1m1×22 DataFrame\u001b[0m\n",
       "\u001b[1m Row \u001b[0m│\u001b[1m geometry                  \u001b[0m\u001b[1m OBJECTID \u001b[0m\u001b[1m OBJID            \u001b[0m\u001b[1m BEGINN          \u001b[0m ⋯\n",
       "     │\u001b[90m IGeometr…                 \u001b[0m\u001b[90m Int32    \u001b[0m\u001b[90m String           \u001b[0m\u001b[90m DateTime        \u001b[0m ⋯\n",
       "─────┼──────────────────────────────────────────────────────────────────────────\n",
       "   1 │ Geometry: wkbMultiPolygon         1  DEBKGVG200000C75  2021-12-02T00:00 ⋯\n",
       "\u001b[36m                                                              19 columns omitted\u001b[0m"
      ]
     },
     "metadata": {},
     "output_type": "display_data"
    }
   ],
   "source": [
    "boundary=GeoDataFrames.read(\"Kreisgrenzen_2021_mit_Einwohnerzahl.geojson\");\n",
    "first(boundary,1)"
   ]
  },
  {
   "cell_type": "code",
   "execution_count": 48,
   "metadata": {},
   "outputs": [],
   "source": [
    "for year ∈ 2008:2023\n",
    "    df = CSV.File(\"heat_warnings/heat_alerts_$year.csv\") |> DataFrame;\n",
    "    heat_alerts=combine(groupby(df, :Name),nrow)\n",
    "    colors=[]\n",
    "    for bound ∈ eachrow(boundary)\n",
    "        t=findfirst(contains.(heat_alerts.Name,bound.GEN))\n",
    "        if isnothing(t)\n",
    "            push!(colors,0)\n",
    "        else\n",
    "        push!(colors,heat_alerts[t,:nrow])\n",
    "        end\n",
    "    end\n",
    "    f=Figure()\n",
    "ax=GeoAxis(f[1,1], latlims=(46.9,55.1),lonlims=(5.5,15.5))\n",
    "p=poly!(ax,GeoMakie.geo2basic.(boundary.geometry),color=colors, strokewidth=0.1, strokecolor=:black,colormap=:lajolla, colorrange=(1,25),highclip=:yellow)\n",
    "Colorbar(f[1,2],p,label=\"Heat alerts per county in year $(year)\")\n",
    "hidedecorations!(ax)\n",
    "hidespines!(ax)\n",
    "save(\"heat_alerts_sum_ldk_$(year).png\",f)\n",
    "end"
   ]
  },
  {
   "cell_type": "code",
   "execution_count": null,
   "metadata": {},
   "outputs": [],
   "source": []
  }
 ],
 "metadata": {
  "kernelspec": {
   "display_name": "Julia 1.9.3",
   "language": "julia",
   "name": "julia-1.9"
  },
  "language_info": {
   "file_extension": ".jl",
   "mimetype": "application/julia",
   "name": "julia",
   "version": "1.9.3"
  },
  "orig_nbformat": 4
 },
 "nbformat": 4,
 "nbformat_minor": 2
}
