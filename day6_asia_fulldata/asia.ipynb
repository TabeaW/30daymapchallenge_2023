{
 "cells": [
  {
   "cell_type": "markdown",
   "metadata": {},
   "source": [
    "* Data from https://opendata.dwd.de/climate_environment/GPCC/html/fulldata-monthly_v2022_doi_download.html"
   ]
  },
  {
   "cell_type": "code",
   "execution_count": 2,
   "metadata": {},
   "outputs": [],
   "source": [
    "using YAXArrays,NetCDF"
   ]
  },
  {
   "cell_type": "code",
   "execution_count": 24,
   "metadata": {},
   "outputs": [
    {
     "data": {
      "text/plain": [
       "144×72×120 YAXArray{Union{Missing, Float32},3}\u001b[90m with dimensions: \u001b[39m\n",
       "  \u001b[31mDim{\u001b[39m\u001b[33m:lon\u001b[39m\u001b[31m}\u001b[39m Sampled{Float64} \u001b[36m-178.75:2.5:178.75\u001b[39m ForwardOrdered Regular Points,\n",
       "  \u001b[31mDim{\u001b[39m\u001b[33m:lat\u001b[39m\u001b[31m}\u001b[39m Sampled{Float64} \u001b[36m88.75:-2.5:-88.75\u001b[39m ReverseOrdered Regular Points,\n",
       "  \u001b[31mTi\u001b[39m Sampled{DateTime} \u001b[36mDateTime[2011-01-01T00:00:00, …, 2020-12-01T00:00:00]\u001b[39m ForwardOrdered Irregular Points\n",
       "units: mm/month\n",
       "name: precip\n",
       "Total size: 4.75 MB\n"
      ]
     },
     "metadata": {},
     "output_type": "display_data"
    }
   ],
   "source": [
    "dataset=open_dataset(\"full_data_monthly_v2022_2011_2020_25.nc\",driver=:netcdf)[\"precip\"]"
   ]
  },
  {
   "cell_type": "code",
   "execution_count": 74,
   "metadata": {},
   "outputs": [],
   "source": [
    "using Statistics"
   ]
  },
  {
   "cell_type": "code",
   "execution_count": 125,
   "metadata": {},
   "outputs": [
    {
     "data": {
      "text/plain": [
       "144×72 YAXArray{Union{Missing, Float32},2}\u001b[90m with dimensions: \u001b[39m\n",
       "  \u001b[31mDim{\u001b[39m\u001b[33m:lon\u001b[39m\u001b[31m}\u001b[39m Sampled{Float64} \u001b[36m-178.75:2.5:178.75\u001b[39m ForwardOrdered Regular Points,\n",
       "  \u001b[31mDim{\u001b[39m\u001b[33m:lat\u001b[39m\u001b[31m}\u001b[39m Sampled{Float64} \u001b[36m88.75:-2.5:-88.75\u001b[39m ReverseOrdered Regular Points\n",
       "Total size: 40.5 KB\n"
      ]
     },
     "metadata": {},
     "output_type": "display_data"
    }
   ],
   "source": [
    "max_val=mapslices(maximum∘skipmissing,dataset;dims=\"Ti\")\n",
    "mean_val=mapslices(mean∘skipmissing,dataset;dims=\"Ti\")\n",
    "std_val=mapslices(std∘skipmissing,dataset;dims=\"Ti\")"
   ]
  },
  {
   "cell_type": "code",
   "execution_count": 34,
   "metadata": {},
   "outputs": [],
   "source": [
    "using GLMakie, GeoMakie"
   ]
  },
  {
   "cell_type": "code",
   "execution_count": 55,
   "metadata": {},
   "outputs": [],
   "source": [
    "using DimensionalData"
   ]
  },
  {
   "cell_type": "code",
   "execution_count": 60,
   "metadata": {},
   "outputs": [
    {
     "data": {
      "text/plain": [
       "Sampled{Float64} ReverseOrdered Regular Points\n",
       "\u001b[90mwrapping: \u001b[39m88.75:-2.5:-88.75"
      ]
     },
     "metadata": {},
     "output_type": "display_data"
    }
   ],
   "source": [
    "lats=lookup(max_val,:lat)"
   ]
  },
  {
   "cell_type": "code",
   "execution_count": 61,
   "metadata": {},
   "outputs": [
    {
     "data": {
      "text/plain": [
       "Sampled{Float64} ForwardOrdered Regular Points\n",
       "\u001b[90mwrapping: \u001b[39m-178.75:2.5:178.75"
      ]
     },
     "metadata": {},
     "output_type": "display_data"
    }
   ],
   "source": [
    "lons=lookup(max_val,:lon)"
   ]
  },
  {
   "cell_type": "code",
   "execution_count": 93,
   "metadata": {},
   "outputs": [],
   "source": [
    "using GeoJSON"
   ]
  },
  {
   "cell_type": "code",
   "execution_count": 94,
   "metadata": {},
   "outputs": [
    {
     "data": {
      "text/plain": [
       "FeatureCollection with 177 Features"
      ]
     },
     "metadata": {},
     "output_type": "display_data"
    }
   ],
   "source": [
    "worldCountries = GeoJSON.read(\"../ne_110m_admin_0_countries.geojson\")"
   ]
  },
  {
   "cell_type": "code",
   "execution_count": 108,
   "metadata": {},
   "outputs": [
    {
     "data": {
      "text/plain": [
       "144×72 Matrix{Union{Missing, Float32}}:\n",
       " missing  missing  missing  missing  …  missing  missing  missing  missing\n",
       " missing  missing  missing  missing     missing  missing  missing  missing\n",
       " missing  missing  missing  missing     missing  missing  missing  missing\n",
       " missing  missing  missing  missing     missing  missing  missing  missing\n",
       " missing  missing  missing  missing     missing  missing  missing  missing\n",
       " missing  missing  missing  missing  …  missing  missing  missing  missing\n",
       " missing  missing  missing  missing     missing  missing  missing  missing\n",
       " missing  missing  missing  missing     missing  missing  missing  missing\n",
       " missing  missing  missing  missing     missing  missing  missing  missing\n",
       " missing  missing  missing  missing     missing  missing  missing  missing\n",
       " ⋮                                   ⋱                    ⋮        \n",
       " missing  missing  missing  missing  …  missing  missing  missing  missing\n",
       " missing  missing  missing  missing     missing  missing  missing  missing\n",
       " missing  missing  missing  missing     missing  missing  missing  missing\n",
       " missing  missing  missing  missing     missing  missing  missing  missing\n",
       " missing  missing  missing  missing     missing  missing  missing  missing\n",
       " missing  missing  missing  missing  …  missing  missing  missing  missing\n",
       " missing  missing  missing  missing     missing  missing  missing  missing\n",
       " missing  missing  missing  missing     missing  missing  missing  missing\n",
       " missing  missing  missing  missing     missing  missing  missing  missing"
      ]
     },
     "metadata": {},
     "output_type": "display_data"
    }
   ],
   "source": [
    "max_val.data[:,:]"
   ]
  },
  {
   "cell_type": "code",
   "execution_count": 155,
   "metadata": {},
   "outputs": [
    {
     "data": {
      "text/plain": [
       "81"
      ]
     },
     "metadata": {},
     "output_type": "display_data"
    }
   ],
   "source": [
    "findfirst(lons.>20)\n"
   ]
  },
  {
   "cell_type": "code",
   "execution_count": 118,
   "metadata": {},
   "outputs": [
    {
     "data": {
      "text/plain": [
       "141"
      ]
     },
     "metadata": {},
     "output_type": "display_data"
    }
   ],
   "source": [
    "findfirst(lons.>170)"
   ]
  },
  {
   "cell_type": "code",
   "execution_count": 114,
   "metadata": {},
   "outputs": [
    {
     "data": {
      "text/plain": [
       "41"
      ]
     },
     "metadata": {},
     "output_type": "display_data"
    }
   ],
   "source": [
    "findfirst(lats.<-10)"
   ]
  },
  {
   "cell_type": "code",
   "execution_count": 115,
   "metadata": {},
   "outputs": [
    {
     "data": {
      "text/plain": [
       "Sampled{Float64} ReverseOrdered Regular Points\n",
       "\u001b[90mwrapping: \u001b[39m88.75:-2.5:-88.75"
      ]
     },
     "metadata": {},
     "output_type": "display_data"
    }
   ],
   "source": [
    "lats[:]"
   ]
  },
  {
   "cell_type": "code",
   "execution_count": 1,
   "metadata": {},
   "outputs": [
    {
     "ename": "UndefVarError",
     "evalue": "UndefVarError: `Figure` not defined",
     "output_type": "error",
     "traceback": [
      "UndefVarError: `Figure` not defined\n",
      "\n",
      "Stacktrace:\n",
      " [1] top-level scope\n",
      "   @ ~/Dokumente/30daymapchallenge/day6_asia_fulldata/asia.ipynb:1"
     ]
    }
   ],
   "source": [
    "fig=Figure(resolution=(800,1000))\n",
    "Label(fig[1,1:2],text=\"Rain in Asia a wide spread from little to a lot\\n based on GPCC Full-Data monthly 2.5° (2011-2020)\",fontsize=30)\n",
    "ax=GeoAxis(fig[2,1],dest=\"+proj=eqearth +lon_0=150 +x_0=0 +y_0=0 +datum=WGS84 +units=m +no_defs +type=crs\",lonlims=(20,180),latlims=(-10,90),title=\"Mean\")\n",
    "mean_s=surface!(ax,lons[81:end],lats[1:41],mean_val[81:end,1:41],colorrange=(0,200),shading=false,colormap=cgrad(:deep,rev=false),highclip=:black)\n",
    "hm1=poly!(\n",
    "    ax, worldCountries;\n",
    "    color= :transparent,\n",
    "    strokecolor = :white,\n",
    "    strokewidth = 0.25)\n",
    "translate!(hm1, 0, 0, 1000)\n",
    "Colorbar(fig[2,2],vertical=true,mean_s,label=\"Mean mm/month\")\n",
    "\n",
    "\n",
    "ax=GeoAxis(fig[3,1],dest=\"+proj=eqearth +lon_0=150 +x_0=0 +y_0=0 +datum=WGS84 +units=m +no_defs +type=crs\",lonlims=(20,180),latlims=(-10,90),title=\"Maximum\")\n",
    "max_s=surface!(ax,lons[81:end],lats[1:41],max_val[81:end, 1:41],colorrange=(0,1000),shading=false,colormap=cgrad(:deep,rev=false),highclip=:black)\n",
    "hm1=poly!(\n",
    "    ax, worldCountries;\n",
    "    color= :transparent,\n",
    "    strokecolor = :white,\n",
    "    strokewidth = 0.25)\n",
    "translate!(hm1, 0, 0, 1000)\n",
    "Colorbar(fig[3,2],vertical=true,max_s,label=\"Maximum mm/month\")\n",
    "\n",
    "ax=GeoAxis(fig[4,1],dest=\"+proj=eqearth +lon_0=150 +x_0=0 +y_0=0 +datum=WGS84 +units=m +no_defs +type=crs\",lonlims=(20,180),latlims=(-10,90),title=\"Standard deviation\")\n",
    "std_s=surface!(ax,lons[81:end],lats[1:41],std_val[81:end, 1:41],colorrange=(0,100),shading=false,colormap=cgrad(:fire,rev=false),highclip=:white)\n",
    "Colorbar(fig[4,2],vertical=true,std_s,label=\"Std mm/month\")\n",
    "hm1=poly!(\n",
    "    ax, worldCountries;\n",
    "    color= :transparent,\n",
    "    strokecolor = :white,\n",
    "    strokewidth = 0.25)\n",
    "translate!(hm1, 0, 0, 1000)\n",
    "Label(fig[5,1:2],text=\"Data: © Deutscher Wetterdienst\\nMade with Natural Earth\",justification=:left)\n",
    "Makie.resize_to_layout!(fig)\n",
    "fig"
   ]
  },
  {
   "cell_type": "code",
   "execution_count": 208,
   "metadata": {},
   "outputs": [],
   "source": [
    "save(\"asia_noshading.png\",fig)"
   ]
  },
  {
   "cell_type": "code",
   "execution_count": 198,
   "metadata": {},
   "outputs": [
    {
     "data": {
      "text/plain": [
       "(:data, :pixel, :relative, :clip)"
      ]
     },
     "metadata": {},
     "output_type": "display_data"
    }
   ],
   "source": [
    "Makie.spaces()"
   ]
  },
  {
   "cell_type": "code",
   "execution_count": null,
   "metadata": {},
   "outputs": [],
   "source": []
  }
 ],
 "metadata": {
  "kernelspec": {
   "display_name": "Julia 1.9.3",
   "language": "julia",
   "name": "julia-1.9"
  },
  "language_info": {
   "file_extension": ".jl",
   "mimetype": "application/julia",
   "name": "julia",
   "version": "1.9.3"
  }
 },
 "nbformat": 4,
 "nbformat_minor": 2
}
