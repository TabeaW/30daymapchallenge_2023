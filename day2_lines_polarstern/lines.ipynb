{
 "cells": [
  {
   "cell_type": "markdown",
   "metadata": {},
   "source": [
    "* Data from https://opendata.dwd.de/climate_environment/CDC/observations_global/ocean/OceanRAIN/V002/OceanRAIN-W_RV-Polarstern_DBLK_JUN2010-DEC2018_DWD-MPIM_V2_0.nc\n",
    "* GeoData from https://github.com/nvkelso/natural-earth-vector/blob/master/geojson/ne_110m_admin_0_countries.geojson"
   ]
  },
  {
   "cell_type": "code",
   "execution_count": 1,
   "metadata": {},
   "outputs": [],
   "source": [
    "using Dates"
   ]
  },
  {
   "cell_type": "code",
   "execution_count": 2,
   "metadata": {},
   "outputs": [],
   "source": [
    "using YAXArrays,NetCDF"
   ]
  },
  {
   "cell_type": "code",
   "execution_count": 9,
   "metadata": {},
   "outputs": [
    {
     "data": {
      "text/plain": [
       "YAXArray Dataset\n",
       "Shared Axes: \n",
       "\u001b[31mDim{\u001b[39m\u001b[33m:time\u001b[39m\u001b[31m}\u001b[39m Sampled{Int32} \u001b[36mInt32[0, 1, …, 4502878, 4502879]\u001b[39m ForwardOrdered Irregular Points\n",
       "Variables: \n",
       "probability_for_rain, true_wind_speed, Ka-band_specific_oneway_attenuation, relative_humidity, theoretical_rain_rate_disdrometer, unix_epoch, Ka_band_specific_differential_phase, W2_past_weather_code, time_UT, max_gusts, S_band_reflectivity, local_time, S_band_differential_reflectivity, evaporation, Ku_band_reflectivity, C_band_differential_reflectivity, Ku_band_specific_differential_phase, bulkwater_temperature, reference_voltage, latitude, longitude, precip_flag2, relative_wind_speed_ODM470, air_pressure, Ka_band_differential_reflectivity, precip_flag, probability_for_mixed_phase, specific_humidity_at_sea_surface, theoretical_snow_rate_disdrometer, intercept_of_normalized_gamma, sensible_heat_flux_shf, particle_diameter_99th_percentile, count, dBZ, julian_date, global_radiation, mass_spectrum_standard_deviation, latent_heat_flux_lhf, convective_stratiform_index, Ku-band_specific_oneway_attenuation, minute_of_day, Ku_band_differential_reflectivity, freshwater_budget, median_volume_diameter_of_normalized_gamma, visibility, ODM470_precipitation_rate_R, ww_present_weather_code, shf_transfer_coeff, C_band_specific_differential_phase, true_wind_direction, lhf_transfer_coeff, wind_speed_in_10m_height, mass_weighted_mean_diameter_of_normalized_gamma, rain_gauge_precipitation_rate, Ka_band_reflectivity, shape_parameter_of_normalized_gamma, heading, dew_point_temperature, salinity, rayleigh_reflectivity_Z, relative_wind_speed, air_temperature, intercept_parameter_of_a_standard_gamma, C_band_reflectivity, dBR, warm_layer_flag, S-band_specific_oneway_attenuation, number_of_particles, specific_air_humidity, ceiling, date_UT, drag_transfer_coeff, probability_for_snow, sea_surface_temperature, local_date, relative_wind_direction, W1_past_weather_code, C-band_specific_oneway_attenuation, S_band_specific_differential_phase, number_of_bins, \n",
       "Properties: Dict{String, Any}(\"date_created\" => \"2020-06-17\", \"geospatial_lon_units\" => \"degrees_east\", \"summary\" => \"This dataset contains the temporally continuous along-track shipboard water cycle components of the Ocean Rainfall And Ice-phase precipitation measurement Network - OceanRAIN-W version 2.0 for RV-Polarstern_DBLK in minute-resolution\", \"creator_email\" => \"mail@christianklepp.com\", \"references\" => \"https://www.nature.com/articles/sdata2018122.pdf, DOI:10.1038/sdata.2018.122\", \"geospatial_lat_min\" => \"-90.\", \"dataset_version\" => \"2.0\", \"time_coverage_end\" => \"2018-12-31 23:59:00\", \"creator_url\" => \"https://www.christianklepp.com/\", \"time_coverage_start\" => \"2010-06-10 00:00:00\"…)\n"
      ]
     },
     "metadata": {},
     "output_type": "display_data"
    }
   ],
   "source": [
    "dataset=open_dataset(\"OceanRAIN-W_RV-Polarstern_DBLK_JUN2010-DEC2018_DWD-MPIM_V2_0.nc\",driver=:netcdf)"
   ]
  },
  {
   "cell_type": "code",
   "execution_count": 10,
   "metadata": {},
   "outputs": [
    {
     "data": {
      "text/plain": [
       "4400527-element Vector{Float64}:\n",
       " -99.9\n",
       " -99.9\n",
       " -99.9\n",
       " -99.9\n",
       " -99.9\n",
       " -99.9\n",
       " -99.9\n",
       " -99.9\n",
       " -99.9\n",
       " -99.9\n",
       "   ⋮\n",
       "  -0.7\n",
       " -99.9\n",
       " -99.9\n",
       " -99.9\n",
       " -99.9\n",
       " -99.9\n",
       " -99.9\n",
       " -99.9\n",
       " -99.9"
      ]
     },
     "metadata": {},
     "output_type": "display_data"
    }
   ],
   "source": [
    "lat=dataset[\"latitude\"].data[:]\n",
    "lon=dataset[\"longitude\"].data[:]\n",
    "salinity=dataset[\"salinity\"].data[:]\n",
    "sea_surface_temperature=dataset[\"sea_surface_temperature\"].data[:]"
   ]
  },
  {
   "cell_type": "code",
   "execution_count": 11,
   "metadata": {},
   "outputs": [
    {
     "data": {
      "text/plain": [
       "443535-element view(::Vector{Float64}, [62414, 62415, 62416, 62417, 62418, 271234, 271235, 271236, 271237, 271238  …  3238359, 3238361, 3238362, 3238363, 3238364, 3238366, 3238367, 3238368, 3238369, 3238370]) with eltype Float64:\n",
       " NaN\n",
       " NaN\n",
       " NaN\n",
       " NaN\n",
       " NaN\n",
       " NaN\n",
       " NaN\n",
       " NaN\n",
       " NaN\n",
       " NaN\n",
       "   ⋮\n",
       " NaN\n",
       " NaN\n",
       " NaN\n",
       " NaN\n",
       " NaN\n",
       " NaN\n",
       " NaN\n",
       " NaN\n",
       " NaN"
      ]
     },
     "metadata": {},
     "output_type": "display_data"
    }
   ],
   "source": [
    "lon[lon.==-999.9999].=NaN\n",
    "lat[lat.==-99.9999].=NaN\n",
    "salinity[salinity.==-99.99].=NaN\n",
    "sea_surface_temperature[sea_surface_temperature.==-99.9].=NaN\n",
    "salinity[salinity.==99.99].=NaN"
   ]
  },
  {
   "cell_type": "code",
   "execution_count": 6,
   "metadata": {},
   "outputs": [],
   "source": [
    "using GLMakie,GeoMakie\n"
   ]
  },
  {
   "cell_type": "code",
   "execution_count": 12,
   "metadata": {},
   "outputs": [
    {
     "data": {
      "text/plain": [
       "361×181 Matrix{Int64}:\n",
       " 1  1  1  1  1  1  1  1  1  1  1  1  1  …  1  1  1  1  1  1  1  1  1  1  1  1\n",
       " 1  1  1  1  1  1  1  1  1  1  1  1  1     1  1  1  1  1  1  1  1  1  1  1  1\n",
       " 1  1  1  1  1  1  1  1  1  1  1  1  1     1  1  1  1  1  1  1  1  1  1  1  1\n",
       " 1  1  1  1  1  1  1  1  1  1  1  1  1     1  1  1  1  1  1  1  1  1  1  1  1\n",
       " 1  1  1  1  1  1  1  1  1  1  1  1  1     1  1  1  1  1  1  1  1  1  1  1  1\n",
       " 1  1  1  1  1  1  1  1  1  1  1  1  1  …  1  1  1  1  1  1  1  1  1  1  1  1\n",
       " 1  1  1  1  1  1  1  1  1  1  1  1  1     1  1  1  1  1  1  1  1  1  1  1  1\n",
       " 1  1  1  1  1  1  1  1  1  1  1  1  1     1  1  1  1  1  1  1  1  1  1  1  1\n",
       " 1  1  1  1  1  1  1  1  1  1  1  1  1     1  1  1  1  1  1  1  1  1  1  1  1\n",
       " 1  1  1  1  1  1  1  1  1  1  1  1  1     1  1  1  1  1  1  1  1  1  1  1  1\n",
       " ⋮              ⋮              ⋮        ⋱     ⋮              ⋮              ⋮\n",
       " 1  1  1  1  1  1  1  1  1  1  1  1  1     1  1  1  1  1  1  1  1  1  1  1  1\n",
       " 1  1  1  1  1  1  1  1  1  1  1  1  1     1  1  1  1  1  1  1  1  1  1  1  1\n",
       " 1  1  1  1  1  1  1  1  1  1  1  1  1     1  1  1  1  1  1  1  1  1  1  1  1\n",
       " 1  1  1  1  1  1  1  1  1  1  1  1  1  …  1  1  1  1  1  1  1  1  1  1  1  1\n",
       " 1  1  1  1  1  1  1  1  1  1  1  1  1     1  1  1  1  1  1  1  1  1  1  1  1\n",
       " 1  1  1  1  1  1  1  1  1  1  1  1  1     1  1  1  1  1  1  1  1  1  1  1  1\n",
       " 1  1  1  1  1  1  1  1  1  1  1  1  1     1  1  1  1  1  1  1  1  1  1  1  1\n",
       " 1  1  1  1  1  1  1  1  1  1  1  1  1     1  1  1  1  1  1  1  1  1  1  1  1\n",
       " 1  1  1  1  1  1  1  1  1  1  1  1  1  …  1  1  1  1  1  1  1  1  1  1  1  1"
      ]
     },
     "metadata": {},
     "output_type": "display_data"
    }
   ],
   "source": [
    "lons = -180:180\n",
    "lats = -90:90\n",
    "field = [1 for l in lons, y in lats]"
   ]
  },
  {
   "cell_type": "code",
   "execution_count": 13,
   "metadata": {},
   "outputs": [],
   "source": [
    "using GeoJSON"
   ]
  },
  {
   "cell_type": "code",
   "execution_count": 14,
   "metadata": {},
   "outputs": [
    {
     "data": {
      "text/plain": [
       "FeatureCollection with 177 Features"
      ]
     },
     "metadata": {},
     "output_type": "display_data"
    }
   ],
   "source": [
    "worldCountries = GeoJSON.read(\"../ne_110m_admin_0_countries.geojson\")"
   ]
  },
  {
   "cell_type": "code",
   "execution_count": 31,
   "metadata": {},
   "outputs": [],
   "source": [
    "fig=Figure(backgroundcolor=:gray)\n",
    "Label(fig[1,1:2], text=\"Polarstern route June 2010 - December 2018\\n with sea surface temperature\",fontsize=30)\n",
    "ga1 = GeoAxis(fig[2, 1]; dest = \"+proj=ortho +lon_0=-100 +lat_0=90\", coastlines = false,latlims=(0,90),aspect=1,backgroundcolor=:gray,width=400,height=400)\n",
    "hm1=surface!(ga1,lons,lats,field,colormap=:blues)\n",
    "translate!(hm1, 0, 0, -100)\n",
    "scatter!(ga1,lon,lat,markersize=0.1,color=sea_surface_temperature,colormap=cgrad(:managua,rev=true))\n",
    "hm2 = poly!(\n",
    "    ga1, worldCountries;\n",
    "    color= :gray,\n",
    "    strokecolor = :black,\n",
    "    strokewidth = 0.25\n",
    ")\n",
    "\n",
    "hidespines!(ga1)\n",
    "hidedecorations!(ga1,grid=false)\n",
    "ga1 = GeoAxis(fig[2, 2]; dest = \"+proj=ortho +lon_0=80 +lat_0=-90\", coastlines = false,latlims=(-85,0),aspect=1,backgroundcolor=:gray,width=400,height=400)\n",
    "hm2 = poly!(\n",
    "    ga1, worldCountries;\n",
    "    color= :gray,\n",
    "    strokecolor = :black,\n",
    "    strokewidth = 0.25\n",
    ")\n",
    "hm1=surface!(ga1,lons,lats,field,colormap=:blues)\n",
    "translate!(hm1, 0, 0, -100)\n",
    "p=scatter!(ga1,lon,lat,markersize=0.1,color=sea_surface_temperature,colormap=cgrad(:managua,rev=true))\n",
    "\n",
    "Colorbar(fig[3,1:2],p,size=50, label=\"Sea surface temperature in °C\",vertical=false,labelsize=20)\n",
    "hidespines!(ga1)\n",
    "hidedecorations!(ga1,grid=false)\n",
    "Label(fig[4,1:2],text=\"Data: © Deutscher Wetterdienst\\nMade with Natural Earth\",justification=:left)\n",
    "Makie.resize_to_layout!(fig)\n",
    "fig"
   ]
  },
  {
   "cell_type": "code",
   "execution_count": 32,
   "metadata": {},
   "outputs": [],
   "source": [
    "save(\"polarstern_seasurfacetemperature.png\",fig,pt_per_pixel=2)"
   ]
  }
 ],
 "metadata": {
  "kernelspec": {
   "display_name": "Julia 1.9.3",
   "language": "julia",
   "name": "julia-1.9"
  },
  "language_info": {
   "file_extension": ".jl",
   "mimetype": "application/julia",
   "name": "julia",
   "version": "1.9.3"
  },
  "orig_nbformat": 4
 },
 "nbformat": 4,
 "nbformat_minor": 2
}
