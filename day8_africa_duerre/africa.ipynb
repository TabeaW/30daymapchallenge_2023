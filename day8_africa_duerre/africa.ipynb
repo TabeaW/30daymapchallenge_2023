{
 "cells": [
  {
   "cell_type": "markdown",
   "metadata": {},
   "source": [
    "* Data from https://opendata.dwd.de/climate_environment/GPCC/GPCC_DI/2023/GPCC_DI202307.nc"
   ]
  },
  {
   "cell_type": "code",
   "execution_count": 1,
   "metadata": {},
   "outputs": [],
   "source": [
    "using YAXArrays,NetCDF"
   ]
  },
  {
   "cell_type": "code",
   "execution_count": 3,
   "metadata": {},
   "outputs": [
    {
     "data": {
      "text/plain": [
       "YAXArray Dataset\n",
       "Shared Axes: \n",
       "\u001b[31mDim{\u001b[39m\u001b[33m:lon\u001b[39m\u001b[31m}\u001b[39m Sampled{Float64} \u001b[36m-179.5:1.0:179.5\u001b[39m ForwardOrdered Regular Points,\n",
       "\u001b[31mDim{\u001b[39m\u001b[33m:lat\u001b[39m\u001b[31m}\u001b[39m Sampled{Float64} \u001b[36m-89.5:1.0:89.5\u001b[39m ForwardOrdered Regular Points,\n",
       "\u001b[31mTi\u001b[39m Sampled{Float64} \u001b[36mFloat64[0.0]\u001b[39m ForwardOrdered Irregular Points\n",
       "Variables: \n",
       "di_09, di_03, di_12, di_48, di_01, di_06, di_24, \n",
       "Properties: Dict{String, Any}(\"date_created\" => \"Thu Aug 10 04:18:46 UTC 2023\", \"creator_email\" => \"gpcc@dwd.de\", \"keywords\" => \"gpcc,global,gpcp,monthly,drought index,SPI,SPEI\", \"time_coverage_end\" => \"2023-07\", \"time_coverage_resolution\" => \"month\", \"time_coverage_start\" => \"2023-07\", \"history\" => \"Thu Aug 10 04:18:48 2023: cdo merge /media/x18914/GPCC_DI/TEMP/GPCC_DI_01_Month_202307.nc /media/x18914/GPCC_DI/TEMP/GPCC_DI_03_Month_202307.nc /media/x18914/GPCC_DI/TEMP/GPCC_DI_06_Month_202307.nc /media/x18914/GPCC_DI/TEMP/GPCC_DI_09_Month_202307.nc /media/x18914/GPCC_DI/TEMP/GPCC_DI_12_Month_202307.nc /media/x18914/GPCC_DI/TEMP/GPCC_DI_24_Month_202307.nc /media/x18914/GPCC_DI/TEMP/GPCC_DI_48_Month_202307.nc /media/x18914/GPCC_DI/TEMP/GPCC_DI_202307.nc\\nThu Aug 10 04:18:47 2023: cdo -setgatts,/media/x18913/PRODUCTS/GPCC_DI/gattfile /media/x18914/GPCC_DI/TEMP/temp_48.nc /media/x18914/GPCC_DI/TEMP/GPCC_DI_48_Month_202307.nc\\nThu Aug 10 04:18:47 2023: cdo -b 32 -r -f nc -setgrid,/media/x18913/PRODUCTS/GPCC_DI/griddescript.txt -setmissval,-99999.99 -settunits,month -invertlatdata -setpartab,/media/x18913/PRODUCTS/GPCC_DI/codetable.txt -setcode,48 -setname,di_48 -setdate,2023-07-01 -input,r360x180 /media/x18914/GPCC_DI/TEMP/temp_48.nc\", \"CDO\" => \"Climate Data Operators version 1.7.0 (http://mpimet.mpg.de/cdo)\", \"id\" => \"GPCC_drought_index\", \"CDI\" => \"Climate Data Interface version 1.7.0 (http://mpimet.mpg.de/cdi)\"…)\n"
      ]
     },
     "metadata": {},
     "output_type": "display_data"
    }
   ],
   "source": [
    "dataset=open_dataset(\"GPCC_DI_202307.nc\",driver=:netcdf)"
   ]
  },
  {
   "cell_type": "code",
   "execution_count": 4,
   "metadata": {},
   "outputs": [
    {
     "data": {
      "text/plain": [
       "360×180×1 YAXArray{Union{Missing, Float32},3}\u001b[90m with dimensions: \u001b[39m\n",
       "  \u001b[31mDim{\u001b[39m\u001b[33m:lon\u001b[39m\u001b[31m}\u001b[39m Sampled{Float64} \u001b[36m-179.5:1.0:179.5\u001b[39m ForwardOrdered Regular Points,\n",
       "  \u001b[31mDim{\u001b[39m\u001b[33m:lat\u001b[39m\u001b[31m}\u001b[39m Sampled{Float64} \u001b[36m-89.5:1.0:89.5\u001b[39m ForwardOrdered Regular Points,\n",
       "  \u001b[31mTi\u001b[39m Sampled{Float64} \u001b[36mFloat64[0.0]\u001b[39m ForwardOrdered Irregular Points\n",
       "name: di_48\n",
       "Total size: 253.12 KB\n"
      ]
     },
     "metadata": {},
     "output_type": "display_data"
    }
   ],
   "source": [
    "month_1=dataset[\"di_01\"]\n",
    "month_48=dataset[\"di_48\"]"
   ]
  },
  {
   "cell_type": "code",
   "execution_count": 5,
   "metadata": {},
   "outputs": [
    {
     "data": {
      "text/plain": [
       "FeatureCollection with 177 Features"
      ]
     },
     "metadata": {},
     "output_type": "display_data"
    }
   ],
   "source": [
    "using GeoJSON\n",
    "worldCountries = GeoJSON.read(\"../ne_110m_admin_0_countries.geojson\")\n"
   ]
  },
  {
   "cell_type": "code",
   "execution_count": 11,
   "metadata": {},
   "outputs": [],
   "source": [
    "using DimensionalData"
   ]
  },
  {
   "cell_type": "code",
   "execution_count": 15,
   "metadata": {},
   "outputs": [
    {
     "data": {
      "text/plain": [
       "Sampled{Float64} ForwardOrdered Regular Points\n",
       "\u001b[90mwrapping: \u001b[39m-179.5:1.0:179.5"
      ]
     },
     "metadata": {},
     "output_type": "display_data"
    }
   ],
   "source": [
    "lats=lookup(month_1,:lat)\n",
    "lons=lookup(month_1,:lon)"
   ]
  },
  {
   "cell_type": "code",
   "execution_count": 7,
   "metadata": {},
   "outputs": [],
   "source": [
    "using GLMakie,GeoMakie"
   ]
  },
  {
   "cell_type": "code",
   "execution_count": 32,
   "metadata": {},
   "outputs": [
    {
     "data": {
      "text/plain": [
       "131"
      ]
     },
     "metadata": {},
     "output_type": "display_data"
    }
   ],
   "source": [
    "findfirst(lats.>40)\n"
   ]
  },
  {
   "cell_type": "code",
   "execution_count": 56,
   "metadata": {},
   "outputs": [],
   "source": [
    "fig=Figure(resolution=(1200,1000))\n",
    "Label(fig[1,1],text=\"The July 2023 in numbers, dry or wet?\",fontsize=30)\n",
    "Label(fig[2,1],text=\"Based on GPCC drought index for July 2023\",fontsize=15)\n",
    "ax=GeoAxis(fig[3,1],dest=\"+proj=eqearth +lon_0=35 +x_0=0 +y_0=0 +datum=WGS84 +units=m +no_defs +type=crs\",lonlims=(-20,65),latlims=(-40,40),title=\"Aggregation July 2023\")\n",
    "m_1=surface!(ax,lons[161:246],lats[51:131],month_1.data[161:246,51:131,1],colorrange=(-3.5,3.5),shading=false,colormap=cgrad(:vik,rev=true))\n",
    "hm1=poly!(\n",
    "    ax, worldCountries;\n",
    "    color= :transparent,\n",
    "    strokecolor = :black,\n",
    "    strokewidth = 0.25)\n",
    "translate!(hm1, 0, 0, 1000)\n",
    "Colorbar(fig[3,2],vertical=true,m_1,ticks=(-3:1:3,[\"extremly dry\",\"very dry\",\"dry\",\"normal\",\"wet\",\"very wet\",\"extremly wet\"]))\n",
    "\n",
    "\n",
    "ax=GeoAxis(fig[4,1],dest=\"+proj=eqearth +lon_0=35 +x_0=0 +y_0=0 +datum=WGS84 +units=m +no_defs +type=crs\",lonlims=(-20,65),latlims=(-40,40),title=\"Aggregation last 48 months\")\n",
    "m_48=surface!(ax,lons[161:246],lats[51:131],month_48.data[161:246, 51:131,1],colorrange=(-3.5,3.5),shading=false,colormap=cgrad(:vik,rev=true))\n",
    "hm1=poly!(\n",
    "    ax, worldCountries;\n",
    "    color= :transparent,\n",
    "    strokecolor = :black,\n",
    "    strokewidth = 0.25)\n",
    "translate!(hm1, 0, 0, 1000)\n",
    "Colorbar(fig[4,2],vertical=true,m_48,ticks=(-3:1:3,[\"extremly dry\",\"very dry\",\"dry\",\"normal\",\"wet\",\"very wet\",\"extremly wet\"]))\n",
    "\n",
    "Label(fig[5,1],text=\"Data: © Deutscher Wetterdienst\\nMade with Natural Earth\",justification=:left)\n",
    "Makie.resize_to_layout!(fig)\n",
    "fig"
   ]
  },
  {
   "cell_type": "code",
   "execution_count": 57,
   "metadata": {},
   "outputs": [],
   "source": [
    "save(\"africa.png\",fig)"
   ]
  },
  {
   "cell_type": "code",
   "execution_count": null,
   "metadata": {},
   "outputs": [],
   "source": []
  }
 ],
 "metadata": {
  "kernelspec": {
   "display_name": "Julia 1.9.3",
   "language": "julia",
   "name": "julia-1.9"
  },
  "language_info": {
   "file_extension": ".jl",
   "mimetype": "application/julia",
   "name": "julia",
   "version": "1.9.3"
  }
 },
 "nbformat": 4,
 "nbformat_minor": 2
}
