{
 "cells": [
  {
   "cell_type": "markdown",
   "metadata": {},
   "source": [
    "* GeoDaten https://gdz.bkg.bund.de/index.php/default/digitale-geodaten/verwaltungsgebiete/nuts-gebiete-1-5-000-000-stand-31-12-nuts5000-31-12.html"
   ]
  },
  {
   "cell_type": "code",
   "execution_count": null,
   "metadata": {},
   "outputs": [],
   "source": [
    "#run(`wget --force-html -i https://opendata.dwd.de/climate_environment/CDC/derived_germany/techn/daily/bad_weather_days/recent/`)"
   ]
  },
  {
   "cell_type": "code",
   "execution_count": 67,
   "metadata": {},
   "outputs": [],
   "source": [
    "using DataFrames, CSV,Statistics"
   ]
  },
  {
   "cell_type": "code",
   "execution_count": null,
   "metadata": {},
   "outputs": [],
   "source": [
    "stations=CSV.File(\"data/stationslexikon.csv\")|>DataFrame"
   ]
  },
  {
   "cell_type": "code",
   "execution_count": 83,
   "metadata": {},
   "outputs": [],
   "source": [
    "df_count=DataFrame(count=Int64[],laenge=Float64[],breite=Float64[])\n",
    "for file in readdir(\"data/\")\n",
    "    if !startswith(file,\"swt_daten\")\n",
    "        continue\n",
    "    end\n",
    "\n",
    "    df=CSV.File(joinpath(\"data\",file),delim=';')|>DataFrame;\n",
    "    if size(df,1)==0\n",
    "        continue\n",
    "    end\n",
    "    bad_days=size(df[(df.\"SWT-Behinderungsstufe\".==\"A\").| (df.\"SWT-Behinderungsstufe\".==\"B\"),:],1)\n",
    "    \n",
    "    station_place=stations[stations.Stations_ID.==df.STATIONS_ID[1],:]\n",
    "    \n",
    "    laenge=mean(station_place.Länge)\n",
    "    breite=mean(station_place.Breite)\n",
    "    df_count=vcat(df_count,DataFrame(count=bad_days,laenge=laenge,breite=breite))\n",
    "end\n"
   ]
  },
  {
   "cell_type": "code",
   "execution_count": 22,
   "metadata": {},
   "outputs": [],
   "source": [
    "using GeoMakie, GLMakie"
   ]
  },
  {
   "cell_type": "code",
   "execution_count": 27,
   "metadata": {},
   "outputs": [],
   "source": [
    "using ArchGDAL"
   ]
  },
  {
   "cell_type": "code",
   "execution_count": 33,
   "metadata": {},
   "outputs": [
    {
     "data": {
      "text/plain": [
       "Layer: NUTS5000_N1\n",
       "  Geometry 0 (): [wkbPolygon], MULTIPOLYGON (((3477...), ...\n",
       "     Field 0 (OBJID): [OFTString], DEBKGNU5000000C8, DEBKGNU5000000C9, ...\n",
       "     Field 1 (BEGINN): [OFTDate], 2021-10-04T00:00:00, 2021-10-04T00:00:00, ...\n",
       "     Field 2 (GF): [OFTInteger], 9, 9, 9, 9, 9, 9, 9, 9, 9, 9, 9, 9, 9, 9, ...\n",
       "     Field 3 (NUTS_LEVEL): [OFTInteger], 1, 1, 1, 1, 1, 1, 1, 1, 1, 1, 1, 1, ...\n",
       "     Field 4 (NUTS_CODE): [OFTString], DE1, DE2, DE3, DE4, DE5, DE6, DE7, ...\n",
       "...\n",
       " Number of Fields: 6"
      ]
     },
     "metadata": {},
     "output_type": "display_data"
    }
   ],
   "source": [
    "layer=ArchGDAL.getlayer(ArchGDAL.read(\"../nuts5000_12-31.gk3.shape/nuts5000/NUTS5000_N1.shp\"),0)"
   ]
  },
  {
   "cell_type": "code",
   "execution_count": 50,
   "metadata": {},
   "outputs": [],
   "source": [
    "bounds=DataFrame(layer);"
   ]
  },
  {
   "cell_type": "code",
   "execution_count": 51,
   "metadata": {},
   "outputs": [],
   "source": [
    "ArchGDAL.createcoordtrans(ArchGDAL.importURL(\"https://sg.geodatenzentrum.de/web_public/gdz/dokumentation/crs/gk3.prj\"), ArchGDAL.importPROJ4(\"+proj=longlat +datum=WGS84 +no_defs +type=crs\")) do transform\n",
    "    for x in eachrow(bounds)\n",
    "    ArchGDAL.transform!(x.\"\", transform)\n",
    "    end\n",
    "end"
   ]
  },
  {
   "cell_type": "code",
   "execution_count": 118,
   "metadata": {},
   "outputs": [],
   "source": [
    "fig=Figure()\n",
    "q=GridLayout(fig[1,1])\n",
    "Label(q[1,1],text=\"Bad weather is not your best friend?\", fontsize=30)\n",
    "Label(q[2,1],text=\"Based on the bad weather-days in construction 2022-now\")\n",
    "ax=GeoAxis(fig[2,1],latlims=(46.9,55.1),lonlims=(5.5,15.5))\n",
    "voronoiplot!(ax, df_count.laenge,df_count.breite,df_count.count,showgenerators=false,markersize=0,colormap=cgrad(:rainbow,alpha=0.4),colorrange=(0,60),highclip=:red)\n",
    "s=scatter!(ax,df_count.laenge,df_count.breite,color=df_count.count,colormap=:rainbow, colorrange=(0,60),highclip=:red,markersize=10,marker='😄',strokecolor=:black)\n",
    "poly!(ax,GeoMakie.to_multipoly.(GeoMakie.geo2basic.(bounds.\"\")),color=:transparent,strokecolor=:black,strokewidth=4)\n",
    "Colorbar(fig[2,2],s,vertical=true,label=\"Number of bad weather days with at least disability level difficult\")\n",
    "hidespines!(ax)\n",
    "hidedecorations!(ax)\n",
    "Label(fig[3,1],text=\"Data: © Deutscher Wetterdienst\\nGeodata: © GeoBasis-DE / BKG (2023) \",justification=:left)\n",
    "\n",
    "fig"
   ]
  },
  {
   "cell_type": "code",
   "execution_count": 119,
   "metadata": {},
   "outputs": [],
   "source": [
    "save(\"bad.png\",fig,px_per_unit=2)"
   ]
  }
 ],
 "metadata": {
  "kernelspec": {
   "display_name": "Julia 1.9.3",
   "language": "julia",
   "name": "julia-1.9"
  },
  "language_info": {
   "file_extension": ".jl",
   "mimetype": "application/julia",
   "name": "julia",
   "version": "1.9.3"
  },
  "orig_nbformat": 4
 },
 "nbformat": 4,
 "nbformat_minor": 2
}
